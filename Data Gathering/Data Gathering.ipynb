{
 "cells": [
  {
   "cell_type": "markdown",
   "id": "678d851b",
   "metadata": {},
   "source": [
    "## Data Analysis Process"
   ]
  },
  {
   "cell_type": "markdown",
   "id": "35931df1",
   "metadata": {},
   "source": [
    "- Asking Questions\n",
    "- Data Wrangling\n",
    "- EDA\n",
    "- Drawing Conclusions\n",
    "- Communicating Results"
   ]
  },
  {
   "cell_type": "markdown",
   "id": "0455e249",
   "metadata": {},
   "source": [
    "### Step 1: Asking Questions\n",
    "![alt text](<Screenshot 2025-08-14 114848.png>)"
   ]
  },
  {
   "cell_type": "markdown",
   "id": "a3c32357",
   "metadata": {},
   "source": [
    "### Step 2:DATA WRANGLING\n",
    "- Data wrangling, also known as data munging or data cleaning, is the process of transforming and mapping data from its raw form into a more usable format for analysis and decision-making. It involves cleaning, structuring, and enriching data from various sources to improve its quality and make it more accessible for further processing and modeling"
   ]
  },
  {
   "cell_type": "markdown",
   "id": "93e4ee8b",
   "metadata": {},
   "source": [
    "> Gathering Data \n",
    "\n",
    "> Assessing Data\n",
    "\n",
    "> Cleaning The Data"
   ]
  },
  {
   "cell_type": "markdown",
   "id": "ccc93a53",
   "metadata": {},
   "source": [
    "## Step 3:EDA\n",
    "- EXPLORING THE DATA\n",
    "- AUGMENTING DATA"
   ]
  },
  {
   "cell_type": "markdown",
   "id": "f7b0480c",
   "metadata": {},
   "source": [
    "## STEP 4:DRAWING CONCLUSIONS\n",
    "- MACHINE LEARNING\n",
    "- INFERENTIAL STATISTICS\n",
    "- DESCRIPTIVE STATISTICS"
   ]
  },
  {
   "cell_type": "markdown",
   "id": "b112082c",
   "metadata": {},
   "source": [
    "## STEP 5:COMMUNICATING RESULTS\n",
    "- IN PERSON\n",
    "- REPORTS\n",
    "- BLOG POST\n",
    "- PPTs"
   ]
  },
  {
   "cell_type": "code",
   "execution_count": 3,
   "id": "3fe54758",
   "metadata": {},
   "outputs": [],
   "source": [
    "import pandas as pd\n",
    "import numpy as np"
   ]
  },
  {
   "cell_type": "code",
   "execution_count": 2,
   "id": "f9adbac8",
   "metadata": {},
   "outputs": [
    {
     "data": {
      "application/vnd.microsoft.datawrangler.viewer.v0+json": {
       "columns": [
        {
         "name": "index",
         "rawType": "int64",
         "type": "integer"
        },
        {
         "name": "enrollee_id",
         "rawType": "int64",
         "type": "integer"
        },
        {
         "name": "city",
         "rawType": "object",
         "type": "string"
        },
        {
         "name": "city_development_index",
         "rawType": "float64",
         "type": "float"
        },
        {
         "name": "gender",
         "rawType": "object",
         "type": "unknown"
        },
        {
         "name": "relevent_experience",
         "rawType": "object",
         "type": "string"
        },
        {
         "name": "enrolled_university",
         "rawType": "object",
         "type": "unknown"
        },
        {
         "name": "education_level",
         "rawType": "object",
         "type": "string"
        },
        {
         "name": "major_discipline",
         "rawType": "object",
         "type": "string"
        },
        {
         "name": "experience",
         "rawType": "object",
         "type": "string"
        },
        {
         "name": "company_size",
         "rawType": "object",
         "type": "unknown"
        },
        {
         "name": "company_type",
         "rawType": "object",
         "type": "unknown"
        },
        {
         "name": "last_new_job",
         "rawType": "object",
         "type": "string"
        },
        {
         "name": "training_hours",
         "rawType": "int64",
         "type": "integer"
        },
        {
         "name": "target",
         "rawType": "float64",
         "type": "float"
        }
       ],
       "ref": "49a75d13-b0d0-4fe0-8e05-312cd5232593",
       "rows": [
        [
         "0",
         "8949",
         "city_103",
         "0.92",
         "Male",
         "Has relevent experience",
         "no_enrollment",
         "Graduate",
         "STEM",
         ">20",
         null,
         null,
         "1",
         "36",
         "1.0"
        ],
        [
         "1",
         "29725",
         "city_40",
         "0.7759999999999999",
         "Male",
         "No relevent experience",
         "no_enrollment",
         "Graduate",
         "STEM",
         "15",
         "50-99",
         "Pvt Ltd",
         ">4",
         "47",
         "0.0"
        ],
        [
         "2",
         "11561",
         "city_21",
         "0.624",
         null,
         "No relevent experience",
         "Full time course",
         "Graduate",
         "STEM",
         "5",
         null,
         null,
         "never",
         "83",
         "0.0"
        ],
        [
         "3",
         "33241",
         "city_115",
         "0.789",
         null,
         "No relevent experience",
         null,
         "Graduate",
         "Business Degree",
         "<1",
         null,
         "Pvt Ltd",
         "never",
         "52",
         "1.0"
        ],
        [
         "4",
         "666",
         "city_162",
         "0.767",
         "Male",
         "Has relevent experience",
         "no_enrollment",
         "Masters",
         "STEM",
         ">20",
         "50-99",
         "Funded Startup",
         "4",
         "8",
         "0.0"
        ]
       ],
       "shape": {
        "columns": 14,
        "rows": 5
       }
      },
      "text/html": [
       "<div>\n",
       "<style scoped>\n",
       "    .dataframe tbody tr th:only-of-type {\n",
       "        vertical-align: middle;\n",
       "    }\n",
       "\n",
       "    .dataframe tbody tr th {\n",
       "        vertical-align: top;\n",
       "    }\n",
       "\n",
       "    .dataframe thead th {\n",
       "        text-align: right;\n",
       "    }\n",
       "</style>\n",
       "<table border=\"1\" class=\"dataframe\">\n",
       "  <thead>\n",
       "    <tr style=\"text-align: right;\">\n",
       "      <th></th>\n",
       "      <th>enrollee_id</th>\n",
       "      <th>city</th>\n",
       "      <th>city_development_index</th>\n",
       "      <th>gender</th>\n",
       "      <th>relevent_experience</th>\n",
       "      <th>enrolled_university</th>\n",
       "      <th>education_level</th>\n",
       "      <th>major_discipline</th>\n",
       "      <th>experience</th>\n",
       "      <th>company_size</th>\n",
       "      <th>company_type</th>\n",
       "      <th>last_new_job</th>\n",
       "      <th>training_hours</th>\n",
       "      <th>target</th>\n",
       "    </tr>\n",
       "  </thead>\n",
       "  <tbody>\n",
       "    <tr>\n",
       "      <th>0</th>\n",
       "      <td>8949</td>\n",
       "      <td>city_103</td>\n",
       "      <td>0.920</td>\n",
       "      <td>Male</td>\n",
       "      <td>Has relevent experience</td>\n",
       "      <td>no_enrollment</td>\n",
       "      <td>Graduate</td>\n",
       "      <td>STEM</td>\n",
       "      <td>&gt;20</td>\n",
       "      <td>NaN</td>\n",
       "      <td>NaN</td>\n",
       "      <td>1</td>\n",
       "      <td>36</td>\n",
       "      <td>1.0</td>\n",
       "    </tr>\n",
       "    <tr>\n",
       "      <th>1</th>\n",
       "      <td>29725</td>\n",
       "      <td>city_40</td>\n",
       "      <td>0.776</td>\n",
       "      <td>Male</td>\n",
       "      <td>No relevent experience</td>\n",
       "      <td>no_enrollment</td>\n",
       "      <td>Graduate</td>\n",
       "      <td>STEM</td>\n",
       "      <td>15</td>\n",
       "      <td>50-99</td>\n",
       "      <td>Pvt Ltd</td>\n",
       "      <td>&gt;4</td>\n",
       "      <td>47</td>\n",
       "      <td>0.0</td>\n",
       "    </tr>\n",
       "    <tr>\n",
       "      <th>2</th>\n",
       "      <td>11561</td>\n",
       "      <td>city_21</td>\n",
       "      <td>0.624</td>\n",
       "      <td>NaN</td>\n",
       "      <td>No relevent experience</td>\n",
       "      <td>Full time course</td>\n",
       "      <td>Graduate</td>\n",
       "      <td>STEM</td>\n",
       "      <td>5</td>\n",
       "      <td>NaN</td>\n",
       "      <td>NaN</td>\n",
       "      <td>never</td>\n",
       "      <td>83</td>\n",
       "      <td>0.0</td>\n",
       "    </tr>\n",
       "    <tr>\n",
       "      <th>3</th>\n",
       "      <td>33241</td>\n",
       "      <td>city_115</td>\n",
       "      <td>0.789</td>\n",
       "      <td>NaN</td>\n",
       "      <td>No relevent experience</td>\n",
       "      <td>NaN</td>\n",
       "      <td>Graduate</td>\n",
       "      <td>Business Degree</td>\n",
       "      <td>&lt;1</td>\n",
       "      <td>NaN</td>\n",
       "      <td>Pvt Ltd</td>\n",
       "      <td>never</td>\n",
       "      <td>52</td>\n",
       "      <td>1.0</td>\n",
       "    </tr>\n",
       "    <tr>\n",
       "      <th>4</th>\n",
       "      <td>666</td>\n",
       "      <td>city_162</td>\n",
       "      <td>0.767</td>\n",
       "      <td>Male</td>\n",
       "      <td>Has relevent experience</td>\n",
       "      <td>no_enrollment</td>\n",
       "      <td>Masters</td>\n",
       "      <td>STEM</td>\n",
       "      <td>&gt;20</td>\n",
       "      <td>50-99</td>\n",
       "      <td>Funded Startup</td>\n",
       "      <td>4</td>\n",
       "      <td>8</td>\n",
       "      <td>0.0</td>\n",
       "    </tr>\n",
       "  </tbody>\n",
       "</table>\n",
       "</div>"
      ],
      "text/plain": [
       "   enrollee_id      city  city_development_index gender  \\\n",
       "0         8949  city_103                   0.920   Male   \n",
       "1        29725   city_40                   0.776   Male   \n",
       "2        11561   city_21                   0.624    NaN   \n",
       "3        33241  city_115                   0.789    NaN   \n",
       "4          666  city_162                   0.767   Male   \n",
       "\n",
       "       relevent_experience enrolled_university education_level  \\\n",
       "0  Has relevent experience       no_enrollment        Graduate   \n",
       "1   No relevent experience       no_enrollment        Graduate   \n",
       "2   No relevent experience    Full time course        Graduate   \n",
       "3   No relevent experience                 NaN        Graduate   \n",
       "4  Has relevent experience       no_enrollment         Masters   \n",
       "\n",
       "  major_discipline experience company_size    company_type last_new_job  \\\n",
       "0             STEM        >20          NaN             NaN            1   \n",
       "1             STEM         15        50-99         Pvt Ltd           >4   \n",
       "2             STEM          5          NaN             NaN        never   \n",
       "3  Business Degree         <1          NaN         Pvt Ltd        never   \n",
       "4             STEM        >20        50-99  Funded Startup            4   \n",
       "\n",
       "   training_hours  target  \n",
       "0              36     1.0  \n",
       "1              47     0.0  \n",
       "2              83     0.0  \n",
       "3              52     1.0  \n",
       "4               8     0.0  "
      ]
     },
     "execution_count": 2,
     "metadata": {},
     "output_type": "execute_result"
    }
   ],
   "source": [
    "# Opening a local csv file\n",
    "df=pd.read_csv(\"aug_train.csv\")\n",
    "df.head()"
   ]
  },
  {
   "cell_type": "code",
   "execution_count": null,
   "id": "1280b290",
   "metadata": {},
   "outputs": [
    {
     "data": {
      "application/vnd.microsoft.datawrangler.viewer.v0+json": {
       "columns": [
        {
         "name": "index",
         "rawType": "int64",
         "type": "integer"
        },
        {
         "name": "Country",
         "rawType": "object",
         "type": "string"
        },
        {
         "name": "Region",
         "rawType": "object",
         "type": "string"
        }
       ],
       "ref": "a820cc13-c6e1-4ced-87bd-5c1730509457",
       "rows": [
        [
         "0",
         "Algeria",
         "AFRICA"
        ],
        [
         "1",
         "Angola",
         "AFRICA"
        ],
        [
         "2",
         "Benin",
         "AFRICA"
        ],
        [
         "3",
         "Botswana",
         "AFRICA"
        ],
        [
         "4",
         "Burkina",
         "AFRICA"
        ]
       ],
       "shape": {
        "columns": 2,
        "rows": 5
       }
      },
      "text/html": [
       "<div>\n",
       "<style scoped>\n",
       "    .dataframe tbody tr th:only-of-type {\n",
       "        vertical-align: middle;\n",
       "    }\n",
       "\n",
       "    .dataframe tbody tr th {\n",
       "        vertical-align: top;\n",
       "    }\n",
       "\n",
       "    .dataframe thead th {\n",
       "        text-align: right;\n",
       "    }\n",
       "</style>\n",
       "<table border=\"1\" class=\"dataframe\">\n",
       "  <thead>\n",
       "    <tr style=\"text-align: right;\">\n",
       "      <th></th>\n",
       "      <th>Country</th>\n",
       "      <th>Region</th>\n",
       "    </tr>\n",
       "  </thead>\n",
       "  <tbody>\n",
       "    <tr>\n",
       "      <th>0</th>\n",
       "      <td>Algeria</td>\n",
       "      <td>AFRICA</td>\n",
       "    </tr>\n",
       "    <tr>\n",
       "      <th>1</th>\n",
       "      <td>Angola</td>\n",
       "      <td>AFRICA</td>\n",
       "    </tr>\n",
       "    <tr>\n",
       "      <th>2</th>\n",
       "      <td>Benin</td>\n",
       "      <td>AFRICA</td>\n",
       "    </tr>\n",
       "    <tr>\n",
       "      <th>3</th>\n",
       "      <td>Botswana</td>\n",
       "      <td>AFRICA</td>\n",
       "    </tr>\n",
       "    <tr>\n",
       "      <th>4</th>\n",
       "      <td>Burkina</td>\n",
       "      <td>AFRICA</td>\n",
       "    </tr>\n",
       "  </tbody>\n",
       "</table>\n",
       "</div>"
      ],
      "text/plain": [
       "    Country  Region\n",
       "0   Algeria  AFRICA\n",
       "1    Angola  AFRICA\n",
       "2     Benin  AFRICA\n",
       "3  Botswana  AFRICA\n",
       "4   Burkina  AFRICA"
      ]
     },
     "execution_count": 4,
     "metadata": {},
     "output_type": "execute_result"
    }
   ],
   "source": [
    "#opening a csv file from a url\n",
    "temp=pd.read_csv(\"https://raw.githubusercontent.com/cs109/2014_data/master/countries.csv\")\n",
    "temp.head()"
   ]
  },
  {
   "cell_type": "code",
   "execution_count": 10,
   "id": "b381516d",
   "metadata": {},
   "outputs": [
    {
     "data": {
      "application/vnd.microsoft.datawrangler.viewer.v0+json": {
       "columns": [
        {
         "name": "index",
         "rawType": "int64",
         "type": "integer"
        },
        {
         "name": "sno",
         "rawType": "object",
         "type": "string"
        },
        {
         "name": "title",
         "rawType": "object",
         "type": "string"
        },
        {
         "name": "release_year",
         "rawType": "object",
         "type": "string"
        },
        {
         "name": "rating",
         "rawType": "float64",
         "type": "float"
        },
        {
         "name": "votes",
         "rawType": "float64",
         "type": "float"
        },
        {
         "name": "genres",
         "rawType": "object",
         "type": "string"
        }
       ],
       "ref": "551cc56b-899d-4104-b738-42f4617d82a8",
       "rows": [
        [
         "0",
         "m1",
         "1492: conquest of paradise",
         "1992",
         "6.2",
         "10421.0",
         "['adventure' 'biography' 'drama' 'history']"
        ],
        [
         "1",
         "m2",
         "15 minutes",
         "2001",
         "6.1",
         "25854.0",
         "['action' 'crime' 'drama' 'thriller']"
        ],
        [
         "2",
         "m3",
         "2001: a space odyssey",
         "1968",
         "8.4",
         "163227.0",
         "['adventure' 'mystery' 'sci-fi']"
        ],
        [
         "3",
         "m4",
         "48 hrs.",
         "1982",
         "6.9",
         "22289.0",
         "['action' 'comedy' 'crime' 'drama' 'thriller']"
        ],
        [
         "4",
         "m5",
         "the fifth element",
         "1997",
         "7.5",
         "133756.0",
         "['action' 'adventure' 'romance' 'sci-fi' 'thriller']"
        ]
       ],
       "shape": {
        "columns": 6,
        "rows": 5
       }
      },
      "text/html": [
       "<div>\n",
       "<style scoped>\n",
       "    .dataframe tbody tr th:only-of-type {\n",
       "        vertical-align: middle;\n",
       "    }\n",
       "\n",
       "    .dataframe tbody tr th {\n",
       "        vertical-align: top;\n",
       "    }\n",
       "\n",
       "    .dataframe thead th {\n",
       "        text-align: right;\n",
       "    }\n",
       "</style>\n",
       "<table border=\"1\" class=\"dataframe\">\n",
       "  <thead>\n",
       "    <tr style=\"text-align: right;\">\n",
       "      <th></th>\n",
       "      <th>sno</th>\n",
       "      <th>title</th>\n",
       "      <th>release_year</th>\n",
       "      <th>rating</th>\n",
       "      <th>votes</th>\n",
       "      <th>genres</th>\n",
       "    </tr>\n",
       "  </thead>\n",
       "  <tbody>\n",
       "    <tr>\n",
       "      <th>0</th>\n",
       "      <td>m1</td>\n",
       "      <td>1492: conquest of paradise</td>\n",
       "      <td>1992</td>\n",
       "      <td>6.2</td>\n",
       "      <td>10421.0</td>\n",
       "      <td>['adventure' 'biography' 'drama' 'history']</td>\n",
       "    </tr>\n",
       "    <tr>\n",
       "      <th>1</th>\n",
       "      <td>m2</td>\n",
       "      <td>15 minutes</td>\n",
       "      <td>2001</td>\n",
       "      <td>6.1</td>\n",
       "      <td>25854.0</td>\n",
       "      <td>['action' 'crime' 'drama' 'thriller']</td>\n",
       "    </tr>\n",
       "    <tr>\n",
       "      <th>2</th>\n",
       "      <td>m3</td>\n",
       "      <td>2001: a space odyssey</td>\n",
       "      <td>1968</td>\n",
       "      <td>8.4</td>\n",
       "      <td>163227.0</td>\n",
       "      <td>['adventure' 'mystery' 'sci-fi']</td>\n",
       "    </tr>\n",
       "    <tr>\n",
       "      <th>3</th>\n",
       "      <td>m4</td>\n",
       "      <td>48 hrs.</td>\n",
       "      <td>1982</td>\n",
       "      <td>6.9</td>\n",
       "      <td>22289.0</td>\n",
       "      <td>['action' 'comedy' 'crime' 'drama' 'thriller']</td>\n",
       "    </tr>\n",
       "    <tr>\n",
       "      <th>4</th>\n",
       "      <td>m5</td>\n",
       "      <td>the fifth element</td>\n",
       "      <td>1997</td>\n",
       "      <td>7.5</td>\n",
       "      <td>133756.0</td>\n",
       "      <td>['action' 'adventure' 'romance' 'sci-fi' 'thri...</td>\n",
       "    </tr>\n",
       "  </tbody>\n",
       "</table>\n",
       "</div>"
      ],
      "text/plain": [
       "  sno                       title release_year  rating     votes  \\\n",
       "0  m1  1492: conquest of paradise         1992     6.2   10421.0   \n",
       "1  m2                  15 minutes         2001     6.1   25854.0   \n",
       "2  m3       2001: a space odyssey         1968     8.4  163227.0   \n",
       "3  m4                     48 hrs.         1982     6.9   22289.0   \n",
       "4  m5           the fifth element         1997     7.5  133756.0   \n",
       "\n",
       "                                              genres  \n",
       "0        ['adventure' 'biography' 'drama' 'history']  \n",
       "1              ['action' 'crime' 'drama' 'thriller']  \n",
       "2                   ['adventure' 'mystery' 'sci-fi']  \n",
       "3     ['action' 'comedy' 'crime' 'drama' 'thriller']  \n",
       "4  ['action' 'adventure' 'romance' 'sci-fi' 'thri...  "
      ]
     },
     "execution_count": 10,
     "metadata": {},
     "output_type": "execute_result"
    }
   ],
   "source": [
    "#sep parameter\n",
    "temp=pd.read_csv('movie_titles_metadata.tsv',sep='\\t',names=['sno','title','release_year','rating','votes','genres'],header=0)\n",
    "temp.head()"
   ]
  },
  {
   "cell_type": "code",
   "execution_count": 11,
   "id": "27bdcd38",
   "metadata": {},
   "outputs": [
    {
     "data": {
      "application/vnd.microsoft.datawrangler.viewer.v0+json": {
       "columns": [
        {
         "name": "enrollee_id",
         "rawType": "int64",
         "type": "integer"
        },
        {
         "name": "city",
         "rawType": "object",
         "type": "string"
        },
        {
         "name": "city_development_index",
         "rawType": "float64",
         "type": "float"
        },
        {
         "name": "gender",
         "rawType": "object",
         "type": "unknown"
        },
        {
         "name": "relevent_experience",
         "rawType": "object",
         "type": "string"
        },
        {
         "name": "enrolled_university",
         "rawType": "object",
         "type": "unknown"
        },
        {
         "name": "education_level",
         "rawType": "object",
         "type": "string"
        },
        {
         "name": "major_discipline",
         "rawType": "object",
         "type": "string"
        },
        {
         "name": "experience",
         "rawType": "object",
         "type": "string"
        },
        {
         "name": "company_size",
         "rawType": "object",
         "type": "unknown"
        },
        {
         "name": "company_type",
         "rawType": "object",
         "type": "unknown"
        },
        {
         "name": "last_new_job",
         "rawType": "object",
         "type": "string"
        },
        {
         "name": "training_hours",
         "rawType": "int64",
         "type": "integer"
        },
        {
         "name": "target",
         "rawType": "float64",
         "type": "float"
        }
       ],
       "ref": "def3d4ce-502a-4683-861b-e8c8bb00fae9",
       "rows": [
        [
         "8949",
         "city_103",
         "0.92",
         "Male",
         "Has relevent experience",
         "no_enrollment",
         "Graduate",
         "STEM",
         ">20",
         null,
         null,
         "1",
         "36",
         "1.0"
        ],
        [
         "29725",
         "city_40",
         "0.7759999999999999",
         "Male",
         "No relevent experience",
         "no_enrollment",
         "Graduate",
         "STEM",
         "15",
         "50-99",
         "Pvt Ltd",
         ">4",
         "47",
         "0.0"
        ],
        [
         "11561",
         "city_21",
         "0.624",
         null,
         "No relevent experience",
         "Full time course",
         "Graduate",
         "STEM",
         "5",
         null,
         null,
         "never",
         "83",
         "0.0"
        ],
        [
         "33241",
         "city_115",
         "0.789",
         null,
         "No relevent experience",
         null,
         "Graduate",
         "Business Degree",
         "<1",
         null,
         "Pvt Ltd",
         "never",
         "52",
         "1.0"
        ],
        [
         "666",
         "city_162",
         "0.767",
         "Male",
         "Has relevent experience",
         "no_enrollment",
         "Masters",
         "STEM",
         ">20",
         "50-99",
         "Funded Startup",
         "4",
         "8",
         "0.0"
        ]
       ],
       "shape": {
        "columns": 13,
        "rows": 5
       }
      },
      "text/html": [
       "<div>\n",
       "<style scoped>\n",
       "    .dataframe tbody tr th:only-of-type {\n",
       "        vertical-align: middle;\n",
       "    }\n",
       "\n",
       "    .dataframe tbody tr th {\n",
       "        vertical-align: top;\n",
       "    }\n",
       "\n",
       "    .dataframe thead th {\n",
       "        text-align: right;\n",
       "    }\n",
       "</style>\n",
       "<table border=\"1\" class=\"dataframe\">\n",
       "  <thead>\n",
       "    <tr style=\"text-align: right;\">\n",
       "      <th></th>\n",
       "      <th>city</th>\n",
       "      <th>city_development_index</th>\n",
       "      <th>gender</th>\n",
       "      <th>relevent_experience</th>\n",
       "      <th>enrolled_university</th>\n",
       "      <th>education_level</th>\n",
       "      <th>major_discipline</th>\n",
       "      <th>experience</th>\n",
       "      <th>company_size</th>\n",
       "      <th>company_type</th>\n",
       "      <th>last_new_job</th>\n",
       "      <th>training_hours</th>\n",
       "      <th>target</th>\n",
       "    </tr>\n",
       "    <tr>\n",
       "      <th>enrollee_id</th>\n",
       "      <th></th>\n",
       "      <th></th>\n",
       "      <th></th>\n",
       "      <th></th>\n",
       "      <th></th>\n",
       "      <th></th>\n",
       "      <th></th>\n",
       "      <th></th>\n",
       "      <th></th>\n",
       "      <th></th>\n",
       "      <th></th>\n",
       "      <th></th>\n",
       "      <th></th>\n",
       "    </tr>\n",
       "  </thead>\n",
       "  <tbody>\n",
       "    <tr>\n",
       "      <th>8949</th>\n",
       "      <td>city_103</td>\n",
       "      <td>0.920</td>\n",
       "      <td>Male</td>\n",
       "      <td>Has relevent experience</td>\n",
       "      <td>no_enrollment</td>\n",
       "      <td>Graduate</td>\n",
       "      <td>STEM</td>\n",
       "      <td>&gt;20</td>\n",
       "      <td>NaN</td>\n",
       "      <td>NaN</td>\n",
       "      <td>1</td>\n",
       "      <td>36</td>\n",
       "      <td>1.0</td>\n",
       "    </tr>\n",
       "    <tr>\n",
       "      <th>29725</th>\n",
       "      <td>city_40</td>\n",
       "      <td>0.776</td>\n",
       "      <td>Male</td>\n",
       "      <td>No relevent experience</td>\n",
       "      <td>no_enrollment</td>\n",
       "      <td>Graduate</td>\n",
       "      <td>STEM</td>\n",
       "      <td>15</td>\n",
       "      <td>50-99</td>\n",
       "      <td>Pvt Ltd</td>\n",
       "      <td>&gt;4</td>\n",
       "      <td>47</td>\n",
       "      <td>0.0</td>\n",
       "    </tr>\n",
       "    <tr>\n",
       "      <th>11561</th>\n",
       "      <td>city_21</td>\n",
       "      <td>0.624</td>\n",
       "      <td>NaN</td>\n",
       "      <td>No relevent experience</td>\n",
       "      <td>Full time course</td>\n",
       "      <td>Graduate</td>\n",
       "      <td>STEM</td>\n",
       "      <td>5</td>\n",
       "      <td>NaN</td>\n",
       "      <td>NaN</td>\n",
       "      <td>never</td>\n",
       "      <td>83</td>\n",
       "      <td>0.0</td>\n",
       "    </tr>\n",
       "    <tr>\n",
       "      <th>33241</th>\n",
       "      <td>city_115</td>\n",
       "      <td>0.789</td>\n",
       "      <td>NaN</td>\n",
       "      <td>No relevent experience</td>\n",
       "      <td>NaN</td>\n",
       "      <td>Graduate</td>\n",
       "      <td>Business Degree</td>\n",
       "      <td>&lt;1</td>\n",
       "      <td>NaN</td>\n",
       "      <td>Pvt Ltd</td>\n",
       "      <td>never</td>\n",
       "      <td>52</td>\n",
       "      <td>1.0</td>\n",
       "    </tr>\n",
       "    <tr>\n",
       "      <th>666</th>\n",
       "      <td>city_162</td>\n",
       "      <td>0.767</td>\n",
       "      <td>Male</td>\n",
       "      <td>Has relevent experience</td>\n",
       "      <td>no_enrollment</td>\n",
       "      <td>Masters</td>\n",
       "      <td>STEM</td>\n",
       "      <td>&gt;20</td>\n",
       "      <td>50-99</td>\n",
       "      <td>Funded Startup</td>\n",
       "      <td>4</td>\n",
       "      <td>8</td>\n",
       "      <td>0.0</td>\n",
       "    </tr>\n",
       "  </tbody>\n",
       "</table>\n",
       "</div>"
      ],
      "text/plain": [
       "                 city  city_development_index gender      relevent_experience  \\\n",
       "enrollee_id                                                                     \n",
       "8949         city_103                   0.920   Male  Has relevent experience   \n",
       "29725         city_40                   0.776   Male   No relevent experience   \n",
       "11561         city_21                   0.624    NaN   No relevent experience   \n",
       "33241        city_115                   0.789    NaN   No relevent experience   \n",
       "666          city_162                   0.767   Male  Has relevent experience   \n",
       "\n",
       "            enrolled_university education_level major_discipline experience  \\\n",
       "enrollee_id                                                                   \n",
       "8949              no_enrollment        Graduate             STEM        >20   \n",
       "29725             no_enrollment        Graduate             STEM         15   \n",
       "11561          Full time course        Graduate             STEM          5   \n",
       "33241                       NaN        Graduate  Business Degree         <1   \n",
       "666               no_enrollment         Masters             STEM        >20   \n",
       "\n",
       "            company_size    company_type last_new_job  training_hours  target  \n",
       "enrollee_id                                                                    \n",
       "8949                 NaN             NaN            1              36     1.0  \n",
       "29725              50-99         Pvt Ltd           >4              47     0.0  \n",
       "11561                NaN             NaN        never              83     0.0  \n",
       "33241                NaN         Pvt Ltd        never              52     1.0  \n",
       "666                50-99  Funded Startup            4               8     0.0  "
      ]
     },
     "execution_count": 11,
     "metadata": {},
     "output_type": "execute_result"
    }
   ],
   "source": [
    "#index_col parameter\n",
    "pd.read_csv('aug_train.csv',index_col='enrollee_id').head()"
   ]
  },
  {
   "cell_type": "code",
   "execution_count": 13,
   "id": "7d20eba8",
   "metadata": {},
   "outputs": [
    {
     "data": {
      "application/vnd.microsoft.datawrangler.viewer.v0+json": {
       "columns": [
        {
         "name": "index",
         "rawType": "int64",
         "type": "integer"
        },
        {
         "name": "0",
         "rawType": "int64",
         "type": "integer"
        },
        {
         "name": "enrollee_id",
         "rawType": "int64",
         "type": "integer"
        },
        {
         "name": "city",
         "rawType": "object",
         "type": "string"
        },
        {
         "name": "city_development_index",
         "rawType": "float64",
         "type": "float"
        },
        {
         "name": "gender",
         "rawType": "object",
         "type": "unknown"
        },
        {
         "name": "relevent_experience",
         "rawType": "object",
         "type": "string"
        },
        {
         "name": "enrolled_university",
         "rawType": "object",
         "type": "unknown"
        },
        {
         "name": "education_level",
         "rawType": "object",
         "type": "string"
        },
        {
         "name": "major_discipline",
         "rawType": "object",
         "type": "string"
        },
        {
         "name": "experience",
         "rawType": "object",
         "type": "string"
        },
        {
         "name": "company_size",
         "rawType": "object",
         "type": "unknown"
        },
        {
         "name": "company_type",
         "rawType": "object",
         "type": "unknown"
        },
        {
         "name": "last_new_job",
         "rawType": "object",
         "type": "string"
        },
        {
         "name": "training_hours",
         "rawType": "int64",
         "type": "integer"
        },
        {
         "name": "target",
         "rawType": "int64",
         "type": "integer"
        }
       ],
       "ref": "e84f59e4-3602-434a-a47f-3dcdb63be762",
       "rows": [
        [
         "0",
         "1",
         "29725",
         "city_40",
         "0.776",
         "Male",
         "No relevent experience",
         "no_enrollment",
         "Graduate",
         "STEM",
         "15",
         "50-99",
         "Pvt Ltd",
         ">4",
         "47",
         "0"
        ],
        [
         "1",
         "2",
         "11561",
         "city_21",
         "0.624",
         null,
         "No relevent experience",
         "Full time course",
         "Graduate",
         "STEM",
         "5",
         null,
         null,
         "never",
         "83",
         "0"
        ],
        [
         "2",
         "3",
         "33241",
         "city_115",
         "0.789",
         null,
         "No relevent experience",
         null,
         "Graduate",
         "Business Degree",
         "<1",
         null,
         "Pvt Ltd",
         "never",
         "52",
         "1"
        ],
        [
         "3",
         "4",
         "666",
         "city_162",
         "0.767",
         "Male",
         "Has relevent experience",
         "no_enrollment",
         "Masters",
         "STEM",
         ">20",
         "50-99",
         "Funded Startup",
         "4",
         "8",
         "0"
        ]
       ],
       "shape": {
        "columns": 15,
        "rows": 4
       }
      },
      "text/html": [
       "<div>\n",
       "<style scoped>\n",
       "    .dataframe tbody tr th:only-of-type {\n",
       "        vertical-align: middle;\n",
       "    }\n",
       "\n",
       "    .dataframe tbody tr th {\n",
       "        vertical-align: top;\n",
       "    }\n",
       "\n",
       "    .dataframe thead th {\n",
       "        text-align: right;\n",
       "    }\n",
       "</style>\n",
       "<table border=\"1\" class=\"dataframe\">\n",
       "  <thead>\n",
       "    <tr style=\"text-align: right;\">\n",
       "      <th></th>\n",
       "      <th>0</th>\n",
       "      <th>enrollee_id</th>\n",
       "      <th>city</th>\n",
       "      <th>city_development_index</th>\n",
       "      <th>gender</th>\n",
       "      <th>relevent_experience</th>\n",
       "      <th>enrolled_university</th>\n",
       "      <th>education_level</th>\n",
       "      <th>major_discipline</th>\n",
       "      <th>experience</th>\n",
       "      <th>company_size</th>\n",
       "      <th>company_type</th>\n",
       "      <th>last_new_job</th>\n",
       "      <th>training_hours</th>\n",
       "      <th>target</th>\n",
       "    </tr>\n",
       "  </thead>\n",
       "  <tbody>\n",
       "    <tr>\n",
       "      <th>0</th>\n",
       "      <td>1</td>\n",
       "      <td>29725</td>\n",
       "      <td>city_40</td>\n",
       "      <td>0.776</td>\n",
       "      <td>Male</td>\n",
       "      <td>No relevent experience</td>\n",
       "      <td>no_enrollment</td>\n",
       "      <td>Graduate</td>\n",
       "      <td>STEM</td>\n",
       "      <td>15</td>\n",
       "      <td>50-99</td>\n",
       "      <td>Pvt Ltd</td>\n",
       "      <td>&gt;4</td>\n",
       "      <td>47</td>\n",
       "      <td>0</td>\n",
       "    </tr>\n",
       "    <tr>\n",
       "      <th>1</th>\n",
       "      <td>2</td>\n",
       "      <td>11561</td>\n",
       "      <td>city_21</td>\n",
       "      <td>0.624</td>\n",
       "      <td>NaN</td>\n",
       "      <td>No relevent experience</td>\n",
       "      <td>Full time course</td>\n",
       "      <td>Graduate</td>\n",
       "      <td>STEM</td>\n",
       "      <td>5</td>\n",
       "      <td>NaN</td>\n",
       "      <td>NaN</td>\n",
       "      <td>never</td>\n",
       "      <td>83</td>\n",
       "      <td>0</td>\n",
       "    </tr>\n",
       "    <tr>\n",
       "      <th>2</th>\n",
       "      <td>3</td>\n",
       "      <td>33241</td>\n",
       "      <td>city_115</td>\n",
       "      <td>0.789</td>\n",
       "      <td>NaN</td>\n",
       "      <td>No relevent experience</td>\n",
       "      <td>NaN</td>\n",
       "      <td>Graduate</td>\n",
       "      <td>Business Degree</td>\n",
       "      <td>&lt;1</td>\n",
       "      <td>NaN</td>\n",
       "      <td>Pvt Ltd</td>\n",
       "      <td>never</td>\n",
       "      <td>52</td>\n",
       "      <td>1</td>\n",
       "    </tr>\n",
       "    <tr>\n",
       "      <th>3</th>\n",
       "      <td>4</td>\n",
       "      <td>666</td>\n",
       "      <td>city_162</td>\n",
       "      <td>0.767</td>\n",
       "      <td>Male</td>\n",
       "      <td>Has relevent experience</td>\n",
       "      <td>no_enrollment</td>\n",
       "      <td>Masters</td>\n",
       "      <td>STEM</td>\n",
       "      <td>&gt;20</td>\n",
       "      <td>50-99</td>\n",
       "      <td>Funded Startup</td>\n",
       "      <td>4</td>\n",
       "      <td>8</td>\n",
       "      <td>0</td>\n",
       "    </tr>\n",
       "  </tbody>\n",
       "</table>\n",
       "</div>"
      ],
      "text/plain": [
       "   0  enrollee_id      city  city_development_index gender  \\\n",
       "0  1        29725   city_40                   0.776   Male   \n",
       "1  2        11561   city_21                   0.624    NaN   \n",
       "2  3        33241  city_115                   0.789    NaN   \n",
       "3  4          666  city_162                   0.767   Male   \n",
       "\n",
       "       relevent_experience enrolled_university education_level  \\\n",
       "0   No relevent experience       no_enrollment        Graduate   \n",
       "1   No relevent experience    Full time course        Graduate   \n",
       "2   No relevent experience                 NaN        Graduate   \n",
       "3  Has relevent experience       no_enrollment         Masters   \n",
       "\n",
       "  major_discipline experience company_size    company_type last_new_job  \\\n",
       "0             STEM         15        50-99         Pvt Ltd           >4   \n",
       "1             STEM          5          NaN             NaN        never   \n",
       "2  Business Degree         <1          NaN         Pvt Ltd        never   \n",
       "3             STEM        >20        50-99  Funded Startup            4   \n",
       "\n",
       "   training_hours  target  \n",
       "0              47       0  \n",
       "1              83       0  \n",
       "2              52       1  \n",
       "3               8       0  "
      ]
     },
     "execution_count": 13,
     "metadata": {},
     "output_type": "execute_result"
    }
   ],
   "source": [
    "#Header parameter\n",
    "pd.read_csv('test.csv',header=1).head()"
   ]
  },
  {
   "cell_type": "code",
   "execution_count": 15,
   "id": "306afa58",
   "metadata": {},
   "outputs": [
    {
     "data": {
      "application/vnd.microsoft.datawrangler.viewer.v0+json": {
       "columns": [
        {
         "name": "index",
         "rawType": "int64",
         "type": "integer"
        },
        {
         "name": "enrollee_id",
         "rawType": "int64",
         "type": "integer"
        },
        {
         "name": "gender",
         "rawType": "object",
         "type": "unknown"
        },
        {
         "name": "education_level",
         "rawType": "object",
         "type": "string"
        }
       ],
       "ref": "01817a6a-643f-42c1-a2c5-88e80c40ef3b",
       "rows": [
        [
         "0",
         "8949",
         "Male",
         "Graduate"
        ],
        [
         "1",
         "29725",
         "Male",
         "Graduate"
        ],
        [
         "2",
         "11561",
         null,
         "Graduate"
        ],
        [
         "3",
         "33241",
         null,
         "Graduate"
        ],
        [
         "4",
         "666",
         "Male",
         "Masters"
        ]
       ],
       "shape": {
        "columns": 3,
        "rows": 5
       }
      },
      "text/html": [
       "<div>\n",
       "<style scoped>\n",
       "    .dataframe tbody tr th:only-of-type {\n",
       "        vertical-align: middle;\n",
       "    }\n",
       "\n",
       "    .dataframe tbody tr th {\n",
       "        vertical-align: top;\n",
       "    }\n",
       "\n",
       "    .dataframe thead th {\n",
       "        text-align: right;\n",
       "    }\n",
       "</style>\n",
       "<table border=\"1\" class=\"dataframe\">\n",
       "  <thead>\n",
       "    <tr style=\"text-align: right;\">\n",
       "      <th></th>\n",
       "      <th>enrollee_id</th>\n",
       "      <th>gender</th>\n",
       "      <th>education_level</th>\n",
       "    </tr>\n",
       "  </thead>\n",
       "  <tbody>\n",
       "    <tr>\n",
       "      <th>0</th>\n",
       "      <td>8949</td>\n",
       "      <td>Male</td>\n",
       "      <td>Graduate</td>\n",
       "    </tr>\n",
       "    <tr>\n",
       "      <th>1</th>\n",
       "      <td>29725</td>\n",
       "      <td>Male</td>\n",
       "      <td>Graduate</td>\n",
       "    </tr>\n",
       "    <tr>\n",
       "      <th>2</th>\n",
       "      <td>11561</td>\n",
       "      <td>NaN</td>\n",
       "      <td>Graduate</td>\n",
       "    </tr>\n",
       "    <tr>\n",
       "      <th>3</th>\n",
       "      <td>33241</td>\n",
       "      <td>NaN</td>\n",
       "      <td>Graduate</td>\n",
       "    </tr>\n",
       "    <tr>\n",
       "      <th>4</th>\n",
       "      <td>666</td>\n",
       "      <td>Male</td>\n",
       "      <td>Masters</td>\n",
       "    </tr>\n",
       "  </tbody>\n",
       "</table>\n",
       "</div>"
      ],
      "text/plain": [
       "   enrollee_id gender education_level\n",
       "0         8949   Male        Graduate\n",
       "1        29725   Male        Graduate\n",
       "2        11561    NaN        Graduate\n",
       "3        33241    NaN        Graduate\n",
       "4          666   Male         Masters"
      ]
     },
     "execution_count": 15,
     "metadata": {},
     "output_type": "execute_result"
    }
   ],
   "source": [
    "#usecols parameter\n",
    "pd.read_csv('aug_train.csv',usecols=['enrollee_id','gender','education_level']).head()"
   ]
  },
  {
   "cell_type": "code",
   "execution_count": 19,
   "id": "c9309e05",
   "metadata": {},
   "outputs": [
    {
     "data": {
      "application/vnd.microsoft.datawrangler.viewer.v0+json": {
       "columns": [
        {
         "name": "index",
         "rawType": "int64",
         "type": "integer"
        },
        {
         "name": "enrollee_id",
         "rawType": "int64",
         "type": "integer"
        },
        {
         "name": "gender",
         "rawType": "object",
         "type": "unknown"
        },
        {
         "name": "education_level",
         "rawType": "object",
         "type": "string"
        }
       ],
       "ref": "23ff6231-3c00-42ad-8085-987ccb8b0ec0",
       "rows": [
        [
         "0",
         "8949",
         "Male",
         "Graduate"
        ],
        [
         "1",
         "29725",
         "Male",
         "Graduate"
        ],
        [
         "2",
         "11561",
         null,
         "Graduate"
        ],
        [
         "3",
         "33241",
         null,
         "Graduate"
        ],
        [
         "4",
         "666",
         "Male",
         "Masters"
        ]
       ],
       "shape": {
        "columns": 3,
        "rows": 5
       }
      },
      "text/html": [
       "<div>\n",
       "<style scoped>\n",
       "    .dataframe tbody tr th:only-of-type {\n",
       "        vertical-align: middle;\n",
       "    }\n",
       "\n",
       "    .dataframe tbody tr th {\n",
       "        vertical-align: top;\n",
       "    }\n",
       "\n",
       "    .dataframe thead th {\n",
       "        text-align: right;\n",
       "    }\n",
       "</style>\n",
       "<table border=\"1\" class=\"dataframe\">\n",
       "  <thead>\n",
       "    <tr style=\"text-align: right;\">\n",
       "      <th></th>\n",
       "      <th>enrollee_id</th>\n",
       "      <th>gender</th>\n",
       "      <th>education_level</th>\n",
       "    </tr>\n",
       "  </thead>\n",
       "  <tbody>\n",
       "    <tr>\n",
       "      <th>0</th>\n",
       "      <td>8949</td>\n",
       "      <td>Male</td>\n",
       "      <td>Graduate</td>\n",
       "    </tr>\n",
       "    <tr>\n",
       "      <th>1</th>\n",
       "      <td>29725</td>\n",
       "      <td>Male</td>\n",
       "      <td>Graduate</td>\n",
       "    </tr>\n",
       "    <tr>\n",
       "      <th>2</th>\n",
       "      <td>11561</td>\n",
       "      <td>NaN</td>\n",
       "      <td>Graduate</td>\n",
       "    </tr>\n",
       "    <tr>\n",
       "      <th>3</th>\n",
       "      <td>33241</td>\n",
       "      <td>NaN</td>\n",
       "      <td>Graduate</td>\n",
       "    </tr>\n",
       "    <tr>\n",
       "      <th>4</th>\n",
       "      <td>666</td>\n",
       "      <td>Male</td>\n",
       "      <td>Masters</td>\n",
       "    </tr>\n",
       "  </tbody>\n",
       "</table>\n",
       "</div>"
      ],
      "text/plain": [
       "   enrollee_id gender education_level\n",
       "0         8949   Male        Graduate\n",
       "1        29725   Male        Graduate\n",
       "2        11561    NaN        Graduate\n",
       "3        33241    NaN        Graduate\n",
       "4          666   Male         Masters"
      ]
     },
     "execution_count": 19,
     "metadata": {},
     "output_type": "execute_result"
    }
   ],
   "source": [
    "# squeeze parameters\n",
    "d=pd.read_csv('aug_train.csv',usecols=['enrollee_id','gender','education_level']).head()\n",
    "d.squeeze()"
   ]
  },
  {
   "cell_type": "code",
   "execution_count": 20,
   "id": "d9eac4e4",
   "metadata": {},
   "outputs": [
    {
     "data": {
      "application/vnd.microsoft.datawrangler.viewer.v0+json": {
       "columns": [
        {
         "name": "index",
         "rawType": "int64",
         "type": "integer"
        },
        {
         "name": "666",
         "rawType": "int64",
         "type": "integer"
        },
        {
         "name": "city_162",
         "rawType": "object",
         "type": "string"
        },
        {
         "name": "0.767",
         "rawType": "float64",
         "type": "float"
        },
        {
         "name": "Male",
         "rawType": "object",
         "type": "unknown"
        },
        {
         "name": "Has relevent experience",
         "rawType": "object",
         "type": "string"
        },
        {
         "name": "no_enrollment",
         "rawType": "object",
         "type": "string"
        },
        {
         "name": "Masters",
         "rawType": "object",
         "type": "string"
        },
        {
         "name": "STEM",
         "rawType": "object",
         "type": "unknown"
        },
        {
         "name": ">20",
         "rawType": "object",
         "type": "string"
        },
        {
         "name": "50-99",
         "rawType": "object",
         "type": "unknown"
        },
        {
         "name": "Funded Startup",
         "rawType": "object",
         "type": "unknown"
        },
        {
         "name": "4",
         "rawType": "object",
         "type": "string"
        },
        {
         "name": "8",
         "rawType": "int64",
         "type": "integer"
        },
        {
         "name": "0.0",
         "rawType": "float64",
         "type": "float"
        }
       ],
       "ref": "67c298cd-3ae9-49dd-bc2d-50e7f2477a27",
       "rows": [
        [
         "0",
         "21651",
         "city_176",
         "0.764",
         null,
         "Has relevent experience",
         "Part time course",
         "Graduate",
         "STEM",
         "11",
         null,
         null,
         "1",
         "24",
         "1.0"
        ],
        [
         "1",
         "28806",
         "city_160",
         "0.92",
         "Male",
         "Has relevent experience",
         "no_enrollment",
         "High School",
         null,
         "5",
         "50-99",
         "Funded Startup",
         "1",
         "24",
         "0.0"
        ],
        [
         "2",
         "402",
         "city_46",
         "0.762",
         "Male",
         "Has relevent experience",
         "no_enrollment",
         "Graduate",
         "STEM",
         "13",
         "<10",
         "Pvt Ltd",
         ">4",
         "18",
         "1.0"
        ],
        [
         "3",
         "27107",
         "city_103",
         "0.92",
         "Male",
         "Has relevent experience",
         "no_enrollment",
         "Graduate",
         "STEM",
         "7",
         "50-99",
         "Pvt Ltd",
         "1",
         "46",
         "1.0"
        ],
        [
         "4",
         "699",
         "city_103",
         "0.92",
         null,
         "Has relevent experience",
         "no_enrollment",
         "Graduate",
         "STEM",
         "17",
         "10000+",
         "Pvt Ltd",
         ">4",
         "123",
         "0.0"
        ]
       ],
       "shape": {
        "columns": 14,
        "rows": 5
       }
      },
      "text/html": [
       "<div>\n",
       "<style scoped>\n",
       "    .dataframe tbody tr th:only-of-type {\n",
       "        vertical-align: middle;\n",
       "    }\n",
       "\n",
       "    .dataframe tbody tr th {\n",
       "        vertical-align: top;\n",
       "    }\n",
       "\n",
       "    .dataframe thead th {\n",
       "        text-align: right;\n",
       "    }\n",
       "</style>\n",
       "<table border=\"1\" class=\"dataframe\">\n",
       "  <thead>\n",
       "    <tr style=\"text-align: right;\">\n",
       "      <th></th>\n",
       "      <th>666</th>\n",
       "      <th>city_162</th>\n",
       "      <th>0.767</th>\n",
       "      <th>Male</th>\n",
       "      <th>Has relevent experience</th>\n",
       "      <th>no_enrollment</th>\n",
       "      <th>Masters</th>\n",
       "      <th>STEM</th>\n",
       "      <th>&gt;20</th>\n",
       "      <th>50-99</th>\n",
       "      <th>Funded Startup</th>\n",
       "      <th>4</th>\n",
       "      <th>8</th>\n",
       "      <th>0.0</th>\n",
       "    </tr>\n",
       "  </thead>\n",
       "  <tbody>\n",
       "    <tr>\n",
       "      <th>0</th>\n",
       "      <td>21651</td>\n",
       "      <td>city_176</td>\n",
       "      <td>0.764</td>\n",
       "      <td>NaN</td>\n",
       "      <td>Has relevent experience</td>\n",
       "      <td>Part time course</td>\n",
       "      <td>Graduate</td>\n",
       "      <td>STEM</td>\n",
       "      <td>11</td>\n",
       "      <td>NaN</td>\n",
       "      <td>NaN</td>\n",
       "      <td>1</td>\n",
       "      <td>24</td>\n",
       "      <td>1.0</td>\n",
       "    </tr>\n",
       "    <tr>\n",
       "      <th>1</th>\n",
       "      <td>28806</td>\n",
       "      <td>city_160</td>\n",
       "      <td>0.920</td>\n",
       "      <td>Male</td>\n",
       "      <td>Has relevent experience</td>\n",
       "      <td>no_enrollment</td>\n",
       "      <td>High School</td>\n",
       "      <td>NaN</td>\n",
       "      <td>5</td>\n",
       "      <td>50-99</td>\n",
       "      <td>Funded Startup</td>\n",
       "      <td>1</td>\n",
       "      <td>24</td>\n",
       "      <td>0.0</td>\n",
       "    </tr>\n",
       "    <tr>\n",
       "      <th>2</th>\n",
       "      <td>402</td>\n",
       "      <td>city_46</td>\n",
       "      <td>0.762</td>\n",
       "      <td>Male</td>\n",
       "      <td>Has relevent experience</td>\n",
       "      <td>no_enrollment</td>\n",
       "      <td>Graduate</td>\n",
       "      <td>STEM</td>\n",
       "      <td>13</td>\n",
       "      <td>&lt;10</td>\n",
       "      <td>Pvt Ltd</td>\n",
       "      <td>&gt;4</td>\n",
       "      <td>18</td>\n",
       "      <td>1.0</td>\n",
       "    </tr>\n",
       "    <tr>\n",
       "      <th>3</th>\n",
       "      <td>27107</td>\n",
       "      <td>city_103</td>\n",
       "      <td>0.920</td>\n",
       "      <td>Male</td>\n",
       "      <td>Has relevent experience</td>\n",
       "      <td>no_enrollment</td>\n",
       "      <td>Graduate</td>\n",
       "      <td>STEM</td>\n",
       "      <td>7</td>\n",
       "      <td>50-99</td>\n",
       "      <td>Pvt Ltd</td>\n",
       "      <td>1</td>\n",
       "      <td>46</td>\n",
       "      <td>1.0</td>\n",
       "    </tr>\n",
       "    <tr>\n",
       "      <th>4</th>\n",
       "      <td>699</td>\n",
       "      <td>city_103</td>\n",
       "      <td>0.920</td>\n",
       "      <td>NaN</td>\n",
       "      <td>Has relevent experience</td>\n",
       "      <td>no_enrollment</td>\n",
       "      <td>Graduate</td>\n",
       "      <td>STEM</td>\n",
       "      <td>17</td>\n",
       "      <td>10000+</td>\n",
       "      <td>Pvt Ltd</td>\n",
       "      <td>&gt;4</td>\n",
       "      <td>123</td>\n",
       "      <td>0.0</td>\n",
       "    </tr>\n",
       "  </tbody>\n",
       "</table>\n",
       "</div>"
      ],
      "text/plain": [
       "     666  city_162  0.767  Male  Has relevent experience     no_enrollment  \\\n",
       "0  21651  city_176  0.764   NaN  Has relevent experience  Part time course   \n",
       "1  28806  city_160  0.920  Male  Has relevent experience     no_enrollment   \n",
       "2    402   city_46  0.762  Male  Has relevent experience     no_enrollment   \n",
       "3  27107  city_103  0.920  Male  Has relevent experience     no_enrollment   \n",
       "4    699  city_103  0.920   NaN  Has relevent experience     no_enrollment   \n",
       "\n",
       "       Masters  STEM >20   50-99  Funded Startup   4    8  0.0  \n",
       "0     Graduate  STEM  11     NaN             NaN   1   24  1.0  \n",
       "1  High School   NaN   5   50-99  Funded Startup   1   24  0.0  \n",
       "2     Graduate  STEM  13     <10         Pvt Ltd  >4   18  1.0  \n",
       "3     Graduate  STEM   7   50-99         Pvt Ltd   1   46  1.0  \n",
       "4     Graduate  STEM  17  10000+         Pvt Ltd  >4  123  0.0  "
      ]
     },
     "execution_count": 20,
     "metadata": {},
     "output_type": "execute_result"
    }
   ],
   "source": [
    "#Skips the first 5 rows\n",
    "pd.read_csv('aug_train.csv',skiprows=5).head()"
   ]
  },
  {
   "cell_type": "code",
   "execution_count": 21,
   "id": "e610ff4a",
   "metadata": {},
   "outputs": [
    {
     "data": {
      "application/vnd.microsoft.datawrangler.viewer.v0+json": {
       "columns": [
        {
         "name": "index",
         "rawType": "int64",
         "type": "integer"
        },
        {
         "name": "enrollee_id",
         "rawType": "int64",
         "type": "integer"
        },
        {
         "name": "city",
         "rawType": "object",
         "type": "string"
        },
        {
         "name": "city_development_index",
         "rawType": "float64",
         "type": "float"
        },
        {
         "name": "gender",
         "rawType": "object",
         "type": "unknown"
        },
        {
         "name": "relevent_experience",
         "rawType": "object",
         "type": "string"
        },
        {
         "name": "enrolled_university",
         "rawType": "object",
         "type": "unknown"
        },
        {
         "name": "education_level",
         "rawType": "object",
         "type": "string"
        },
        {
         "name": "major_discipline",
         "rawType": "object",
         "type": "string"
        },
        {
         "name": "experience",
         "rawType": "object",
         "type": "string"
        },
        {
         "name": "company_size",
         "rawType": "object",
         "type": "unknown"
        },
        {
         "name": "company_type",
         "rawType": "object",
         "type": "unknown"
        },
        {
         "name": "last_new_job",
         "rawType": "object",
         "type": "string"
        },
        {
         "name": "training_hours",
         "rawType": "int64",
         "type": "integer"
        },
        {
         "name": "target",
         "rawType": "float64",
         "type": "float"
        }
       ],
       "ref": "b34dc870-0d0d-4370-aea3-768e579fa204",
       "rows": [
        [
         "0",
         "8949",
         "city_103",
         "0.92",
         "Male",
         "Has relevent experience",
         "no_enrollment",
         "Graduate",
         "STEM",
         ">20",
         null,
         null,
         "1",
         "36",
         "1.0"
        ],
        [
         "1",
         "29725",
         "city_40",
         "0.7759999999999999",
         "Male",
         "No relevent experience",
         "no_enrollment",
         "Graduate",
         "STEM",
         "15",
         "50-99",
         "Pvt Ltd",
         ">4",
         "47",
         "0.0"
        ],
        [
         "2",
         "11561",
         "city_21",
         "0.624",
         null,
         "No relevent experience",
         "Full time course",
         "Graduate",
         "STEM",
         "5",
         null,
         null,
         "never",
         "83",
         "0.0"
        ],
        [
         "3",
         "33241",
         "city_115",
         "0.789",
         null,
         "No relevent experience",
         null,
         "Graduate",
         "Business Degree",
         "<1",
         null,
         "Pvt Ltd",
         "never",
         "52",
         "1.0"
        ],
        [
         "4",
         "666",
         "city_162",
         "0.767",
         "Male",
         "Has relevent experience",
         "no_enrollment",
         "Masters",
         "STEM",
         ">20",
         "50-99",
         "Funded Startup",
         "4",
         "8",
         "0.0"
        ]
       ],
       "shape": {
        "columns": 14,
        "rows": 5
       }
      },
      "text/html": [
       "<div>\n",
       "<style scoped>\n",
       "    .dataframe tbody tr th:only-of-type {\n",
       "        vertical-align: middle;\n",
       "    }\n",
       "\n",
       "    .dataframe tbody tr th {\n",
       "        vertical-align: top;\n",
       "    }\n",
       "\n",
       "    .dataframe thead th {\n",
       "        text-align: right;\n",
       "    }\n",
       "</style>\n",
       "<table border=\"1\" class=\"dataframe\">\n",
       "  <thead>\n",
       "    <tr style=\"text-align: right;\">\n",
       "      <th></th>\n",
       "      <th>enrollee_id</th>\n",
       "      <th>city</th>\n",
       "      <th>city_development_index</th>\n",
       "      <th>gender</th>\n",
       "      <th>relevent_experience</th>\n",
       "      <th>enrolled_university</th>\n",
       "      <th>education_level</th>\n",
       "      <th>major_discipline</th>\n",
       "      <th>experience</th>\n",
       "      <th>company_size</th>\n",
       "      <th>company_type</th>\n",
       "      <th>last_new_job</th>\n",
       "      <th>training_hours</th>\n",
       "      <th>target</th>\n",
       "    </tr>\n",
       "  </thead>\n",
       "  <tbody>\n",
       "    <tr>\n",
       "      <th>0</th>\n",
       "      <td>8949</td>\n",
       "      <td>city_103</td>\n",
       "      <td>0.920</td>\n",
       "      <td>Male</td>\n",
       "      <td>Has relevent experience</td>\n",
       "      <td>no_enrollment</td>\n",
       "      <td>Graduate</td>\n",
       "      <td>STEM</td>\n",
       "      <td>&gt;20</td>\n",
       "      <td>NaN</td>\n",
       "      <td>NaN</td>\n",
       "      <td>1</td>\n",
       "      <td>36</td>\n",
       "      <td>1.0</td>\n",
       "    </tr>\n",
       "    <tr>\n",
       "      <th>1</th>\n",
       "      <td>29725</td>\n",
       "      <td>city_40</td>\n",
       "      <td>0.776</td>\n",
       "      <td>Male</td>\n",
       "      <td>No relevent experience</td>\n",
       "      <td>no_enrollment</td>\n",
       "      <td>Graduate</td>\n",
       "      <td>STEM</td>\n",
       "      <td>15</td>\n",
       "      <td>50-99</td>\n",
       "      <td>Pvt Ltd</td>\n",
       "      <td>&gt;4</td>\n",
       "      <td>47</td>\n",
       "      <td>0.0</td>\n",
       "    </tr>\n",
       "    <tr>\n",
       "      <th>2</th>\n",
       "      <td>11561</td>\n",
       "      <td>city_21</td>\n",
       "      <td>0.624</td>\n",
       "      <td>NaN</td>\n",
       "      <td>No relevent experience</td>\n",
       "      <td>Full time course</td>\n",
       "      <td>Graduate</td>\n",
       "      <td>STEM</td>\n",
       "      <td>5</td>\n",
       "      <td>NaN</td>\n",
       "      <td>NaN</td>\n",
       "      <td>never</td>\n",
       "      <td>83</td>\n",
       "      <td>0.0</td>\n",
       "    </tr>\n",
       "    <tr>\n",
       "      <th>3</th>\n",
       "      <td>33241</td>\n",
       "      <td>city_115</td>\n",
       "      <td>0.789</td>\n",
       "      <td>NaN</td>\n",
       "      <td>No relevent experience</td>\n",
       "      <td>NaN</td>\n",
       "      <td>Graduate</td>\n",
       "      <td>Business Degree</td>\n",
       "      <td>&lt;1</td>\n",
       "      <td>NaN</td>\n",
       "      <td>Pvt Ltd</td>\n",
       "      <td>never</td>\n",
       "      <td>52</td>\n",
       "      <td>1.0</td>\n",
       "    </tr>\n",
       "    <tr>\n",
       "      <th>4</th>\n",
       "      <td>666</td>\n",
       "      <td>city_162</td>\n",
       "      <td>0.767</td>\n",
       "      <td>Male</td>\n",
       "      <td>Has relevent experience</td>\n",
       "      <td>no_enrollment</td>\n",
       "      <td>Masters</td>\n",
       "      <td>STEM</td>\n",
       "      <td>&gt;20</td>\n",
       "      <td>50-99</td>\n",
       "      <td>Funded Startup</td>\n",
       "      <td>4</td>\n",
       "      <td>8</td>\n",
       "      <td>0.0</td>\n",
       "    </tr>\n",
       "  </tbody>\n",
       "</table>\n",
       "</div>"
      ],
      "text/plain": [
       "   enrollee_id      city  city_development_index gender  \\\n",
       "0         8949  city_103                   0.920   Male   \n",
       "1        29725   city_40                   0.776   Male   \n",
       "2        11561   city_21                   0.624    NaN   \n",
       "3        33241  city_115                   0.789    NaN   \n",
       "4          666  city_162                   0.767   Male   \n",
       "\n",
       "       relevent_experience enrolled_university education_level  \\\n",
       "0  Has relevent experience       no_enrollment        Graduate   \n",
       "1   No relevent experience       no_enrollment        Graduate   \n",
       "2   No relevent experience    Full time course        Graduate   \n",
       "3   No relevent experience                 NaN        Graduate   \n",
       "4  Has relevent experience       no_enrollment         Masters   \n",
       "\n",
       "  major_discipline experience company_size    company_type last_new_job  \\\n",
       "0             STEM        >20          NaN             NaN            1   \n",
       "1             STEM         15        50-99         Pvt Ltd           >4   \n",
       "2             STEM          5          NaN             NaN        never   \n",
       "3  Business Degree         <1          NaN         Pvt Ltd        never   \n",
       "4             STEM        >20        50-99  Funded Startup            4   \n",
       "\n",
       "   training_hours  target  \n",
       "0              36     1.0  \n",
       "1              47     0.0  \n",
       "2              83     0.0  \n",
       "3              52     1.0  \n",
       "4               8     0.0  "
      ]
     },
     "execution_count": 21,
     "metadata": {},
     "output_type": "execute_result"
    }
   ],
   "source": [
    "#skips nrows \n",
    "pd.read_csv('aug_train.csv',nrows=150).head()"
   ]
  },
  {
   "cell_type": "code",
   "execution_count": 23,
   "id": "a2f1d1c3",
   "metadata": {},
   "outputs": [
    {
     "data": {
      "application/vnd.microsoft.datawrangler.viewer.v0+json": {
       "columns": [
        {
         "name": "index",
         "rawType": "int64",
         "type": "integer"
        },
        {
         "name": "Restaurant ID",
         "rawType": "int64",
         "type": "integer"
        },
        {
         "name": "Restaurant Name",
         "rawType": "object",
         "type": "string"
        },
        {
         "name": "Country Code",
         "rawType": "int64",
         "type": "integer"
        },
        {
         "name": "City",
         "rawType": "object",
         "type": "string"
        },
        {
         "name": "Address",
         "rawType": "object",
         "type": "string"
        },
        {
         "name": "Locality",
         "rawType": "object",
         "type": "string"
        },
        {
         "name": "Locality Verbose",
         "rawType": "object",
         "type": "string"
        },
        {
         "name": "Longitude",
         "rawType": "float64",
         "type": "float"
        },
        {
         "name": "Latitude",
         "rawType": "float64",
         "type": "float"
        },
        {
         "name": "Cuisines",
         "rawType": "object",
         "type": "string"
        },
        {
         "name": "Average Cost for two",
         "rawType": "int64",
         "type": "integer"
        },
        {
         "name": "Currency",
         "rawType": "object",
         "type": "string"
        },
        {
         "name": "Has Table booking",
         "rawType": "object",
         "type": "string"
        },
        {
         "name": "Has Online delivery",
         "rawType": "object",
         "type": "string"
        },
        {
         "name": "Is delivering now",
         "rawType": "object",
         "type": "string"
        },
        {
         "name": "Switch to order menu",
         "rawType": "object",
         "type": "string"
        },
        {
         "name": "Price range",
         "rawType": "int64",
         "type": "integer"
        },
        {
         "name": "Aggregate rating",
         "rawType": "float64",
         "type": "float"
        },
        {
         "name": "Rating color",
         "rawType": "object",
         "type": "string"
        },
        {
         "name": "Rating text",
         "rawType": "object",
         "type": "string"
        },
        {
         "name": "Votes",
         "rawType": "int64",
         "type": "integer"
        }
       ],
       "ref": "94b69195-a62b-4b1c-9a6b-c2d700ff01b8",
       "rows": [
        [
         "0",
         "6317637",
         "Le Petit Souffle",
         "162",
         "Makati City",
         "Third Floor, Century City Mall, Kalayaan Avenue, Poblacion, Makati City",
         "Century City Mall, Poblacion, Makati City",
         "Century City Mall, Poblacion, Makati City, Makati City",
         "121.027535",
         "14.565443",
         "French, Japanese, Desserts",
         "1100",
         "Botswana Pula(P)",
         "Yes",
         "No",
         "No",
         "No",
         "3",
         "4.8",
         "Dark Green",
         "Excellent",
         "314"
        ],
        [
         "1",
         "6304287",
         "Izakaya Kikufuji",
         "162",
         "Makati City",
         "Little Tokyo, 2277 Chino Roces Avenue, Legaspi Village, Makati City",
         "Little Tokyo, Legaspi Village, Makati City",
         "Little Tokyo, Legaspi Village, Makati City, Makati City",
         "121.014101",
         "14.553708",
         "Japanese",
         "1200",
         "Botswana Pula(P)",
         "Yes",
         "No",
         "No",
         "No",
         "3",
         "4.5",
         "Dark Green",
         "Excellent",
         "591"
        ],
        [
         "2",
         "6300002",
         "Heat - Edsa Shangri-La",
         "162",
         "Mandaluyong City",
         "Edsa Shangri-La, 1 Garden Way, Ortigas, Mandaluyong City",
         "Edsa Shangri-La, Ortigas, Mandaluyong City",
         "Edsa Shangri-La, Ortigas, Mandaluyong City, Mandaluyong City",
         "121.056831",
         "14.581404",
         "Seafood, Asian, Filipino, Indian",
         "4000",
         "Botswana Pula(P)",
         "Yes",
         "No",
         "No",
         "No",
         "4",
         "4.4",
         "Green",
         "Very Good",
         "270"
        ],
        [
         "3",
         "6318506",
         "Ooma",
         "162",
         "Mandaluyong City",
         "Third Floor, Mega Fashion Hall, SM Megamall, Ortigas, Mandaluyong City",
         "SM Megamall, Ortigas, Mandaluyong City",
         "SM Megamall, Ortigas, Mandaluyong City, Mandaluyong City",
         "121.056475",
         "14.585318",
         "Japanese, Sushi",
         "1500",
         "Botswana Pula(P)",
         "No",
         "No",
         "No",
         "No",
         "4",
         "4.9",
         "Dark Green",
         "Excellent",
         "365"
        ],
        [
         "4",
         "6314302",
         "Sambo Kojin",
         "162",
         "Mandaluyong City",
         "Third Floor, Mega Atrium, SM Megamall, Ortigas, Mandaluyong City",
         "SM Megamall, Ortigas, Mandaluyong City",
         "SM Megamall, Ortigas, Mandaluyong City, Mandaluyong City",
         "121.057508",
         "14.58445",
         "Japanese, Korean",
         "1500",
         "Botswana Pula(P)",
         "Yes",
         "No",
         "No",
         "No",
         "4",
         "4.8",
         "Dark Green",
         "Excellent",
         "229"
        ]
       ],
       "shape": {
        "columns": 21,
        "rows": 5
       }
      },
      "text/html": [
       "<div>\n",
       "<style scoped>\n",
       "    .dataframe tbody tr th:only-of-type {\n",
       "        vertical-align: middle;\n",
       "    }\n",
       "\n",
       "    .dataframe tbody tr th {\n",
       "        vertical-align: top;\n",
       "    }\n",
       "\n",
       "    .dataframe thead th {\n",
       "        text-align: right;\n",
       "    }\n",
       "</style>\n",
       "<table border=\"1\" class=\"dataframe\">\n",
       "  <thead>\n",
       "    <tr style=\"text-align: right;\">\n",
       "      <th></th>\n",
       "      <th>Restaurant ID</th>\n",
       "      <th>Restaurant Name</th>\n",
       "      <th>Country Code</th>\n",
       "      <th>City</th>\n",
       "      <th>Address</th>\n",
       "      <th>Locality</th>\n",
       "      <th>Locality Verbose</th>\n",
       "      <th>Longitude</th>\n",
       "      <th>Latitude</th>\n",
       "      <th>Cuisines</th>\n",
       "      <th>...</th>\n",
       "      <th>Currency</th>\n",
       "      <th>Has Table booking</th>\n",
       "      <th>Has Online delivery</th>\n",
       "      <th>Is delivering now</th>\n",
       "      <th>Switch to order menu</th>\n",
       "      <th>Price range</th>\n",
       "      <th>Aggregate rating</th>\n",
       "      <th>Rating color</th>\n",
       "      <th>Rating text</th>\n",
       "      <th>Votes</th>\n",
       "    </tr>\n",
       "  </thead>\n",
       "  <tbody>\n",
       "    <tr>\n",
       "      <th>0</th>\n",
       "      <td>6317637</td>\n",
       "      <td>Le Petit Souffle</td>\n",
       "      <td>162</td>\n",
       "      <td>Makati City</td>\n",
       "      <td>Third Floor, Century City Mall, Kalayaan Avenu...</td>\n",
       "      <td>Century City Mall, Poblacion, Makati City</td>\n",
       "      <td>Century City Mall, Poblacion, Makati City, Mak...</td>\n",
       "      <td>121.027535</td>\n",
       "      <td>14.565443</td>\n",
       "      <td>French, Japanese, Desserts</td>\n",
       "      <td>...</td>\n",
       "      <td>Botswana Pula(P)</td>\n",
       "      <td>Yes</td>\n",
       "      <td>No</td>\n",
       "      <td>No</td>\n",
       "      <td>No</td>\n",
       "      <td>3</td>\n",
       "      <td>4.8</td>\n",
       "      <td>Dark Green</td>\n",
       "      <td>Excellent</td>\n",
       "      <td>314</td>\n",
       "    </tr>\n",
       "    <tr>\n",
       "      <th>1</th>\n",
       "      <td>6304287</td>\n",
       "      <td>Izakaya Kikufuji</td>\n",
       "      <td>162</td>\n",
       "      <td>Makati City</td>\n",
       "      <td>Little Tokyo, 2277 Chino Roces Avenue, Legaspi...</td>\n",
       "      <td>Little Tokyo, Legaspi Village, Makati City</td>\n",
       "      <td>Little Tokyo, Legaspi Village, Makati City, Ma...</td>\n",
       "      <td>121.014101</td>\n",
       "      <td>14.553708</td>\n",
       "      <td>Japanese</td>\n",
       "      <td>...</td>\n",
       "      <td>Botswana Pula(P)</td>\n",
       "      <td>Yes</td>\n",
       "      <td>No</td>\n",
       "      <td>No</td>\n",
       "      <td>No</td>\n",
       "      <td>3</td>\n",
       "      <td>4.5</td>\n",
       "      <td>Dark Green</td>\n",
       "      <td>Excellent</td>\n",
       "      <td>591</td>\n",
       "    </tr>\n",
       "    <tr>\n",
       "      <th>2</th>\n",
       "      <td>6300002</td>\n",
       "      <td>Heat - Edsa Shangri-La</td>\n",
       "      <td>162</td>\n",
       "      <td>Mandaluyong City</td>\n",
       "      <td>Edsa Shangri-La, 1 Garden Way, Ortigas, Mandal...</td>\n",
       "      <td>Edsa Shangri-La, Ortigas, Mandaluyong City</td>\n",
       "      <td>Edsa Shangri-La, Ortigas, Mandaluyong City, Ma...</td>\n",
       "      <td>121.056831</td>\n",
       "      <td>14.581404</td>\n",
       "      <td>Seafood, Asian, Filipino, Indian</td>\n",
       "      <td>...</td>\n",
       "      <td>Botswana Pula(P)</td>\n",
       "      <td>Yes</td>\n",
       "      <td>No</td>\n",
       "      <td>No</td>\n",
       "      <td>No</td>\n",
       "      <td>4</td>\n",
       "      <td>4.4</td>\n",
       "      <td>Green</td>\n",
       "      <td>Very Good</td>\n",
       "      <td>270</td>\n",
       "    </tr>\n",
       "    <tr>\n",
       "      <th>3</th>\n",
       "      <td>6318506</td>\n",
       "      <td>Ooma</td>\n",
       "      <td>162</td>\n",
       "      <td>Mandaluyong City</td>\n",
       "      <td>Third Floor, Mega Fashion Hall, SM Megamall, O...</td>\n",
       "      <td>SM Megamall, Ortigas, Mandaluyong City</td>\n",
       "      <td>SM Megamall, Ortigas, Mandaluyong City, Mandal...</td>\n",
       "      <td>121.056475</td>\n",
       "      <td>14.585318</td>\n",
       "      <td>Japanese, Sushi</td>\n",
       "      <td>...</td>\n",
       "      <td>Botswana Pula(P)</td>\n",
       "      <td>No</td>\n",
       "      <td>No</td>\n",
       "      <td>No</td>\n",
       "      <td>No</td>\n",
       "      <td>4</td>\n",
       "      <td>4.9</td>\n",
       "      <td>Dark Green</td>\n",
       "      <td>Excellent</td>\n",
       "      <td>365</td>\n",
       "    </tr>\n",
       "    <tr>\n",
       "      <th>4</th>\n",
       "      <td>6314302</td>\n",
       "      <td>Sambo Kojin</td>\n",
       "      <td>162</td>\n",
       "      <td>Mandaluyong City</td>\n",
       "      <td>Third Floor, Mega Atrium, SM Megamall, Ortigas...</td>\n",
       "      <td>SM Megamall, Ortigas, Mandaluyong City</td>\n",
       "      <td>SM Megamall, Ortigas, Mandaluyong City, Mandal...</td>\n",
       "      <td>121.057508</td>\n",
       "      <td>14.584450</td>\n",
       "      <td>Japanese, Korean</td>\n",
       "      <td>...</td>\n",
       "      <td>Botswana Pula(P)</td>\n",
       "      <td>Yes</td>\n",
       "      <td>No</td>\n",
       "      <td>No</td>\n",
       "      <td>No</td>\n",
       "      <td>4</td>\n",
       "      <td>4.8</td>\n",
       "      <td>Dark Green</td>\n",
       "      <td>Excellent</td>\n",
       "      <td>229</td>\n",
       "    </tr>\n",
       "  </tbody>\n",
       "</table>\n",
       "<p>5 rows × 21 columns</p>\n",
       "</div>"
      ],
      "text/plain": [
       "   Restaurant ID         Restaurant Name  Country Code              City  \\\n",
       "0        6317637        Le Petit Souffle           162       Makati City   \n",
       "1        6304287        Izakaya Kikufuji           162       Makati City   \n",
       "2        6300002  Heat - Edsa Shangri-La           162  Mandaluyong City   \n",
       "3        6318506                    Ooma           162  Mandaluyong City   \n",
       "4        6314302             Sambo Kojin           162  Mandaluyong City   \n",
       "\n",
       "                                             Address  \\\n",
       "0  Third Floor, Century City Mall, Kalayaan Avenu...   \n",
       "1  Little Tokyo, 2277 Chino Roces Avenue, Legaspi...   \n",
       "2  Edsa Shangri-La, 1 Garden Way, Ortigas, Mandal...   \n",
       "3  Third Floor, Mega Fashion Hall, SM Megamall, O...   \n",
       "4  Third Floor, Mega Atrium, SM Megamall, Ortigas...   \n",
       "\n",
       "                                     Locality  \\\n",
       "0   Century City Mall, Poblacion, Makati City   \n",
       "1  Little Tokyo, Legaspi Village, Makati City   \n",
       "2  Edsa Shangri-La, Ortigas, Mandaluyong City   \n",
       "3      SM Megamall, Ortigas, Mandaluyong City   \n",
       "4      SM Megamall, Ortigas, Mandaluyong City   \n",
       "\n",
       "                                    Locality Verbose   Longitude   Latitude  \\\n",
       "0  Century City Mall, Poblacion, Makati City, Mak...  121.027535  14.565443   \n",
       "1  Little Tokyo, Legaspi Village, Makati City, Ma...  121.014101  14.553708   \n",
       "2  Edsa Shangri-La, Ortigas, Mandaluyong City, Ma...  121.056831  14.581404   \n",
       "3  SM Megamall, Ortigas, Mandaluyong City, Mandal...  121.056475  14.585318   \n",
       "4  SM Megamall, Ortigas, Mandaluyong City, Mandal...  121.057508  14.584450   \n",
       "\n",
       "                           Cuisines  ...          Currency Has Table booking  \\\n",
       "0        French, Japanese, Desserts  ...  Botswana Pula(P)               Yes   \n",
       "1                          Japanese  ...  Botswana Pula(P)               Yes   \n",
       "2  Seafood, Asian, Filipino, Indian  ...  Botswana Pula(P)               Yes   \n",
       "3                   Japanese, Sushi  ...  Botswana Pula(P)                No   \n",
       "4                  Japanese, Korean  ...  Botswana Pula(P)               Yes   \n",
       "\n",
       "  Has Online delivery Is delivering now Switch to order menu Price range  \\\n",
       "0                  No                No                   No           3   \n",
       "1                  No                No                   No           3   \n",
       "2                  No                No                   No           4   \n",
       "3                  No                No                   No           4   \n",
       "4                  No                No                   No           4   \n",
       "\n",
       "   Aggregate rating  Rating color Rating text Votes  \n",
       "0               4.8    Dark Green   Excellent   314  \n",
       "1               4.5    Dark Green   Excellent   591  \n",
       "2               4.4         Green   Very Good   270  \n",
       "3               4.9    Dark Green   Excellent   365  \n",
       "4               4.8    Dark Green   Excellent   229  \n",
       "\n",
       "[5 rows x 21 columns]"
      ]
     },
     "execution_count": 23,
     "metadata": {},
     "output_type": "execute_result"
    }
   ],
   "source": [
    "#encoding parameter\n",
    "pd.read_csv('zomato.csv',encoding='latin-1').head()"
   ]
  },
  {
   "cell_type": "code",
   "execution_count": 27,
   "id": "8262fa3b",
   "metadata": {},
   "outputs": [
    {
     "data": {
      "application/vnd.microsoft.datawrangler.viewer.v0+json": {
       "columns": [
        {
         "name": "index",
         "rawType": "int64",
         "type": "integer"
        },
        {
         "name": "Restaurant ID",
         "rawType": "int64",
         "type": "integer"
        },
        {
         "name": "Restaurant Name",
         "rawType": "object",
         "type": "string"
        },
        {
         "name": "Country Code",
         "rawType": "int64",
         "type": "integer"
        },
        {
         "name": "City",
         "rawType": "object",
         "type": "string"
        },
        {
         "name": "Address",
         "rawType": "object",
         "type": "string"
        },
        {
         "name": "Locality",
         "rawType": "object",
         "type": "string"
        },
        {
         "name": "Locality Verbose",
         "rawType": "object",
         "type": "string"
        },
        {
         "name": "Longitude",
         "rawType": "float64",
         "type": "float"
        },
        {
         "name": "Latitude",
         "rawType": "float64",
         "type": "float"
        },
        {
         "name": "Cuisines",
         "rawType": "object",
         "type": "string"
        },
        {
         "name": "Average Cost for two",
         "rawType": "int64",
         "type": "integer"
        },
        {
         "name": "Currency",
         "rawType": "object",
         "type": "string"
        },
        {
         "name": "Has Table booking",
         "rawType": "object",
         "type": "string"
        },
        {
         "name": "Has Online delivery",
         "rawType": "object",
         "type": "string"
        },
        {
         "name": "Is delivering now",
         "rawType": "object",
         "type": "string"
        },
        {
         "name": "Switch to order menu",
         "rawType": "object",
         "type": "string"
        },
        {
         "name": "Price range",
         "rawType": "int64",
         "type": "integer"
        },
        {
         "name": "Aggregate rating",
         "rawType": "float64",
         "type": "float"
        },
        {
         "name": "Rating color",
         "rawType": "object",
         "type": "string"
        },
        {
         "name": "Rating text",
         "rawType": "object",
         "type": "string"
        },
        {
         "name": "Votes",
         "rawType": "int64",
         "type": "integer"
        }
       ],
       "ref": "0dfda7ac-befa-42b7-b169-74a0b66a1f4a",
       "rows": [
        [
         "0",
         "6317637",
         "Le Petit Souffle",
         "162",
         "Makati City",
         "Third Floor, Century City Mall, Kalayaan Avenue, Poblacion, Makati City",
         "Century City Mall, Poblacion, Makati City",
         "Century City Mall, Poblacion, Makati City, Makati City",
         "121.027535",
         "14.565443",
         "French, Japanese, Desserts",
         "1100",
         "Botswana Pula(P)",
         "Yes",
         "No",
         "No",
         "No",
         "3",
         "4.8",
         "Dark Green",
         "Excellent",
         "314"
        ],
        [
         "1",
         "6304287",
         "Izakaya Kikufuji",
         "162",
         "Makati City",
         "Little Tokyo, 2277 Chino Roces Avenue, Legaspi Village, Makati City",
         "Little Tokyo, Legaspi Village, Makati City",
         "Little Tokyo, Legaspi Village, Makati City, Makati City",
         "121.014101",
         "14.553708",
         "Japanese",
         "1200",
         "Botswana Pula(P)",
         "Yes",
         "No",
         "No",
         "No",
         "3",
         "4.5",
         "Dark Green",
         "Excellent",
         "591"
        ],
        [
         "2",
         "6300002",
         "Heat - Edsa Shangri-La",
         "162",
         "Mandaluyong City",
         "Edsa Shangri-La, 1 Garden Way, Ortigas, Mandaluyong City",
         "Edsa Shangri-La, Ortigas, Mandaluyong City",
         "Edsa Shangri-La, Ortigas, Mandaluyong City, Mandaluyong City",
         "121.056831",
         "14.581404",
         "Seafood, Asian, Filipino, Indian",
         "4000",
         "Botswana Pula(P)",
         "Yes",
         "No",
         "No",
         "No",
         "4",
         "4.4",
         "Green",
         "Very Good",
         "270"
        ],
        [
         "3",
         "6318506",
         "Ooma",
         "162",
         "Mandaluyong City",
         "Third Floor, Mega Fashion Hall, SM Megamall, Ortigas, Mandaluyong City",
         "SM Megamall, Ortigas, Mandaluyong City",
         "SM Megamall, Ortigas, Mandaluyong City, Mandaluyong City",
         "121.056475",
         "14.585318",
         "Japanese, Sushi",
         "1500",
         "Botswana Pula(P)",
         "No",
         "No",
         "No",
         "No",
         "4",
         "4.9",
         "Dark Green",
         "Excellent",
         "365"
        ],
        [
         "4",
         "6314302",
         "Sambo Kojin",
         "162",
         "Mandaluyong City",
         "Third Floor, Mega Atrium, SM Megamall, Ortigas, Mandaluyong City",
         "SM Megamall, Ortigas, Mandaluyong City",
         "SM Megamall, Ortigas, Mandaluyong City, Mandaluyong City",
         "121.057508",
         "14.58445",
         "Japanese, Korean",
         "1500",
         "Botswana Pula(P)",
         "Yes",
         "No",
         "No",
         "No",
         "4",
         "4.8",
         "Dark Green",
         "Excellent",
         "229"
        ]
       ],
       "shape": {
        "columns": 21,
        "rows": 5
       }
      },
      "text/html": [
       "<div>\n",
       "<style scoped>\n",
       "    .dataframe tbody tr th:only-of-type {\n",
       "        vertical-align: middle;\n",
       "    }\n",
       "\n",
       "    .dataframe tbody tr th {\n",
       "        vertical-align: top;\n",
       "    }\n",
       "\n",
       "    .dataframe thead th {\n",
       "        text-align: right;\n",
       "    }\n",
       "</style>\n",
       "<table border=\"1\" class=\"dataframe\">\n",
       "  <thead>\n",
       "    <tr style=\"text-align: right;\">\n",
       "      <th></th>\n",
       "      <th>Restaurant ID</th>\n",
       "      <th>Restaurant Name</th>\n",
       "      <th>Country Code</th>\n",
       "      <th>City</th>\n",
       "      <th>Address</th>\n",
       "      <th>Locality</th>\n",
       "      <th>Locality Verbose</th>\n",
       "      <th>Longitude</th>\n",
       "      <th>Latitude</th>\n",
       "      <th>Cuisines</th>\n",
       "      <th>...</th>\n",
       "      <th>Currency</th>\n",
       "      <th>Has Table booking</th>\n",
       "      <th>Has Online delivery</th>\n",
       "      <th>Is delivering now</th>\n",
       "      <th>Switch to order menu</th>\n",
       "      <th>Price range</th>\n",
       "      <th>Aggregate rating</th>\n",
       "      <th>Rating color</th>\n",
       "      <th>Rating text</th>\n",
       "      <th>Votes</th>\n",
       "    </tr>\n",
       "  </thead>\n",
       "  <tbody>\n",
       "    <tr>\n",
       "      <th>0</th>\n",
       "      <td>6317637</td>\n",
       "      <td>Le Petit Souffle</td>\n",
       "      <td>162</td>\n",
       "      <td>Makati City</td>\n",
       "      <td>Third Floor, Century City Mall, Kalayaan Avenu...</td>\n",
       "      <td>Century City Mall, Poblacion, Makati City</td>\n",
       "      <td>Century City Mall, Poblacion, Makati City, Mak...</td>\n",
       "      <td>121.027535</td>\n",
       "      <td>14.565443</td>\n",
       "      <td>French, Japanese, Desserts</td>\n",
       "      <td>...</td>\n",
       "      <td>Botswana Pula(P)</td>\n",
       "      <td>Yes</td>\n",
       "      <td>No</td>\n",
       "      <td>No</td>\n",
       "      <td>No</td>\n",
       "      <td>3</td>\n",
       "      <td>4.8</td>\n",
       "      <td>Dark Green</td>\n",
       "      <td>Excellent</td>\n",
       "      <td>314</td>\n",
       "    </tr>\n",
       "    <tr>\n",
       "      <th>1</th>\n",
       "      <td>6304287</td>\n",
       "      <td>Izakaya Kikufuji</td>\n",
       "      <td>162</td>\n",
       "      <td>Makati City</td>\n",
       "      <td>Little Tokyo, 2277 Chino Roces Avenue, Legaspi...</td>\n",
       "      <td>Little Tokyo, Legaspi Village, Makati City</td>\n",
       "      <td>Little Tokyo, Legaspi Village, Makati City, Ma...</td>\n",
       "      <td>121.014101</td>\n",
       "      <td>14.553708</td>\n",
       "      <td>Japanese</td>\n",
       "      <td>...</td>\n",
       "      <td>Botswana Pula(P)</td>\n",
       "      <td>Yes</td>\n",
       "      <td>No</td>\n",
       "      <td>No</td>\n",
       "      <td>No</td>\n",
       "      <td>3</td>\n",
       "      <td>4.5</td>\n",
       "      <td>Dark Green</td>\n",
       "      <td>Excellent</td>\n",
       "      <td>591</td>\n",
       "    </tr>\n",
       "    <tr>\n",
       "      <th>2</th>\n",
       "      <td>6300002</td>\n",
       "      <td>Heat - Edsa Shangri-La</td>\n",
       "      <td>162</td>\n",
       "      <td>Mandaluyong City</td>\n",
       "      <td>Edsa Shangri-La, 1 Garden Way, Ortigas, Mandal...</td>\n",
       "      <td>Edsa Shangri-La, Ortigas, Mandaluyong City</td>\n",
       "      <td>Edsa Shangri-La, Ortigas, Mandaluyong City, Ma...</td>\n",
       "      <td>121.056831</td>\n",
       "      <td>14.581404</td>\n",
       "      <td>Seafood, Asian, Filipino, Indian</td>\n",
       "      <td>...</td>\n",
       "      <td>Botswana Pula(P)</td>\n",
       "      <td>Yes</td>\n",
       "      <td>No</td>\n",
       "      <td>No</td>\n",
       "      <td>No</td>\n",
       "      <td>4</td>\n",
       "      <td>4.4</td>\n",
       "      <td>Green</td>\n",
       "      <td>Very Good</td>\n",
       "      <td>270</td>\n",
       "    </tr>\n",
       "    <tr>\n",
       "      <th>3</th>\n",
       "      <td>6318506</td>\n",
       "      <td>Ooma</td>\n",
       "      <td>162</td>\n",
       "      <td>Mandaluyong City</td>\n",
       "      <td>Third Floor, Mega Fashion Hall, SM Megamall, O...</td>\n",
       "      <td>SM Megamall, Ortigas, Mandaluyong City</td>\n",
       "      <td>SM Megamall, Ortigas, Mandaluyong City, Mandal...</td>\n",
       "      <td>121.056475</td>\n",
       "      <td>14.585318</td>\n",
       "      <td>Japanese, Sushi</td>\n",
       "      <td>...</td>\n",
       "      <td>Botswana Pula(P)</td>\n",
       "      <td>No</td>\n",
       "      <td>No</td>\n",
       "      <td>No</td>\n",
       "      <td>No</td>\n",
       "      <td>4</td>\n",
       "      <td>4.9</td>\n",
       "      <td>Dark Green</td>\n",
       "      <td>Excellent</td>\n",
       "      <td>365</td>\n",
       "    </tr>\n",
       "    <tr>\n",
       "      <th>4</th>\n",
       "      <td>6314302</td>\n",
       "      <td>Sambo Kojin</td>\n",
       "      <td>162</td>\n",
       "      <td>Mandaluyong City</td>\n",
       "      <td>Third Floor, Mega Atrium, SM Megamall, Ortigas...</td>\n",
       "      <td>SM Megamall, Ortigas, Mandaluyong City</td>\n",
       "      <td>SM Megamall, Ortigas, Mandaluyong City, Mandal...</td>\n",
       "      <td>121.057508</td>\n",
       "      <td>14.584450</td>\n",
       "      <td>Japanese, Korean</td>\n",
       "      <td>...</td>\n",
       "      <td>Botswana Pula(P)</td>\n",
       "      <td>Yes</td>\n",
       "      <td>No</td>\n",
       "      <td>No</td>\n",
       "      <td>No</td>\n",
       "      <td>4</td>\n",
       "      <td>4.8</td>\n",
       "      <td>Dark Green</td>\n",
       "      <td>Excellent</td>\n",
       "      <td>229</td>\n",
       "    </tr>\n",
       "  </tbody>\n",
       "</table>\n",
       "<p>5 rows × 21 columns</p>\n",
       "</div>"
      ],
      "text/plain": [
       "   Restaurant ID         Restaurant Name  Country Code              City  \\\n",
       "0        6317637        Le Petit Souffle           162       Makati City   \n",
       "1        6304287        Izakaya Kikufuji           162       Makati City   \n",
       "2        6300002  Heat - Edsa Shangri-La           162  Mandaluyong City   \n",
       "3        6318506                    Ooma           162  Mandaluyong City   \n",
       "4        6314302             Sambo Kojin           162  Mandaluyong City   \n",
       "\n",
       "                                             Address  \\\n",
       "0  Third Floor, Century City Mall, Kalayaan Avenu...   \n",
       "1  Little Tokyo, 2277 Chino Roces Avenue, Legaspi...   \n",
       "2  Edsa Shangri-La, 1 Garden Way, Ortigas, Mandal...   \n",
       "3  Third Floor, Mega Fashion Hall, SM Megamall, O...   \n",
       "4  Third Floor, Mega Atrium, SM Megamall, Ortigas...   \n",
       "\n",
       "                                     Locality  \\\n",
       "0   Century City Mall, Poblacion, Makati City   \n",
       "1  Little Tokyo, Legaspi Village, Makati City   \n",
       "2  Edsa Shangri-La, Ortigas, Mandaluyong City   \n",
       "3      SM Megamall, Ortigas, Mandaluyong City   \n",
       "4      SM Megamall, Ortigas, Mandaluyong City   \n",
       "\n",
       "                                    Locality Verbose   Longitude   Latitude  \\\n",
       "0  Century City Mall, Poblacion, Makati City, Mak...  121.027535  14.565443   \n",
       "1  Little Tokyo, Legaspi Village, Makati City, Ma...  121.014101  14.553708   \n",
       "2  Edsa Shangri-La, Ortigas, Mandaluyong City, Ma...  121.056831  14.581404   \n",
       "3  SM Megamall, Ortigas, Mandaluyong City, Mandal...  121.056475  14.585318   \n",
       "4  SM Megamall, Ortigas, Mandaluyong City, Mandal...  121.057508  14.584450   \n",
       "\n",
       "                           Cuisines  ...          Currency Has Table booking  \\\n",
       "0        French, Japanese, Desserts  ...  Botswana Pula(P)               Yes   \n",
       "1                          Japanese  ...  Botswana Pula(P)               Yes   \n",
       "2  Seafood, Asian, Filipino, Indian  ...  Botswana Pula(P)               Yes   \n",
       "3                   Japanese, Sushi  ...  Botswana Pula(P)                No   \n",
       "4                  Japanese, Korean  ...  Botswana Pula(P)               Yes   \n",
       "\n",
       "  Has Online delivery Is delivering now Switch to order menu Price range  \\\n",
       "0                  No                No                   No           3   \n",
       "1                  No                No                   No           3   \n",
       "2                  No                No                   No           4   \n",
       "3                  No                No                   No           4   \n",
       "4                  No                No                   No           4   \n",
       "\n",
       "   Aggregate rating  Rating color Rating text Votes  \n",
       "0               4.8    Dark Green   Excellent   314  \n",
       "1               4.5    Dark Green   Excellent   591  \n",
       "2               4.4         Green   Very Good   270  \n",
       "3               4.9    Dark Green   Excellent   365  \n",
       "4               4.8    Dark Green   Excellent   229  \n",
       "\n",
       "[5 rows x 21 columns]"
      ]
     },
     "execution_count": 27,
     "metadata": {},
     "output_type": "execute_result"
    }
   ],
   "source": [
    "# skips bad lines\n",
    "pd.read_csv('zomato.csv',on_bad_lines='skip',encoding='latin-1').head()"
   ]
  },
  {
   "cell_type": "code",
   "execution_count": 29,
   "id": "46050ee1",
   "metadata": {},
   "outputs": [
    {
     "name": "stdout",
     "output_type": "stream",
     "text": [
      "<class 'pandas.core.frame.DataFrame'>\n",
      "RangeIndex: 5 entries, 0 to 4\n",
      "Data columns (total 14 columns):\n",
      " #   Column                  Non-Null Count  Dtype  \n",
      "---  ------                  --------------  -----  \n",
      " 0   enrollee_id             5 non-null      int64  \n",
      " 1   city                    5 non-null      object \n",
      " 2   city_development_index  5 non-null      float64\n",
      " 3   gender                  3 non-null      object \n",
      " 4   relevent_experience     5 non-null      object \n",
      " 5   enrolled_university     4 non-null      object \n",
      " 6   education_level         5 non-null      object \n",
      " 7   major_discipline        5 non-null      object \n",
      " 8   experience              5 non-null      object \n",
      " 9   company_size            2 non-null      object \n",
      " 10  company_type            3 non-null      object \n",
      " 11  last_new_job            5 non-null      object \n",
      " 12  training_hours          5 non-null      int64  \n",
      " 13  target                  5 non-null      int16  \n",
      "dtypes: float64(1), int16(1), int64(2), object(10)\n",
      "memory usage: 662.0+ bytes\n"
     ]
    }
   ],
   "source": [
    "#dtypes parameter\n",
    "pd.read_csv('aug_train.csv',dtype={'target':np.int16}).head().info()"
   ]
  },
  {
   "cell_type": "code",
   "execution_count": 31,
   "id": "ada43092",
   "metadata": {},
   "outputs": [
    {
     "name": "stdout",
     "output_type": "stream",
     "text": [
      "<class 'pandas.core.frame.DataFrame'>\n",
      "RangeIndex: 816 entries, 0 to 815\n",
      "Data columns (total 17 columns):\n",
      " #   Column           Non-Null Count  Dtype         \n",
      "---  ------           --------------  -----         \n",
      " 0   id               816 non-null    int64         \n",
      " 1   city             803 non-null    object        \n",
      " 2   date             816 non-null    datetime64[ns]\n",
      " 3   player_of_match  812 non-null    object        \n",
      " 4   venue            816 non-null    object        \n",
      " 5   neutral_venue    816 non-null    int64         \n",
      " 6   team1            816 non-null    object        \n",
      " 7   team2            816 non-null    object        \n",
      " 8   toss_winner      816 non-null    object        \n",
      " 9   toss_decision    816 non-null    object        \n",
      " 10  winner           812 non-null    object        \n",
      " 11  result           812 non-null    object        \n",
      " 12  result_margin    799 non-null    float64       \n",
      " 13  eliminator       812 non-null    object        \n",
      " 14  method           19 non-null     object        \n",
      " 15  umpire1          816 non-null    object        \n",
      " 16  umpire2          816 non-null    object        \n",
      "dtypes: datetime64[ns](1), float64(1), int64(2), object(13)\n",
      "memory usage: 108.5+ KB\n"
     ]
    }
   ],
   "source": [
    "#handling dates\n",
    "pd.read_csv(\"IPL Matches 2008-2020.csv\",parse_dates=['date']).info()"
   ]
  },
  {
   "cell_type": "code",
   "execution_count": 34,
   "id": "a4418fb3",
   "metadata": {},
   "outputs": [
    {
     "data": {
      "text/plain": [
       "'RCB'"
      ]
     },
     "execution_count": 34,
     "metadata": {},
     "output_type": "execute_result"
    }
   ],
   "source": [
    "#convertors\n",
    "def rename(name):\n",
    "    if name =='Royal Challengers Bangalore':\n",
    "        return 'RCB'\n",
    "    elif name=='Mumbai Indians':\n",
    "        return 'MI'\n",
    "    else:\n",
    "        return name\n",
    "rename('Royal Challengers Bangalore')"
   ]
  },
  {
   "cell_type": "code",
   "execution_count": 35,
   "id": "f6f97fbb",
   "metadata": {},
   "outputs": [
    {
     "data": {
      "application/vnd.microsoft.datawrangler.viewer.v0+json": {
       "columns": [
        {
         "name": "index",
         "rawType": "int64",
         "type": "integer"
        },
        {
         "name": "id",
         "rawType": "int64",
         "type": "integer"
        },
        {
         "name": "city",
         "rawType": "object",
         "type": "string"
        },
        {
         "name": "date",
         "rawType": "object",
         "type": "string"
        },
        {
         "name": "player_of_match",
         "rawType": "object",
         "type": "string"
        },
        {
         "name": "venue",
         "rawType": "object",
         "type": "string"
        },
        {
         "name": "neutral_venue",
         "rawType": "int64",
         "type": "integer"
        },
        {
         "name": "team1",
         "rawType": "object",
         "type": "string"
        },
        {
         "name": "team2",
         "rawType": "object",
         "type": "string"
        },
        {
         "name": "toss_winner",
         "rawType": "object",
         "type": "string"
        },
        {
         "name": "toss_decision",
         "rawType": "object",
         "type": "string"
        },
        {
         "name": "winner",
         "rawType": "object",
         "type": "string"
        },
        {
         "name": "result",
         "rawType": "object",
         "type": "string"
        },
        {
         "name": "result_margin",
         "rawType": "float64",
         "type": "float"
        },
        {
         "name": "eliminator",
         "rawType": "object",
         "type": "string"
        },
        {
         "name": "method",
         "rawType": "object",
         "type": "unknown"
        },
        {
         "name": "umpire1",
         "rawType": "object",
         "type": "string"
        },
        {
         "name": "umpire2",
         "rawType": "object",
         "type": "string"
        }
       ],
       "ref": "102da9bd-b53e-4c3b-a4ea-bdc77d4cdaa6",
       "rows": [
        [
         "0",
         "335982",
         "Bangalore",
         "2008-04-18",
         "BB McCullum",
         "M Chinnaswamy Stadium",
         "0",
         "RCB",
         "Kolkata Knight Riders",
         "Royal Challengers Bangalore",
         "field",
         "Kolkata Knight Riders",
         "runs",
         "140.0",
         "N",
         null,
         "Asad Rauf",
         "RE Koertzen"
        ],
        [
         "1",
         "335983",
         "Chandigarh",
         "2008-04-19",
         "MEK Hussey",
         "Punjab Cricket Association Stadium, Mohali",
         "0",
         "Kings XI Punjab",
         "Chennai Super Kings",
         "Chennai Super Kings",
         "bat",
         "Chennai Super Kings",
         "runs",
         "33.0",
         "N",
         null,
         "MR Benson",
         "SL Shastri"
        ],
        [
         "2",
         "335984",
         "Delhi",
         "2008-04-19",
         "MF Maharoof",
         "Feroz Shah Kotla",
         "0",
         "Delhi Daredevils",
         "Rajasthan Royals",
         "Rajasthan Royals",
         "bat",
         "Delhi Daredevils",
         "wickets",
         "9.0",
         "N",
         null,
         "Aleem Dar",
         "GA Pratapkumar"
        ],
        [
         "3",
         "335985",
         "Mumbai",
         "2008-04-20",
         "MV Boucher",
         "Wankhede Stadium",
         "0",
         "MI",
         "RCB",
         "Mumbai Indians",
         "bat",
         "Royal Challengers Bangalore",
         "wickets",
         "5.0",
         "N",
         null,
         "SJ Davis",
         "DJ Harper"
        ],
        [
         "4",
         "335986",
         "Kolkata",
         "2008-04-20",
         "DJ Hussey",
         "Eden Gardens",
         "0",
         "Kolkata Knight Riders",
         "Deccan Chargers",
         "Deccan Chargers",
         "bat",
         "Kolkata Knight Riders",
         "wickets",
         "5.0",
         "N",
         null,
         "BF Bowden",
         "K Hariharan"
        ]
       ],
       "shape": {
        "columns": 17,
        "rows": 5
       }
      },
      "text/html": [
       "<div>\n",
       "<style scoped>\n",
       "    .dataframe tbody tr th:only-of-type {\n",
       "        vertical-align: middle;\n",
       "    }\n",
       "\n",
       "    .dataframe tbody tr th {\n",
       "        vertical-align: top;\n",
       "    }\n",
       "\n",
       "    .dataframe thead th {\n",
       "        text-align: right;\n",
       "    }\n",
       "</style>\n",
       "<table border=\"1\" class=\"dataframe\">\n",
       "  <thead>\n",
       "    <tr style=\"text-align: right;\">\n",
       "      <th></th>\n",
       "      <th>id</th>\n",
       "      <th>city</th>\n",
       "      <th>date</th>\n",
       "      <th>player_of_match</th>\n",
       "      <th>venue</th>\n",
       "      <th>neutral_venue</th>\n",
       "      <th>team1</th>\n",
       "      <th>team2</th>\n",
       "      <th>toss_winner</th>\n",
       "      <th>toss_decision</th>\n",
       "      <th>winner</th>\n",
       "      <th>result</th>\n",
       "      <th>result_margin</th>\n",
       "      <th>eliminator</th>\n",
       "      <th>method</th>\n",
       "      <th>umpire1</th>\n",
       "      <th>umpire2</th>\n",
       "    </tr>\n",
       "  </thead>\n",
       "  <tbody>\n",
       "    <tr>\n",
       "      <th>0</th>\n",
       "      <td>335982</td>\n",
       "      <td>Bangalore</td>\n",
       "      <td>2008-04-18</td>\n",
       "      <td>BB McCullum</td>\n",
       "      <td>M Chinnaswamy Stadium</td>\n",
       "      <td>0</td>\n",
       "      <td>RCB</td>\n",
       "      <td>Kolkata Knight Riders</td>\n",
       "      <td>Royal Challengers Bangalore</td>\n",
       "      <td>field</td>\n",
       "      <td>Kolkata Knight Riders</td>\n",
       "      <td>runs</td>\n",
       "      <td>140.0</td>\n",
       "      <td>N</td>\n",
       "      <td>NaN</td>\n",
       "      <td>Asad Rauf</td>\n",
       "      <td>RE Koertzen</td>\n",
       "    </tr>\n",
       "    <tr>\n",
       "      <th>1</th>\n",
       "      <td>335983</td>\n",
       "      <td>Chandigarh</td>\n",
       "      <td>2008-04-19</td>\n",
       "      <td>MEK Hussey</td>\n",
       "      <td>Punjab Cricket Association Stadium, Mohali</td>\n",
       "      <td>0</td>\n",
       "      <td>Kings XI Punjab</td>\n",
       "      <td>Chennai Super Kings</td>\n",
       "      <td>Chennai Super Kings</td>\n",
       "      <td>bat</td>\n",
       "      <td>Chennai Super Kings</td>\n",
       "      <td>runs</td>\n",
       "      <td>33.0</td>\n",
       "      <td>N</td>\n",
       "      <td>NaN</td>\n",
       "      <td>MR Benson</td>\n",
       "      <td>SL Shastri</td>\n",
       "    </tr>\n",
       "    <tr>\n",
       "      <th>2</th>\n",
       "      <td>335984</td>\n",
       "      <td>Delhi</td>\n",
       "      <td>2008-04-19</td>\n",
       "      <td>MF Maharoof</td>\n",
       "      <td>Feroz Shah Kotla</td>\n",
       "      <td>0</td>\n",
       "      <td>Delhi Daredevils</td>\n",
       "      <td>Rajasthan Royals</td>\n",
       "      <td>Rajasthan Royals</td>\n",
       "      <td>bat</td>\n",
       "      <td>Delhi Daredevils</td>\n",
       "      <td>wickets</td>\n",
       "      <td>9.0</td>\n",
       "      <td>N</td>\n",
       "      <td>NaN</td>\n",
       "      <td>Aleem Dar</td>\n",
       "      <td>GA Pratapkumar</td>\n",
       "    </tr>\n",
       "    <tr>\n",
       "      <th>3</th>\n",
       "      <td>335985</td>\n",
       "      <td>Mumbai</td>\n",
       "      <td>2008-04-20</td>\n",
       "      <td>MV Boucher</td>\n",
       "      <td>Wankhede Stadium</td>\n",
       "      <td>0</td>\n",
       "      <td>MI</td>\n",
       "      <td>RCB</td>\n",
       "      <td>Mumbai Indians</td>\n",
       "      <td>bat</td>\n",
       "      <td>Royal Challengers Bangalore</td>\n",
       "      <td>wickets</td>\n",
       "      <td>5.0</td>\n",
       "      <td>N</td>\n",
       "      <td>NaN</td>\n",
       "      <td>SJ Davis</td>\n",
       "      <td>DJ Harper</td>\n",
       "    </tr>\n",
       "    <tr>\n",
       "      <th>4</th>\n",
       "      <td>335986</td>\n",
       "      <td>Kolkata</td>\n",
       "      <td>2008-04-20</td>\n",
       "      <td>DJ Hussey</td>\n",
       "      <td>Eden Gardens</td>\n",
       "      <td>0</td>\n",
       "      <td>Kolkata Knight Riders</td>\n",
       "      <td>Deccan Chargers</td>\n",
       "      <td>Deccan Chargers</td>\n",
       "      <td>bat</td>\n",
       "      <td>Kolkata Knight Riders</td>\n",
       "      <td>wickets</td>\n",
       "      <td>5.0</td>\n",
       "      <td>N</td>\n",
       "      <td>NaN</td>\n",
       "      <td>BF Bowden</td>\n",
       "      <td>K Hariharan</td>\n",
       "    </tr>\n",
       "  </tbody>\n",
       "</table>\n",
       "</div>"
      ],
      "text/plain": [
       "       id        city        date player_of_match  \\\n",
       "0  335982   Bangalore  2008-04-18     BB McCullum   \n",
       "1  335983  Chandigarh  2008-04-19      MEK Hussey   \n",
       "2  335984       Delhi  2008-04-19     MF Maharoof   \n",
       "3  335985      Mumbai  2008-04-20      MV Boucher   \n",
       "4  335986     Kolkata  2008-04-20       DJ Hussey   \n",
       "\n",
       "                                        venue  neutral_venue  \\\n",
       "0                       M Chinnaswamy Stadium              0   \n",
       "1  Punjab Cricket Association Stadium, Mohali              0   \n",
       "2                            Feroz Shah Kotla              0   \n",
       "3                            Wankhede Stadium              0   \n",
       "4                                Eden Gardens              0   \n",
       "\n",
       "                   team1                  team2                  toss_winner  \\\n",
       "0                    RCB  Kolkata Knight Riders  Royal Challengers Bangalore   \n",
       "1        Kings XI Punjab    Chennai Super Kings          Chennai Super Kings   \n",
       "2       Delhi Daredevils       Rajasthan Royals             Rajasthan Royals   \n",
       "3                     MI                    RCB               Mumbai Indians   \n",
       "4  Kolkata Knight Riders        Deccan Chargers              Deccan Chargers   \n",
       "\n",
       "  toss_decision                       winner   result  result_margin  \\\n",
       "0         field        Kolkata Knight Riders     runs          140.0   \n",
       "1           bat          Chennai Super Kings     runs           33.0   \n",
       "2           bat             Delhi Daredevils  wickets            9.0   \n",
       "3           bat  Royal Challengers Bangalore  wickets            5.0   \n",
       "4           bat        Kolkata Knight Riders  wickets            5.0   \n",
       "\n",
       "  eliminator method    umpire1         umpire2  \n",
       "0          N    NaN  Asad Rauf     RE Koertzen  \n",
       "1          N    NaN  MR Benson      SL Shastri  \n",
       "2          N    NaN  Aleem Dar  GA Pratapkumar  \n",
       "3          N    NaN   SJ Davis       DJ Harper  \n",
       "4          N    NaN  BF Bowden     K Hariharan  "
      ]
     },
     "execution_count": 35,
     "metadata": {},
     "output_type": "execute_result"
    }
   ],
   "source": [
    "pd.read_csv('IPL Matches 2008-2020.csv',converters={'team1':rename,'team2':rename}).head()"
   ]
  },
  {
   "cell_type": "code",
   "execution_count": 36,
   "id": "696fdc85",
   "metadata": {},
   "outputs": [
    {
     "data": {
      "application/vnd.microsoft.datawrangler.viewer.v0+json": {
       "columns": [
        {
         "name": "index",
         "rawType": "int64",
         "type": "integer"
        },
        {
         "name": "enrollee_id",
         "rawType": "int64",
         "type": "integer"
        },
        {
         "name": "city",
         "rawType": "object",
         "type": "string"
        },
        {
         "name": "city_development_index",
         "rawType": "float64",
         "type": "float"
        },
        {
         "name": "gender",
         "rawType": "object",
         "type": "unknown"
        },
        {
         "name": "relevent_experience",
         "rawType": "object",
         "type": "string"
        },
        {
         "name": "enrolled_university",
         "rawType": "object",
         "type": "unknown"
        },
        {
         "name": "education_level",
         "rawType": "object",
         "type": "string"
        },
        {
         "name": "major_discipline",
         "rawType": "object",
         "type": "string"
        },
        {
         "name": "experience",
         "rawType": "object",
         "type": "string"
        },
        {
         "name": "company_size",
         "rawType": "object",
         "type": "unknown"
        },
        {
         "name": "company_type",
         "rawType": "object",
         "type": "unknown"
        },
        {
         "name": "last_new_job",
         "rawType": "object",
         "type": "string"
        },
        {
         "name": "training_hours",
         "rawType": "int64",
         "type": "integer"
        },
        {
         "name": "target",
         "rawType": "float64",
         "type": "float"
        }
       ],
       "ref": "c0069f18-8e25-4810-82c1-84bfa3142288",
       "rows": [
        [
         "0",
         "8949",
         "city_103",
         "0.92",
         null,
         "Has relevent experience",
         "no_enrollment",
         "Graduate",
         "STEM",
         ">20",
         null,
         null,
         "1",
         "36",
         "1.0"
        ],
        [
         "1",
         "29725",
         "city_40",
         "0.7759999999999999",
         null,
         "No relevent experience",
         "no_enrollment",
         "Graduate",
         "STEM",
         "15",
         "50-99",
         "Pvt Ltd",
         ">4",
         "47",
         "0.0"
        ],
        [
         "2",
         "11561",
         "city_21",
         "0.624",
         null,
         "No relevent experience",
         "Full time course",
         "Graduate",
         "STEM",
         "5",
         null,
         null,
         "never",
         "83",
         "0.0"
        ],
        [
         "3",
         "33241",
         "city_115",
         "0.789",
         null,
         "No relevent experience",
         null,
         "Graduate",
         "Business Degree",
         "<1",
         null,
         "Pvt Ltd",
         "never",
         "52",
         "1.0"
        ],
        [
         "4",
         "666",
         "city_162",
         "0.767",
         null,
         "Has relevent experience",
         "no_enrollment",
         "Masters",
         "STEM",
         ">20",
         "50-99",
         "Funded Startup",
         "4",
         "8",
         "0.0"
        ]
       ],
       "shape": {
        "columns": 14,
        "rows": 5
       }
      },
      "text/html": [
       "<div>\n",
       "<style scoped>\n",
       "    .dataframe tbody tr th:only-of-type {\n",
       "        vertical-align: middle;\n",
       "    }\n",
       "\n",
       "    .dataframe tbody tr th {\n",
       "        vertical-align: top;\n",
       "    }\n",
       "\n",
       "    .dataframe thead th {\n",
       "        text-align: right;\n",
       "    }\n",
       "</style>\n",
       "<table border=\"1\" class=\"dataframe\">\n",
       "  <thead>\n",
       "    <tr style=\"text-align: right;\">\n",
       "      <th></th>\n",
       "      <th>enrollee_id</th>\n",
       "      <th>city</th>\n",
       "      <th>city_development_index</th>\n",
       "      <th>gender</th>\n",
       "      <th>relevent_experience</th>\n",
       "      <th>enrolled_university</th>\n",
       "      <th>education_level</th>\n",
       "      <th>major_discipline</th>\n",
       "      <th>experience</th>\n",
       "      <th>company_size</th>\n",
       "      <th>company_type</th>\n",
       "      <th>last_new_job</th>\n",
       "      <th>training_hours</th>\n",
       "      <th>target</th>\n",
       "    </tr>\n",
       "  </thead>\n",
       "  <tbody>\n",
       "    <tr>\n",
       "      <th>0</th>\n",
       "      <td>8949</td>\n",
       "      <td>city_103</td>\n",
       "      <td>0.920</td>\n",
       "      <td>NaN</td>\n",
       "      <td>Has relevent experience</td>\n",
       "      <td>no_enrollment</td>\n",
       "      <td>Graduate</td>\n",
       "      <td>STEM</td>\n",
       "      <td>&gt;20</td>\n",
       "      <td>NaN</td>\n",
       "      <td>NaN</td>\n",
       "      <td>1</td>\n",
       "      <td>36</td>\n",
       "      <td>1.0</td>\n",
       "    </tr>\n",
       "    <tr>\n",
       "      <th>1</th>\n",
       "      <td>29725</td>\n",
       "      <td>city_40</td>\n",
       "      <td>0.776</td>\n",
       "      <td>NaN</td>\n",
       "      <td>No relevent experience</td>\n",
       "      <td>no_enrollment</td>\n",
       "      <td>Graduate</td>\n",
       "      <td>STEM</td>\n",
       "      <td>15</td>\n",
       "      <td>50-99</td>\n",
       "      <td>Pvt Ltd</td>\n",
       "      <td>&gt;4</td>\n",
       "      <td>47</td>\n",
       "      <td>0.0</td>\n",
       "    </tr>\n",
       "    <tr>\n",
       "      <th>2</th>\n",
       "      <td>11561</td>\n",
       "      <td>city_21</td>\n",
       "      <td>0.624</td>\n",
       "      <td>NaN</td>\n",
       "      <td>No relevent experience</td>\n",
       "      <td>Full time course</td>\n",
       "      <td>Graduate</td>\n",
       "      <td>STEM</td>\n",
       "      <td>5</td>\n",
       "      <td>NaN</td>\n",
       "      <td>NaN</td>\n",
       "      <td>never</td>\n",
       "      <td>83</td>\n",
       "      <td>0.0</td>\n",
       "    </tr>\n",
       "    <tr>\n",
       "      <th>3</th>\n",
       "      <td>33241</td>\n",
       "      <td>city_115</td>\n",
       "      <td>0.789</td>\n",
       "      <td>NaN</td>\n",
       "      <td>No relevent experience</td>\n",
       "      <td>NaN</td>\n",
       "      <td>Graduate</td>\n",
       "      <td>Business Degree</td>\n",
       "      <td>&lt;1</td>\n",
       "      <td>NaN</td>\n",
       "      <td>Pvt Ltd</td>\n",
       "      <td>never</td>\n",
       "      <td>52</td>\n",
       "      <td>1.0</td>\n",
       "    </tr>\n",
       "    <tr>\n",
       "      <th>4</th>\n",
       "      <td>666</td>\n",
       "      <td>city_162</td>\n",
       "      <td>0.767</td>\n",
       "      <td>NaN</td>\n",
       "      <td>Has relevent experience</td>\n",
       "      <td>no_enrollment</td>\n",
       "      <td>Masters</td>\n",
       "      <td>STEM</td>\n",
       "      <td>&gt;20</td>\n",
       "      <td>50-99</td>\n",
       "      <td>Funded Startup</td>\n",
       "      <td>4</td>\n",
       "      <td>8</td>\n",
       "      <td>0.0</td>\n",
       "    </tr>\n",
       "  </tbody>\n",
       "</table>\n",
       "</div>"
      ],
      "text/plain": [
       "   enrollee_id      city  city_development_index gender  \\\n",
       "0         8949  city_103                   0.920    NaN   \n",
       "1        29725   city_40                   0.776    NaN   \n",
       "2        11561   city_21                   0.624    NaN   \n",
       "3        33241  city_115                   0.789    NaN   \n",
       "4          666  city_162                   0.767    NaN   \n",
       "\n",
       "       relevent_experience enrolled_university education_level  \\\n",
       "0  Has relevent experience       no_enrollment        Graduate   \n",
       "1   No relevent experience       no_enrollment        Graduate   \n",
       "2   No relevent experience    Full time course        Graduate   \n",
       "3   No relevent experience                 NaN        Graduate   \n",
       "4  Has relevent experience       no_enrollment         Masters   \n",
       "\n",
       "  major_discipline experience company_size    company_type last_new_job  \\\n",
       "0             STEM        >20          NaN             NaN            1   \n",
       "1             STEM         15        50-99         Pvt Ltd           >4   \n",
       "2             STEM          5          NaN             NaN        never   \n",
       "3  Business Degree         <1          NaN         Pvt Ltd        never   \n",
       "4             STEM        >20        50-99  Funded Startup            4   \n",
       "\n",
       "   training_hours  target  \n",
       "0              36     1.0  \n",
       "1              47     0.0  \n",
       "2              83     0.0  \n",
       "3              52     1.0  \n",
       "4               8     0.0  "
      ]
     },
     "execution_count": 36,
     "metadata": {},
     "output_type": "execute_result"
    }
   ],
   "source": [
    "#na_values parameter\n",
    "pd.read_csv('aug_train.csv',na_values=['Male']).head()"
   ]
  },
  {
   "cell_type": "code",
   "execution_count": 39,
   "id": "e2b70422",
   "metadata": {},
   "outputs": [
    {
     "name": "stdout",
     "output_type": "stream",
     "text": [
      "(5000, 14)\n",
      "(5000, 14)\n",
      "(5000, 14)\n",
      "(4158, 14)\n"
     ]
    }
   ],
   "source": [
    "#loading a huge dataset in chunks\n",
    "dfs=pd.read_csv('aug_train.csv',chunksize=5000)\n",
    "for chunk in dfs:\n",
    "    print(chunk.shape)\n"
   ]
  },
  {
   "cell_type": "markdown",
   "id": "e93baab2",
   "metadata": {},
   "source": [
    "### Working With JSON"
   ]
  },
  {
   "cell_type": "code",
   "execution_count": null,
   "id": "c26b124b",
   "metadata": {},
   "outputs": [
    {
     "data": {
      "application/vnd.microsoft.datawrangler.viewer.v0+json": {
       "columns": [
        {
         "name": "index",
         "rawType": "int64",
         "type": "integer"
        },
        {
         "name": "id",
         "rawType": "int64",
         "type": "integer"
        },
        {
         "name": "cuisine",
         "rawType": "object",
         "type": "string"
        },
        {
         "name": "ingredients",
         "rawType": "object",
         "type": "unknown"
        }
       ],
       "ref": "cb98e96e-8b59-4719-890c-dfdaedcfd4e2",
       "rows": [
        [
         "0",
         "10259",
         "greek",
         "['romaine lettuce', 'black olives', 'grape tomatoes', 'garlic', 'pepper', 'purple onion', 'seasoning', 'garbanzo beans', 'feta cheese crumbles']"
        ],
        [
         "1",
         "25693",
         "southern_us",
         "['plain flour', 'ground pepper', 'salt', 'tomatoes', 'ground black pepper', 'thyme', 'eggs', 'green tomatoes', 'yellow corn meal', 'milk', 'vegetable oil']"
        ],
        [
         "2",
         "20130",
         "filipino",
         "['eggs', 'pepper', 'salt', 'mayonaise', 'cooking oil', 'green chilies', 'grilled chicken breasts', 'garlic powder', 'yellow onion', 'soy sauce', 'butter', 'chicken livers']"
        ],
        [
         "3",
         "22213",
         "indian",
         "['water', 'vegetable oil', 'wheat', 'salt']"
        ],
        [
         "4",
         "13162",
         "indian",
         "['black pepper', 'shallots', 'cornflour', 'cayenne pepper', 'onions', 'garlic paste', 'milk', 'butter', 'salt', 'lemon juice', 'water', 'chili powder', 'passata', 'oil', 'ground cumin', 'boneless chicken skinless thigh', 'garam masala', 'double cream', 'natural yogurt', 'bay leaf']"
        ]
       ],
       "shape": {
        "columns": 3,
        "rows": 5
       }
      },
      "text/html": [
       "<div>\n",
       "<style scoped>\n",
       "    .dataframe tbody tr th:only-of-type {\n",
       "        vertical-align: middle;\n",
       "    }\n",
       "\n",
       "    .dataframe tbody tr th {\n",
       "        vertical-align: top;\n",
       "    }\n",
       "\n",
       "    .dataframe thead th {\n",
       "        text-align: right;\n",
       "    }\n",
       "</style>\n",
       "<table border=\"1\" class=\"dataframe\">\n",
       "  <thead>\n",
       "    <tr style=\"text-align: right;\">\n",
       "      <th></th>\n",
       "      <th>id</th>\n",
       "      <th>cuisine</th>\n",
       "      <th>ingredients</th>\n",
       "    </tr>\n",
       "  </thead>\n",
       "  <tbody>\n",
       "    <tr>\n",
       "      <th>0</th>\n",
       "      <td>10259</td>\n",
       "      <td>greek</td>\n",
       "      <td>[romaine lettuce, black olives, grape tomatoes...</td>\n",
       "    </tr>\n",
       "    <tr>\n",
       "      <th>1</th>\n",
       "      <td>25693</td>\n",
       "      <td>southern_us</td>\n",
       "      <td>[plain flour, ground pepper, salt, tomatoes, g...</td>\n",
       "    </tr>\n",
       "    <tr>\n",
       "      <th>2</th>\n",
       "      <td>20130</td>\n",
       "      <td>filipino</td>\n",
       "      <td>[eggs, pepper, salt, mayonaise, cooking oil, g...</td>\n",
       "    </tr>\n",
       "    <tr>\n",
       "      <th>3</th>\n",
       "      <td>22213</td>\n",
       "      <td>indian</td>\n",
       "      <td>[water, vegetable oil, wheat, salt]</td>\n",
       "    </tr>\n",
       "    <tr>\n",
       "      <th>4</th>\n",
       "      <td>13162</td>\n",
       "      <td>indian</td>\n",
       "      <td>[black pepper, shallots, cornflour, cayenne pe...</td>\n",
       "    </tr>\n",
       "  </tbody>\n",
       "</table>\n",
       "</div>"
      ],
      "text/plain": [
       "      id      cuisine                                        ingredients\n",
       "0  10259        greek  [romaine lettuce, black olives, grape tomatoes...\n",
       "1  25693  southern_us  [plain flour, ground pepper, salt, tomatoes, g...\n",
       "2  20130     filipino  [eggs, pepper, salt, mayonaise, cooking oil, g...\n",
       "3  22213       indian                [water, vegetable oil, wheat, salt]\n",
       "4  13162       indian  [black pepper, shallots, cornflour, cayenne pe..."
      ]
     },
     "execution_count": 6,
     "metadata": {},
     "output_type": "execute_result"
    }
   ],
   "source": [
    "pd.read_json('train.json').head()"
   ]
  },
  {
   "cell_type": "code",
   "execution_count": 7,
   "id": "7049ad86",
   "metadata": {},
   "outputs": [
    {
     "data": {
      "application/vnd.microsoft.datawrangler.viewer.v0+json": {
       "columns": [
        {
         "name": "index",
         "rawType": "object",
         "type": "string"
        },
        {
         "name": "provider",
         "rawType": "object",
         "type": "string"
        },
        {
         "name": "WARNING_UPGRADE_TO_V6",
         "rawType": "object",
         "type": "string"
        },
        {
         "name": "terms",
         "rawType": "object",
         "type": "string"
        },
        {
         "name": "base",
         "rawType": "object",
         "type": "string"
        },
        {
         "name": "date",
         "rawType": "datetime64[ns]",
         "type": "datetime"
        },
        {
         "name": "time_last_updated",
         "rawType": "int64",
         "type": "integer"
        },
        {
         "name": "rates",
         "rawType": "float64",
         "type": "float"
        }
       ],
       "ref": "b567e3b1-c1d4-493c-86f6-4fda772494db",
       "rows": [
        [
         "INR",
         "https://www.exchangerate-api.com",
         "https://www.exchangerate-api.com/docs/free",
         "https://www.exchangerate-api.com/terms",
         "INR",
         "2025-08-14 00:00:00",
         "1755129601",
         "1.0"
        ],
        [
         "AED",
         "https://www.exchangerate-api.com",
         "https://www.exchangerate-api.com/docs/free",
         "https://www.exchangerate-api.com/terms",
         "INR",
         "2025-08-14 00:00:00",
         "1755129601",
         "0.042"
        ],
        [
         "AFN",
         "https://www.exchangerate-api.com",
         "https://www.exchangerate-api.com/docs/free",
         "https://www.exchangerate-api.com/terms",
         "INR",
         "2025-08-14 00:00:00",
         "1755129601",
         "0.782"
        ],
        [
         "ALL",
         "https://www.exchangerate-api.com",
         "https://www.exchangerate-api.com/docs/free",
         "https://www.exchangerate-api.com/terms",
         "INR",
         "2025-08-14 00:00:00",
         "1755129601",
         "0.9500000000000001"
        ],
        [
         "AMD",
         "https://www.exchangerate-api.com",
         "https://www.exchangerate-api.com/docs/free",
         "https://www.exchangerate-api.com/terms",
         "INR",
         "2025-08-14 00:00:00",
         "1755129601",
         "4.39"
        ],
        [
         "ANG",
         "https://www.exchangerate-api.com",
         "https://www.exchangerate-api.com/docs/free",
         "https://www.exchangerate-api.com/terms",
         "INR",
         "2025-08-14 00:00:00",
         "1755129601",
         "0.0205"
        ],
        [
         "AOA",
         "https://www.exchangerate-api.com",
         "https://www.exchangerate-api.com/docs/free",
         "https://www.exchangerate-api.com/terms",
         "INR",
         "2025-08-14 00:00:00",
         "1755129601",
         "10.65"
        ],
        [
         "ARS",
         "https://www.exchangerate-api.com",
         "https://www.exchangerate-api.com/docs/free",
         "https://www.exchangerate-api.com/terms",
         "INR",
         "2025-08-14 00:00:00",
         "1755129601",
         "15.06"
        ],
        [
         "AUD",
         "https://www.exchangerate-api.com",
         "https://www.exchangerate-api.com/docs/free",
         "https://www.exchangerate-api.com/terms",
         "INR",
         "2025-08-14 00:00:00",
         "1755129601",
         "0.0175"
        ],
        [
         "AWG",
         "https://www.exchangerate-api.com",
         "https://www.exchangerate-api.com/docs/free",
         "https://www.exchangerate-api.com/terms",
         "INR",
         "2025-08-14 00:00:00",
         "1755129601",
         "0.0205"
        ],
        [
         "AZN",
         "https://www.exchangerate-api.com",
         "https://www.exchangerate-api.com/docs/free",
         "https://www.exchangerate-api.com/terms",
         "INR",
         "2025-08-14 00:00:00",
         "1755129601",
         "0.0194"
        ],
        [
         "BAM",
         "https://www.exchangerate-api.com",
         "https://www.exchangerate-api.com/docs/free",
         "https://www.exchangerate-api.com/terms",
         "INR",
         "2025-08-14 00:00:00",
         "1755129601",
         "0.019100000000000002"
        ],
        [
         "BBD",
         "https://www.exchangerate-api.com",
         "https://www.exchangerate-api.com/docs/free",
         "https://www.exchangerate-api.com/terms",
         "INR",
         "2025-08-14 00:00:00",
         "1755129601",
         "0.0229"
        ],
        [
         "BDT",
         "https://www.exchangerate-api.com",
         "https://www.exchangerate-api.com/docs/free",
         "https://www.exchangerate-api.com/terms",
         "INR",
         "2025-08-14 00:00:00",
         "1755129601",
         "1.3900000000000001"
        ],
        [
         "BGN",
         "https://www.exchangerate-api.com",
         "https://www.exchangerate-api.com/docs/free",
         "https://www.exchangerate-api.com/terms",
         "INR",
         "2025-08-14 00:00:00",
         "1755129601",
         "0.019100000000000002"
        ],
        [
         "BHD",
         "https://www.exchangerate-api.com",
         "https://www.exchangerate-api.com/docs/free",
         "https://www.exchangerate-api.com/terms",
         "INR",
         "2025-08-14 00:00:00",
         "1755129601",
         "0.0043"
        ],
        [
         "BIF",
         "https://www.exchangerate-api.com",
         "https://www.exchangerate-api.com/docs/free",
         "https://www.exchangerate-api.com/terms",
         "INR",
         "2025-08-14 00:00:00",
         "1755129601",
         "34.17"
        ],
        [
         "BMD",
         "https://www.exchangerate-api.com",
         "https://www.exchangerate-api.com/docs/free",
         "https://www.exchangerate-api.com/terms",
         "INR",
         "2025-08-14 00:00:00",
         "1755129601",
         "0.0114"
        ],
        [
         "BND",
         "https://www.exchangerate-api.com",
         "https://www.exchangerate-api.com/docs/free",
         "https://www.exchangerate-api.com/terms",
         "INR",
         "2025-08-14 00:00:00",
         "1755129601",
         "0.0146"
        ],
        [
         "BOB",
         "https://www.exchangerate-api.com",
         "https://www.exchangerate-api.com/docs/free",
         "https://www.exchangerate-api.com/terms",
         "INR",
         "2025-08-14 00:00:00",
         "1755129601",
         "0.07930000000000001"
        ],
        [
         "BRL",
         "https://www.exchangerate-api.com",
         "https://www.exchangerate-api.com/docs/free",
         "https://www.exchangerate-api.com/terms",
         "INR",
         "2025-08-14 00:00:00",
         "1755129601",
         "0.061700000000000005"
        ],
        [
         "BSD",
         "https://www.exchangerate-api.com",
         "https://www.exchangerate-api.com/docs/free",
         "https://www.exchangerate-api.com/terms",
         "INR",
         "2025-08-14 00:00:00",
         "1755129601",
         "0.0114"
        ],
        [
         "BTN",
         "https://www.exchangerate-api.com",
         "https://www.exchangerate-api.com/docs/free",
         "https://www.exchangerate-api.com/terms",
         "INR",
         "2025-08-14 00:00:00",
         "1755129601",
         "1.0"
        ],
        [
         "BWP",
         "https://www.exchangerate-api.com",
         "https://www.exchangerate-api.com/docs/free",
         "https://www.exchangerate-api.com/terms",
         "INR",
         "2025-08-14 00:00:00",
         "1755129601",
         "0.158"
        ],
        [
         "BYN",
         "https://www.exchangerate-api.com",
         "https://www.exchangerate-api.com/docs/free",
         "https://www.exchangerate-api.com/terms",
         "INR",
         "2025-08-14 00:00:00",
         "1755129601",
         "0.0363"
        ],
        [
         "BZD",
         "https://www.exchangerate-api.com",
         "https://www.exchangerate-api.com/docs/free",
         "https://www.exchangerate-api.com/terms",
         "INR",
         "2025-08-14 00:00:00",
         "1755129601",
         "0.0229"
        ],
        [
         "CAD",
         "https://www.exchangerate-api.com",
         "https://www.exchangerate-api.com/docs/free",
         "https://www.exchangerate-api.com/terms",
         "INR",
         "2025-08-14 00:00:00",
         "1755129601",
         "0.015700000000000002"
        ],
        [
         "CDF",
         "https://www.exchangerate-api.com",
         "https://www.exchangerate-api.com/docs/free",
         "https://www.exchangerate-api.com/terms",
         "INR",
         "2025-08-14 00:00:00",
         "1755129601",
         "33.19"
        ],
        [
         "CHF",
         "https://www.exchangerate-api.com",
         "https://www.exchangerate-api.com/docs/free",
         "https://www.exchangerate-api.com/terms",
         "INR",
         "2025-08-14 00:00:00",
         "1755129601",
         "0.0092"
        ],
        [
         "CLP",
         "https://www.exchangerate-api.com",
         "https://www.exchangerate-api.com/docs/free",
         "https://www.exchangerate-api.com/terms",
         "INR",
         "2025-08-14 00:00:00",
         "1755129601",
         "10.93"
        ],
        [
         "CNY",
         "https://www.exchangerate-api.com",
         "https://www.exchangerate-api.com/docs/free",
         "https://www.exchangerate-api.com/terms",
         "INR",
         "2025-08-14 00:00:00",
         "1755129601",
         "0.0821"
        ],
        [
         "COP",
         "https://www.exchangerate-api.com",
         "https://www.exchangerate-api.com/docs/free",
         "https://www.exchangerate-api.com/terms",
         "INR",
         "2025-08-14 00:00:00",
         "1755129601",
         "45.97"
        ],
        [
         "CRC",
         "https://www.exchangerate-api.com",
         "https://www.exchangerate-api.com/docs/free",
         "https://www.exchangerate-api.com/terms",
         "INR",
         "2025-08-14 00:00:00",
         "1755129601",
         "5.79"
        ],
        [
         "CUP",
         "https://www.exchangerate-api.com",
         "https://www.exchangerate-api.com/docs/free",
         "https://www.exchangerate-api.com/terms",
         "INR",
         "2025-08-14 00:00:00",
         "1755129601",
         "0.274"
        ],
        [
         "CVE",
         "https://www.exchangerate-api.com",
         "https://www.exchangerate-api.com/docs/free",
         "https://www.exchangerate-api.com/terms",
         "INR",
         "2025-08-14 00:00:00",
         "1755129601",
         "1.08"
        ],
        [
         "CZK",
         "https://www.exchangerate-api.com",
         "https://www.exchangerate-api.com/docs/free",
         "https://www.exchangerate-api.com/terms",
         "INR",
         "2025-08-14 00:00:00",
         "1755129601",
         "0.23900000000000002"
        ],
        [
         "DJF",
         "https://www.exchangerate-api.com",
         "https://www.exchangerate-api.com/docs/free",
         "https://www.exchangerate-api.com/terms",
         "INR",
         "2025-08-14 00:00:00",
         "1755129601",
         "2.03"
        ],
        [
         "DKK",
         "https://www.exchangerate-api.com",
         "https://www.exchangerate-api.com/docs/free",
         "https://www.exchangerate-api.com/terms",
         "INR",
         "2025-08-14 00:00:00",
         "1755129601",
         "0.0729"
        ],
        [
         "DOP",
         "https://www.exchangerate-api.com",
         "https://www.exchangerate-api.com/docs/free",
         "https://www.exchangerate-api.com/terms",
         "INR",
         "2025-08-14 00:00:00",
         "1755129601",
         "0.7010000000000001"
        ],
        [
         "DZD",
         "https://www.exchangerate-api.com",
         "https://www.exchangerate-api.com/docs/free",
         "https://www.exchangerate-api.com/terms",
         "INR",
         "2025-08-14 00:00:00",
         "1755129601",
         "1.48"
        ],
        [
         "EGP",
         "https://www.exchangerate-api.com",
         "https://www.exchangerate-api.com/docs/free",
         "https://www.exchangerate-api.com/terms",
         "INR",
         "2025-08-14 00:00:00",
         "1755129601",
         "0.552"
        ],
        [
         "ERN",
         "https://www.exchangerate-api.com",
         "https://www.exchangerate-api.com/docs/free",
         "https://www.exchangerate-api.com/terms",
         "INR",
         "2025-08-14 00:00:00",
         "1755129601",
         "0.171"
        ],
        [
         "ETB",
         "https://www.exchangerate-api.com",
         "https://www.exchangerate-api.com/docs/free",
         "https://www.exchangerate-api.com/terms",
         "INR",
         "2025-08-14 00:00:00",
         "1755129601",
         "1.6"
        ],
        [
         "EUR",
         "https://www.exchangerate-api.com",
         "https://www.exchangerate-api.com/docs/free",
         "https://www.exchangerate-api.com/terms",
         "INR",
         "2025-08-14 00:00:00",
         "1755129601",
         "0.009760000000000001"
        ],
        [
         "FJD",
         "https://www.exchangerate-api.com",
         "https://www.exchangerate-api.com/docs/free",
         "https://www.exchangerate-api.com/terms",
         "INR",
         "2025-08-14 00:00:00",
         "1755129601",
         "0.0257"
        ],
        [
         "FKP",
         "https://www.exchangerate-api.com",
         "https://www.exchangerate-api.com/docs/free",
         "https://www.exchangerate-api.com/terms",
         "INR",
         "2025-08-14 00:00:00",
         "1755129601",
         "0.00843"
        ],
        [
         "FOK",
         "https://www.exchangerate-api.com",
         "https://www.exchangerate-api.com/docs/free",
         "https://www.exchangerate-api.com/terms",
         "INR",
         "2025-08-14 00:00:00",
         "1755129601",
         "0.0729"
        ],
        [
         "GBP",
         "https://www.exchangerate-api.com",
         "https://www.exchangerate-api.com/docs/free",
         "https://www.exchangerate-api.com/terms",
         "INR",
         "2025-08-14 00:00:00",
         "1755129601",
         "0.00843"
        ],
        [
         "GEL",
         "https://www.exchangerate-api.com",
         "https://www.exchangerate-api.com/docs/free",
         "https://www.exchangerate-api.com/terms",
         "INR",
         "2025-08-14 00:00:00",
         "1755129601",
         "0.031"
        ],
        [
         "GGP",
         "https://www.exchangerate-api.com",
         "https://www.exchangerate-api.com/docs/free",
         "https://www.exchangerate-api.com/terms",
         "INR",
         "2025-08-14 00:00:00",
         "1755129601",
         "0.00843"
        ]
       ],
       "shape": {
        "columns": 7,
        "rows": 163
       }
      },
      "text/html": [
       "<div>\n",
       "<style scoped>\n",
       "    .dataframe tbody tr th:only-of-type {\n",
       "        vertical-align: middle;\n",
       "    }\n",
       "\n",
       "    .dataframe tbody tr th {\n",
       "        vertical-align: top;\n",
       "    }\n",
       "\n",
       "    .dataframe thead th {\n",
       "        text-align: right;\n",
       "    }\n",
       "</style>\n",
       "<table border=\"1\" class=\"dataframe\">\n",
       "  <thead>\n",
       "    <tr style=\"text-align: right;\">\n",
       "      <th></th>\n",
       "      <th>provider</th>\n",
       "      <th>WARNING_UPGRADE_TO_V6</th>\n",
       "      <th>terms</th>\n",
       "      <th>base</th>\n",
       "      <th>date</th>\n",
       "      <th>time_last_updated</th>\n",
       "      <th>rates</th>\n",
       "    </tr>\n",
       "  </thead>\n",
       "  <tbody>\n",
       "    <tr>\n",
       "      <th>INR</th>\n",
       "      <td>https://www.exchangerate-api.com</td>\n",
       "      <td>https://www.exchangerate-api.com/docs/free</td>\n",
       "      <td>https://www.exchangerate-api.com/terms</td>\n",
       "      <td>INR</td>\n",
       "      <td>2025-08-14</td>\n",
       "      <td>1755129601</td>\n",
       "      <td>1.000</td>\n",
       "    </tr>\n",
       "    <tr>\n",
       "      <th>AED</th>\n",
       "      <td>https://www.exchangerate-api.com</td>\n",
       "      <td>https://www.exchangerate-api.com/docs/free</td>\n",
       "      <td>https://www.exchangerate-api.com/terms</td>\n",
       "      <td>INR</td>\n",
       "      <td>2025-08-14</td>\n",
       "      <td>1755129601</td>\n",
       "      <td>0.042</td>\n",
       "    </tr>\n",
       "    <tr>\n",
       "      <th>AFN</th>\n",
       "      <td>https://www.exchangerate-api.com</td>\n",
       "      <td>https://www.exchangerate-api.com/docs/free</td>\n",
       "      <td>https://www.exchangerate-api.com/terms</td>\n",
       "      <td>INR</td>\n",
       "      <td>2025-08-14</td>\n",
       "      <td>1755129601</td>\n",
       "      <td>0.782</td>\n",
       "    </tr>\n",
       "    <tr>\n",
       "      <th>ALL</th>\n",
       "      <td>https://www.exchangerate-api.com</td>\n",
       "      <td>https://www.exchangerate-api.com/docs/free</td>\n",
       "      <td>https://www.exchangerate-api.com/terms</td>\n",
       "      <td>INR</td>\n",
       "      <td>2025-08-14</td>\n",
       "      <td>1755129601</td>\n",
       "      <td>0.950</td>\n",
       "    </tr>\n",
       "    <tr>\n",
       "      <th>AMD</th>\n",
       "      <td>https://www.exchangerate-api.com</td>\n",
       "      <td>https://www.exchangerate-api.com/docs/free</td>\n",
       "      <td>https://www.exchangerate-api.com/terms</td>\n",
       "      <td>INR</td>\n",
       "      <td>2025-08-14</td>\n",
       "      <td>1755129601</td>\n",
       "      <td>4.390</td>\n",
       "    </tr>\n",
       "    <tr>\n",
       "      <th>...</th>\n",
       "      <td>...</td>\n",
       "      <td>...</td>\n",
       "      <td>...</td>\n",
       "      <td>...</td>\n",
       "      <td>...</td>\n",
       "      <td>...</td>\n",
       "      <td>...</td>\n",
       "    </tr>\n",
       "    <tr>\n",
       "      <th>XPF</th>\n",
       "      <td>https://www.exchangerate-api.com</td>\n",
       "      <td>https://www.exchangerate-api.com/docs/free</td>\n",
       "      <td>https://www.exchangerate-api.com/terms</td>\n",
       "      <td>INR</td>\n",
       "      <td>2025-08-14</td>\n",
       "      <td>1755129601</td>\n",
       "      <td>1.170</td>\n",
       "    </tr>\n",
       "    <tr>\n",
       "      <th>YER</th>\n",
       "      <td>https://www.exchangerate-api.com</td>\n",
       "      <td>https://www.exchangerate-api.com/docs/free</td>\n",
       "      <td>https://www.exchangerate-api.com/terms</td>\n",
       "      <td>INR</td>\n",
       "      <td>2025-08-14</td>\n",
       "      <td>1755129601</td>\n",
       "      <td>2.750</td>\n",
       "    </tr>\n",
       "    <tr>\n",
       "      <th>ZAR</th>\n",
       "      <td>https://www.exchangerate-api.com</td>\n",
       "      <td>https://www.exchangerate-api.com/docs/free</td>\n",
       "      <td>https://www.exchangerate-api.com/terms</td>\n",
       "      <td>INR</td>\n",
       "      <td>2025-08-14</td>\n",
       "      <td>1755129601</td>\n",
       "      <td>0.200</td>\n",
       "    </tr>\n",
       "    <tr>\n",
       "      <th>ZMW</th>\n",
       "      <td>https://www.exchangerate-api.com</td>\n",
       "      <td>https://www.exchangerate-api.com/docs/free</td>\n",
       "      <td>https://www.exchangerate-api.com/terms</td>\n",
       "      <td>INR</td>\n",
       "      <td>2025-08-14</td>\n",
       "      <td>1755129601</td>\n",
       "      <td>0.264</td>\n",
       "    </tr>\n",
       "    <tr>\n",
       "      <th>ZWL</th>\n",
       "      <td>https://www.exchangerate-api.com</td>\n",
       "      <td>https://www.exchangerate-api.com/docs/free</td>\n",
       "      <td>https://www.exchangerate-api.com/terms</td>\n",
       "      <td>INR</td>\n",
       "      <td>2025-08-14</td>\n",
       "      <td>1755129601</td>\n",
       "      <td>0.306</td>\n",
       "    </tr>\n",
       "  </tbody>\n",
       "</table>\n",
       "<p>163 rows × 7 columns</p>\n",
       "</div>"
      ],
      "text/plain": [
       "                             provider  \\\n",
       "INR  https://www.exchangerate-api.com   \n",
       "AED  https://www.exchangerate-api.com   \n",
       "AFN  https://www.exchangerate-api.com   \n",
       "ALL  https://www.exchangerate-api.com   \n",
       "AMD  https://www.exchangerate-api.com   \n",
       "..                                ...   \n",
       "XPF  https://www.exchangerate-api.com   \n",
       "YER  https://www.exchangerate-api.com   \n",
       "ZAR  https://www.exchangerate-api.com   \n",
       "ZMW  https://www.exchangerate-api.com   \n",
       "ZWL  https://www.exchangerate-api.com   \n",
       "\n",
       "                          WARNING_UPGRADE_TO_V6  \\\n",
       "INR  https://www.exchangerate-api.com/docs/free   \n",
       "AED  https://www.exchangerate-api.com/docs/free   \n",
       "AFN  https://www.exchangerate-api.com/docs/free   \n",
       "ALL  https://www.exchangerate-api.com/docs/free   \n",
       "AMD  https://www.exchangerate-api.com/docs/free   \n",
       "..                                          ...   \n",
       "XPF  https://www.exchangerate-api.com/docs/free   \n",
       "YER  https://www.exchangerate-api.com/docs/free   \n",
       "ZAR  https://www.exchangerate-api.com/docs/free   \n",
       "ZMW  https://www.exchangerate-api.com/docs/free   \n",
       "ZWL  https://www.exchangerate-api.com/docs/free   \n",
       "\n",
       "                                      terms base       date  \\\n",
       "INR  https://www.exchangerate-api.com/terms  INR 2025-08-14   \n",
       "AED  https://www.exchangerate-api.com/terms  INR 2025-08-14   \n",
       "AFN  https://www.exchangerate-api.com/terms  INR 2025-08-14   \n",
       "ALL  https://www.exchangerate-api.com/terms  INR 2025-08-14   \n",
       "AMD  https://www.exchangerate-api.com/terms  INR 2025-08-14   \n",
       "..                                      ...  ...        ...   \n",
       "XPF  https://www.exchangerate-api.com/terms  INR 2025-08-14   \n",
       "YER  https://www.exchangerate-api.com/terms  INR 2025-08-14   \n",
       "ZAR  https://www.exchangerate-api.com/terms  INR 2025-08-14   \n",
       "ZMW  https://www.exchangerate-api.com/terms  INR 2025-08-14   \n",
       "ZWL  https://www.exchangerate-api.com/terms  INR 2025-08-14   \n",
       "\n",
       "     time_last_updated  rates  \n",
       "INR         1755129601  1.000  \n",
       "AED         1755129601  0.042  \n",
       "AFN         1755129601  0.782  \n",
       "ALL         1755129601  0.950  \n",
       "AMD         1755129601  4.390  \n",
       "..                 ...    ...  \n",
       "XPF         1755129601  1.170  \n",
       "YER         1755129601  2.750  \n",
       "ZAR         1755129601  0.200  \n",
       "ZMW         1755129601  0.264  \n",
       "ZWL         1755129601  0.306  \n",
       "\n",
       "[163 rows x 7 columns]"
      ]
     },
     "execution_count": 7,
     "metadata": {},
     "output_type": "execute_result"
    }
   ],
   "source": [
    "pd.read_json('https://api.exchangerate-api.com/v4/latest/INR')"
   ]
  },
  {
   "cell_type": "markdown",
   "id": "c0f5c432",
   "metadata": {},
   "source": [
    "### Working With SQL"
   ]
  },
  {
   "cell_type": "code",
   "execution_count": 31,
   "id": "4171b534",
   "metadata": {},
   "outputs": [],
   "source": [
    "import mysql.connector"
   ]
  },
  {
   "cell_type": "code",
   "execution_count": 21,
   "id": "f67ac9ec",
   "metadata": {},
   "outputs": [],
   "source": [
    "conn=mysql.connector.connect(host='localhost',user='root',password='',database='world')"
   ]
  },
  {
   "cell_type": "code",
   "execution_count": 22,
   "id": "fbf4ed60",
   "metadata": {},
   "outputs": [
    {
     "name": "stderr",
     "output_type": "stream",
     "text": [
      "C:\\Users\\uzebk\\AppData\\Local\\Temp\\ipykernel_6844\\1806405581.py:1: UserWarning: pandas only supports SQLAlchemy connectable (engine/connection) or database string URI or sqlite3 DBAPI2 connection. Other DBAPI2 objects are not tested. Please consider using SQLAlchemy.\n",
      "  pd.read_sql_query('select * from city',conn)\n"
     ]
    },
    {
     "data": {
      "application/vnd.microsoft.datawrangler.viewer.v0+json": {
       "columns": [
        {
         "name": "index",
         "rawType": "int64",
         "type": "integer"
        },
        {
         "name": "ID",
         "rawType": "int64",
         "type": "integer"
        },
        {
         "name": "Name",
         "rawType": "object",
         "type": "string"
        },
        {
         "name": "CountryCode",
         "rawType": "object",
         "type": "string"
        },
        {
         "name": "District",
         "rawType": "object",
         "type": "string"
        },
        {
         "name": "Population",
         "rawType": "int64",
         "type": "integer"
        }
       ],
       "ref": "e7094d4d-bba2-49b8-a183-1ce3878360eb",
       "rows": [
        [
         "0",
         "1",
         "Kabul",
         "AFG",
         "Kabol",
         "1780000"
        ],
        [
         "1",
         "2",
         "Qandahar",
         "AFG",
         "Qandahar",
         "237500"
        ],
        [
         "2",
         "3",
         "Herat",
         "AFG",
         "Herat",
         "186800"
        ],
        [
         "3",
         "4",
         "Mazar-e-Sharif",
         "AFG",
         "Balkh",
         "127800"
        ],
        [
         "4",
         "5",
         "Amsterdam",
         "NLD",
         "Noord-Holland",
         "731200"
        ],
        [
         "5",
         "6",
         "Rotterdam",
         "NLD",
         "Zuid-Holland",
         "593321"
        ],
        [
         "6",
         "7",
         "Haag",
         "NLD",
         "Zuid-Holland",
         "440900"
        ],
        [
         "7",
         "8",
         "Utrecht",
         "NLD",
         "Utrecht",
         "234323"
        ],
        [
         "8",
         "9",
         "Eindhoven",
         "NLD",
         "Noord-Brabant",
         "201843"
        ],
        [
         "9",
         "10",
         "Tilburg",
         "NLD",
         "Noord-Brabant",
         "193238"
        ],
        [
         "10",
         "11",
         "Groningen",
         "NLD",
         "Groningen",
         "172701"
        ],
        [
         "11",
         "12",
         "Breda",
         "NLD",
         "Noord-Brabant",
         "160398"
        ],
        [
         "12",
         "13",
         "Apeldoorn",
         "NLD",
         "Gelderland",
         "153491"
        ],
        [
         "13",
         "14",
         "Nijmegen",
         "NLD",
         "Gelderland",
         "152463"
        ],
        [
         "14",
         "15",
         "Enschede",
         "NLD",
         "Overijssel",
         "149544"
        ],
        [
         "15",
         "16",
         "Haarlem",
         "NLD",
         "Noord-Holland",
         "148772"
        ],
        [
         "16",
         "17",
         "Almere",
         "NLD",
         "Flevoland",
         "142465"
        ],
        [
         "17",
         "18",
         "Arnhem",
         "NLD",
         "Gelderland",
         "138020"
        ],
        [
         "18",
         "19",
         "Zaanstad",
         "NLD",
         "Noord-Holland",
         "135621"
        ],
        [
         "19",
         "20",
         "´s-Hertogenbosch",
         "NLD",
         "Noord-Brabant",
         "129170"
        ],
        [
         "20",
         "21",
         "Amersfoort",
         "NLD",
         "Utrecht",
         "126270"
        ],
        [
         "21",
         "22",
         "Maastricht",
         "NLD",
         "Limburg",
         "122087"
        ],
        [
         "22",
         "23",
         "Dordrecht",
         "NLD",
         "Zuid-Holland",
         "119811"
        ],
        [
         "23",
         "24",
         "Leiden",
         "NLD",
         "Zuid-Holland",
         "117196"
        ],
        [
         "24",
         "25",
         "Haarlemmermeer",
         "NLD",
         "Noord-Holland",
         "110722"
        ],
        [
         "25",
         "26",
         "Zoetermeer",
         "NLD",
         "Zuid-Holland",
         "110214"
        ],
        [
         "26",
         "27",
         "Emmen",
         "NLD",
         "Drenthe",
         "105853"
        ],
        [
         "27",
         "28",
         "Zwolle",
         "NLD",
         "Overijssel",
         "105819"
        ],
        [
         "28",
         "29",
         "Ede",
         "NLD",
         "Gelderland",
         "101574"
        ],
        [
         "29",
         "30",
         "Delft",
         "NLD",
         "Zuid-Holland",
         "95268"
        ],
        [
         "30",
         "31",
         "Heerlen",
         "NLD",
         "Limburg",
         "95052"
        ],
        [
         "31",
         "32",
         "Alkmaar",
         "NLD",
         "Noord-Holland",
         "92713"
        ],
        [
         "32",
         "33",
         "Willemstad",
         "ANT",
         "Curaçao",
         "2345"
        ],
        [
         "33",
         "34",
         "Tirana",
         "ALB",
         "Tirana",
         "270000"
        ],
        [
         "34",
         "35",
         "Alger",
         "DZA",
         "Alger",
         "2168000"
        ],
        [
         "35",
         "36",
         "Oran",
         "DZA",
         "Oran",
         "609823"
        ],
        [
         "36",
         "37",
         "Constantine",
         "DZA",
         "Constantine",
         "443727"
        ],
        [
         "37",
         "38",
         "Annaba",
         "DZA",
         "Annaba",
         "222518"
        ],
        [
         "38",
         "39",
         "Batna",
         "DZA",
         "Batna",
         "183377"
        ],
        [
         "39",
         "40",
         "Sétif",
         "DZA",
         "Sétif",
         "179055"
        ],
        [
         "40",
         "41",
         "Sidi Bel Abbès",
         "DZA",
         "Sidi Bel Abbès",
         "153106"
        ],
        [
         "41",
         "42",
         "Skikda",
         "DZA",
         "Skikda",
         "128747"
        ],
        [
         "42",
         "43",
         "Biskra",
         "DZA",
         "Biskra",
         "128281"
        ],
        [
         "43",
         "44",
         "Blida (el-Boulaida)",
         "DZA",
         "Blida",
         "127284"
        ],
        [
         "44",
         "45",
         "Béjaïa",
         "DZA",
         "Béjaïa",
         "117162"
        ],
        [
         "45",
         "46",
         "Mostaganem",
         "DZA",
         "Mostaganem",
         "115212"
        ],
        [
         "46",
         "47",
         "Tébessa",
         "DZA",
         "Tébessa",
         "112007"
        ],
        [
         "47",
         "48",
         "Tlemcen (Tilimsen)",
         "DZA",
         "Tlemcen",
         "110242"
        ],
        [
         "48",
         "49",
         "Béchar",
         "DZA",
         "Béchar",
         "107311"
        ],
        [
         "49",
         "50",
         "Tiaret",
         "DZA",
         "Tiaret",
         "100118"
        ]
       ],
       "shape": {
        "columns": 5,
        "rows": 4079
       }
      },
      "text/html": [
       "<div>\n",
       "<style scoped>\n",
       "    .dataframe tbody tr th:only-of-type {\n",
       "        vertical-align: middle;\n",
       "    }\n",
       "\n",
       "    .dataframe tbody tr th {\n",
       "        vertical-align: top;\n",
       "    }\n",
       "\n",
       "    .dataframe thead th {\n",
       "        text-align: right;\n",
       "    }\n",
       "</style>\n",
       "<table border=\"1\" class=\"dataframe\">\n",
       "  <thead>\n",
       "    <tr style=\"text-align: right;\">\n",
       "      <th></th>\n",
       "      <th>ID</th>\n",
       "      <th>Name</th>\n",
       "      <th>CountryCode</th>\n",
       "      <th>District</th>\n",
       "      <th>Population</th>\n",
       "    </tr>\n",
       "  </thead>\n",
       "  <tbody>\n",
       "    <tr>\n",
       "      <th>0</th>\n",
       "      <td>1</td>\n",
       "      <td>Kabul</td>\n",
       "      <td>AFG</td>\n",
       "      <td>Kabol</td>\n",
       "      <td>1780000</td>\n",
       "    </tr>\n",
       "    <tr>\n",
       "      <th>1</th>\n",
       "      <td>2</td>\n",
       "      <td>Qandahar</td>\n",
       "      <td>AFG</td>\n",
       "      <td>Qandahar</td>\n",
       "      <td>237500</td>\n",
       "    </tr>\n",
       "    <tr>\n",
       "      <th>2</th>\n",
       "      <td>3</td>\n",
       "      <td>Herat</td>\n",
       "      <td>AFG</td>\n",
       "      <td>Herat</td>\n",
       "      <td>186800</td>\n",
       "    </tr>\n",
       "    <tr>\n",
       "      <th>3</th>\n",
       "      <td>4</td>\n",
       "      <td>Mazar-e-Sharif</td>\n",
       "      <td>AFG</td>\n",
       "      <td>Balkh</td>\n",
       "      <td>127800</td>\n",
       "    </tr>\n",
       "    <tr>\n",
       "      <th>4</th>\n",
       "      <td>5</td>\n",
       "      <td>Amsterdam</td>\n",
       "      <td>NLD</td>\n",
       "      <td>Noord-Holland</td>\n",
       "      <td>731200</td>\n",
       "    </tr>\n",
       "    <tr>\n",
       "      <th>...</th>\n",
       "      <td>...</td>\n",
       "      <td>...</td>\n",
       "      <td>...</td>\n",
       "      <td>...</td>\n",
       "      <td>...</td>\n",
       "    </tr>\n",
       "    <tr>\n",
       "      <th>4074</th>\n",
       "      <td>4075</td>\n",
       "      <td>Khan Yunis</td>\n",
       "      <td>PSE</td>\n",
       "      <td>Khan Yunis</td>\n",
       "      <td>123175</td>\n",
       "    </tr>\n",
       "    <tr>\n",
       "      <th>4075</th>\n",
       "      <td>4076</td>\n",
       "      <td>Hebron</td>\n",
       "      <td>PSE</td>\n",
       "      <td>Hebron</td>\n",
       "      <td>119401</td>\n",
       "    </tr>\n",
       "    <tr>\n",
       "      <th>4076</th>\n",
       "      <td>4077</td>\n",
       "      <td>Jabaliya</td>\n",
       "      <td>PSE</td>\n",
       "      <td>North Gaza</td>\n",
       "      <td>113901</td>\n",
       "    </tr>\n",
       "    <tr>\n",
       "      <th>4077</th>\n",
       "      <td>4078</td>\n",
       "      <td>Nablus</td>\n",
       "      <td>PSE</td>\n",
       "      <td>Nablus</td>\n",
       "      <td>100231</td>\n",
       "    </tr>\n",
       "    <tr>\n",
       "      <th>4078</th>\n",
       "      <td>4079</td>\n",
       "      <td>Rafah</td>\n",
       "      <td>PSE</td>\n",
       "      <td>Rafah</td>\n",
       "      <td>92020</td>\n",
       "    </tr>\n",
       "  </tbody>\n",
       "</table>\n",
       "<p>4079 rows × 5 columns</p>\n",
       "</div>"
      ],
      "text/plain": [
       "        ID            Name CountryCode       District  Population\n",
       "0        1           Kabul         AFG          Kabol     1780000\n",
       "1        2        Qandahar         AFG       Qandahar      237500\n",
       "2        3           Herat         AFG          Herat      186800\n",
       "3        4  Mazar-e-Sharif         AFG          Balkh      127800\n",
       "4        5       Amsterdam         NLD  Noord-Holland      731200\n",
       "...    ...             ...         ...            ...         ...\n",
       "4074  4075      Khan Yunis         PSE     Khan Yunis      123175\n",
       "4075  4076          Hebron         PSE         Hebron      119401\n",
       "4076  4077        Jabaliya         PSE     North Gaza      113901\n",
       "4077  4078          Nablus         PSE         Nablus      100231\n",
       "4078  4079           Rafah         PSE          Rafah       92020\n",
       "\n",
       "[4079 rows x 5 columns]"
      ]
     },
     "execution_count": 22,
     "metadata": {},
     "output_type": "execute_result"
    }
   ],
   "source": [
    "pd.read_sql_query('select * from city',conn)"
   ]
  },
  {
   "cell_type": "code",
   "execution_count": 24,
   "id": "0b7d5513",
   "metadata": {},
   "outputs": [
    {
     "name": "stderr",
     "output_type": "stream",
     "text": [
      "C:\\Users\\uzebk\\AppData\\Local\\Temp\\ipykernel_6844\\3942989376.py:1: UserWarning: pandas only supports SQLAlchemy connectable (engine/connection) or database string URI or sqlite3 DBAPI2 connection. Other DBAPI2 objects are not tested. Please consider using SQLAlchemy.\n",
      "  df = pd.read_sql_query(\"SELECT * FROM countrylanguage\",conn)\n"
     ]
    },
    {
     "data": {
      "application/vnd.microsoft.datawrangler.viewer.v0+json": {
       "columns": [
        {
         "name": "index",
         "rawType": "int64",
         "type": "integer"
        },
        {
         "name": "CountryCode",
         "rawType": "object",
         "type": "string"
        },
        {
         "name": "Language",
         "rawType": "object",
         "type": "string"
        },
        {
         "name": "IsOfficial",
         "rawType": "object",
         "type": "string"
        },
        {
         "name": "Percentage",
         "rawType": "float64",
         "type": "float"
        }
       ],
       "ref": "762e812e-7a35-4f77-b4e5-7d721ae46cd8",
       "rows": [
        [
         "0",
         "ABW",
         "Dutch",
         "T",
         "5.3"
        ],
        [
         "1",
         "ABW",
         "English",
         "F",
         "9.5"
        ],
        [
         "2",
         "ABW",
         "Papiamento",
         "F",
         "76.7"
        ],
        [
         "3",
         "ABW",
         "Spanish",
         "F",
         "7.4"
        ],
        [
         "4",
         "AFG",
         "Balochi",
         "F",
         "0.9"
        ]
       ],
       "shape": {
        "columns": 4,
        "rows": 5
       }
      },
      "text/html": [
       "<div>\n",
       "<style scoped>\n",
       "    .dataframe tbody tr th:only-of-type {\n",
       "        vertical-align: middle;\n",
       "    }\n",
       "\n",
       "    .dataframe tbody tr th {\n",
       "        vertical-align: top;\n",
       "    }\n",
       "\n",
       "    .dataframe thead th {\n",
       "        text-align: right;\n",
       "    }\n",
       "</style>\n",
       "<table border=\"1\" class=\"dataframe\">\n",
       "  <thead>\n",
       "    <tr style=\"text-align: right;\">\n",
       "      <th></th>\n",
       "      <th>CountryCode</th>\n",
       "      <th>Language</th>\n",
       "      <th>IsOfficial</th>\n",
       "      <th>Percentage</th>\n",
       "    </tr>\n",
       "  </thead>\n",
       "  <tbody>\n",
       "    <tr>\n",
       "      <th>0</th>\n",
       "      <td>ABW</td>\n",
       "      <td>Dutch</td>\n",
       "      <td>T</td>\n",
       "      <td>5.3</td>\n",
       "    </tr>\n",
       "    <tr>\n",
       "      <th>1</th>\n",
       "      <td>ABW</td>\n",
       "      <td>English</td>\n",
       "      <td>F</td>\n",
       "      <td>9.5</td>\n",
       "    </tr>\n",
       "    <tr>\n",
       "      <th>2</th>\n",
       "      <td>ABW</td>\n",
       "      <td>Papiamento</td>\n",
       "      <td>F</td>\n",
       "      <td>76.7</td>\n",
       "    </tr>\n",
       "    <tr>\n",
       "      <th>3</th>\n",
       "      <td>ABW</td>\n",
       "      <td>Spanish</td>\n",
       "      <td>F</td>\n",
       "      <td>7.4</td>\n",
       "    </tr>\n",
       "    <tr>\n",
       "      <th>4</th>\n",
       "      <td>AFG</td>\n",
       "      <td>Balochi</td>\n",
       "      <td>F</td>\n",
       "      <td>0.9</td>\n",
       "    </tr>\n",
       "  </tbody>\n",
       "</table>\n",
       "</div>"
      ],
      "text/plain": [
       "  CountryCode    Language IsOfficial  Percentage\n",
       "0         ABW       Dutch          T         5.3\n",
       "1         ABW     English          F         9.5\n",
       "2         ABW  Papiamento          F        76.7\n",
       "3         ABW     Spanish          F         7.4\n",
       "4         AFG     Balochi          F         0.9"
      ]
     },
     "execution_count": 24,
     "metadata": {},
     "output_type": "execute_result"
    }
   ],
   "source": [
    "df = pd.read_sql_query(\"SELECT * FROM countrylanguage\",conn)\n",
    "df.head()"
   ]
  },
  {
   "cell_type": "markdown",
   "id": "01933493",
   "metadata": {},
   "source": [
    "### Pandas Export\n",
    "\n",
    "- to csv\n",
    "- to excel\n",
    "- to html\n",
    "- to json\n",
    "- to sql"
   ]
  },
  {
   "cell_type": "code",
   "execution_count": null,
   "id": "fd4d7b87",
   "metadata": {},
   "outputs": [],
   "source": [
    "df=pd.DataFrame()\n",
    "df.to"
   ]
  },
  {
   "cell_type": "code",
   "execution_count": 19,
   "id": "b31028b9",
   "metadata": {},
   "outputs": [
    {
     "data": {
      "application/vnd.microsoft.datawrangler.viewer.v0+json": {
       "columns": [
        {
         "name": "index",
         "rawType": "int64",
         "type": "integer"
        },
        {
         "name": "match_id",
         "rawType": "int64",
         "type": "integer"
        },
        {
         "name": "inning",
         "rawType": "int64",
         "type": "integer"
        },
        {
         "name": "batting_team",
         "rawType": "object",
         "type": "string"
        },
        {
         "name": "bowling_team",
         "rawType": "object",
         "type": "string"
        },
        {
         "name": "over",
         "rawType": "int64",
         "type": "integer"
        },
        {
         "name": "ball",
         "rawType": "int64",
         "type": "integer"
        },
        {
         "name": "batsman",
         "rawType": "object",
         "type": "string"
        },
        {
         "name": "non_striker",
         "rawType": "object",
         "type": "string"
        },
        {
         "name": "bowler",
         "rawType": "object",
         "type": "string"
        },
        {
         "name": "is_super_over",
         "rawType": "int64",
         "type": "integer"
        },
        {
         "name": "wide_runs",
         "rawType": "int64",
         "type": "integer"
        },
        {
         "name": "bye_runs",
         "rawType": "int64",
         "type": "integer"
        },
        {
         "name": "legbye_runs",
         "rawType": "int64",
         "type": "integer"
        },
        {
         "name": "noball_runs",
         "rawType": "int64",
         "type": "integer"
        },
        {
         "name": "penalty_runs",
         "rawType": "int64",
         "type": "integer"
        },
        {
         "name": "batsman_runs",
         "rawType": "int64",
         "type": "integer"
        },
        {
         "name": "extra_runs",
         "rawType": "int64",
         "type": "integer"
        },
        {
         "name": "total_runs",
         "rawType": "int64",
         "type": "integer"
        },
        {
         "name": "player_dismissed",
         "rawType": "object",
         "type": "unknown"
        },
        {
         "name": "dismissal_kind",
         "rawType": "object",
         "type": "unknown"
        },
        {
         "name": "fielder",
         "rawType": "object",
         "type": "unknown"
        }
       ],
       "ref": "d54478bb-4ebb-4391-b376-e00119a33719",
       "rows": [
        [
         "0",
         "1",
         "1",
         "Sunrisers Hyderabad",
         "Royal Challengers Bangalore",
         "1",
         "1",
         "DA Warner",
         "S Dhawan",
         "TS Mills",
         "0",
         "0",
         "0",
         "0",
         "0",
         "0",
         "0",
         "0",
         "0",
         null,
         null,
         null
        ],
        [
         "1",
         "1",
         "1",
         "Sunrisers Hyderabad",
         "Royal Challengers Bangalore",
         "1",
         "2",
         "DA Warner",
         "S Dhawan",
         "TS Mills",
         "0",
         "0",
         "0",
         "0",
         "0",
         "0",
         "0",
         "0",
         "0",
         null,
         null,
         null
        ],
        [
         "2",
         "1",
         "1",
         "Sunrisers Hyderabad",
         "Royal Challengers Bangalore",
         "1",
         "3",
         "DA Warner",
         "S Dhawan",
         "TS Mills",
         "0",
         "0",
         "0",
         "0",
         "0",
         "0",
         "4",
         "0",
         "4",
         null,
         null,
         null
        ],
        [
         "3",
         "1",
         "1",
         "Sunrisers Hyderabad",
         "Royal Challengers Bangalore",
         "1",
         "4",
         "DA Warner",
         "S Dhawan",
         "TS Mills",
         "0",
         "0",
         "0",
         "0",
         "0",
         "0",
         "0",
         "0",
         "0",
         null,
         null,
         null
        ],
        [
         "4",
         "1",
         "1",
         "Sunrisers Hyderabad",
         "Royal Challengers Bangalore",
         "1",
         "5",
         "DA Warner",
         "S Dhawan",
         "TS Mills",
         "0",
         "2",
         "0",
         "0",
         "0",
         "0",
         "0",
         "2",
         "2",
         null,
         null,
         null
        ]
       ],
       "shape": {
        "columns": 21,
        "rows": 5
       }
      },
      "text/html": [
       "<div>\n",
       "<style scoped>\n",
       "    .dataframe tbody tr th:only-of-type {\n",
       "        vertical-align: middle;\n",
       "    }\n",
       "\n",
       "    .dataframe tbody tr th {\n",
       "        vertical-align: top;\n",
       "    }\n",
       "\n",
       "    .dataframe thead th {\n",
       "        text-align: right;\n",
       "    }\n",
       "</style>\n",
       "<table border=\"1\" class=\"dataframe\">\n",
       "  <thead>\n",
       "    <tr style=\"text-align: right;\">\n",
       "      <th></th>\n",
       "      <th>match_id</th>\n",
       "      <th>inning</th>\n",
       "      <th>batting_team</th>\n",
       "      <th>bowling_team</th>\n",
       "      <th>over</th>\n",
       "      <th>ball</th>\n",
       "      <th>batsman</th>\n",
       "      <th>non_striker</th>\n",
       "      <th>bowler</th>\n",
       "      <th>is_super_over</th>\n",
       "      <th>...</th>\n",
       "      <th>bye_runs</th>\n",
       "      <th>legbye_runs</th>\n",
       "      <th>noball_runs</th>\n",
       "      <th>penalty_runs</th>\n",
       "      <th>batsman_runs</th>\n",
       "      <th>extra_runs</th>\n",
       "      <th>total_runs</th>\n",
       "      <th>player_dismissed</th>\n",
       "      <th>dismissal_kind</th>\n",
       "      <th>fielder</th>\n",
       "    </tr>\n",
       "  </thead>\n",
       "  <tbody>\n",
       "    <tr>\n",
       "      <th>0</th>\n",
       "      <td>1</td>\n",
       "      <td>1</td>\n",
       "      <td>Sunrisers Hyderabad</td>\n",
       "      <td>Royal Challengers Bangalore</td>\n",
       "      <td>1</td>\n",
       "      <td>1</td>\n",
       "      <td>DA Warner</td>\n",
       "      <td>S Dhawan</td>\n",
       "      <td>TS Mills</td>\n",
       "      <td>0</td>\n",
       "      <td>...</td>\n",
       "      <td>0</td>\n",
       "      <td>0</td>\n",
       "      <td>0</td>\n",
       "      <td>0</td>\n",
       "      <td>0</td>\n",
       "      <td>0</td>\n",
       "      <td>0</td>\n",
       "      <td>NaN</td>\n",
       "      <td>NaN</td>\n",
       "      <td>NaN</td>\n",
       "    </tr>\n",
       "    <tr>\n",
       "      <th>1</th>\n",
       "      <td>1</td>\n",
       "      <td>1</td>\n",
       "      <td>Sunrisers Hyderabad</td>\n",
       "      <td>Royal Challengers Bangalore</td>\n",
       "      <td>1</td>\n",
       "      <td>2</td>\n",
       "      <td>DA Warner</td>\n",
       "      <td>S Dhawan</td>\n",
       "      <td>TS Mills</td>\n",
       "      <td>0</td>\n",
       "      <td>...</td>\n",
       "      <td>0</td>\n",
       "      <td>0</td>\n",
       "      <td>0</td>\n",
       "      <td>0</td>\n",
       "      <td>0</td>\n",
       "      <td>0</td>\n",
       "      <td>0</td>\n",
       "      <td>NaN</td>\n",
       "      <td>NaN</td>\n",
       "      <td>NaN</td>\n",
       "    </tr>\n",
       "    <tr>\n",
       "      <th>2</th>\n",
       "      <td>1</td>\n",
       "      <td>1</td>\n",
       "      <td>Sunrisers Hyderabad</td>\n",
       "      <td>Royal Challengers Bangalore</td>\n",
       "      <td>1</td>\n",
       "      <td>3</td>\n",
       "      <td>DA Warner</td>\n",
       "      <td>S Dhawan</td>\n",
       "      <td>TS Mills</td>\n",
       "      <td>0</td>\n",
       "      <td>...</td>\n",
       "      <td>0</td>\n",
       "      <td>0</td>\n",
       "      <td>0</td>\n",
       "      <td>0</td>\n",
       "      <td>4</td>\n",
       "      <td>0</td>\n",
       "      <td>4</td>\n",
       "      <td>NaN</td>\n",
       "      <td>NaN</td>\n",
       "      <td>NaN</td>\n",
       "    </tr>\n",
       "    <tr>\n",
       "      <th>3</th>\n",
       "      <td>1</td>\n",
       "      <td>1</td>\n",
       "      <td>Sunrisers Hyderabad</td>\n",
       "      <td>Royal Challengers Bangalore</td>\n",
       "      <td>1</td>\n",
       "      <td>4</td>\n",
       "      <td>DA Warner</td>\n",
       "      <td>S Dhawan</td>\n",
       "      <td>TS Mills</td>\n",
       "      <td>0</td>\n",
       "      <td>...</td>\n",
       "      <td>0</td>\n",
       "      <td>0</td>\n",
       "      <td>0</td>\n",
       "      <td>0</td>\n",
       "      <td>0</td>\n",
       "      <td>0</td>\n",
       "      <td>0</td>\n",
       "      <td>NaN</td>\n",
       "      <td>NaN</td>\n",
       "      <td>NaN</td>\n",
       "    </tr>\n",
       "    <tr>\n",
       "      <th>4</th>\n",
       "      <td>1</td>\n",
       "      <td>1</td>\n",
       "      <td>Sunrisers Hyderabad</td>\n",
       "      <td>Royal Challengers Bangalore</td>\n",
       "      <td>1</td>\n",
       "      <td>5</td>\n",
       "      <td>DA Warner</td>\n",
       "      <td>S Dhawan</td>\n",
       "      <td>TS Mills</td>\n",
       "      <td>0</td>\n",
       "      <td>...</td>\n",
       "      <td>0</td>\n",
       "      <td>0</td>\n",
       "      <td>0</td>\n",
       "      <td>0</td>\n",
       "      <td>0</td>\n",
       "      <td>2</td>\n",
       "      <td>2</td>\n",
       "      <td>NaN</td>\n",
       "      <td>NaN</td>\n",
       "      <td>NaN</td>\n",
       "    </tr>\n",
       "  </tbody>\n",
       "</table>\n",
       "<p>5 rows × 21 columns</p>\n",
       "</div>"
      ],
      "text/plain": [
       "   match_id  inning         batting_team                 bowling_team  over  \\\n",
       "0         1       1  Sunrisers Hyderabad  Royal Challengers Bangalore     1   \n",
       "1         1       1  Sunrisers Hyderabad  Royal Challengers Bangalore     1   \n",
       "2         1       1  Sunrisers Hyderabad  Royal Challengers Bangalore     1   \n",
       "3         1       1  Sunrisers Hyderabad  Royal Challengers Bangalore     1   \n",
       "4         1       1  Sunrisers Hyderabad  Royal Challengers Bangalore     1   \n",
       "\n",
       "   ball    batsman non_striker    bowler  is_super_over  ...  bye_runs  \\\n",
       "0     1  DA Warner    S Dhawan  TS Mills              0  ...         0   \n",
       "1     2  DA Warner    S Dhawan  TS Mills              0  ...         0   \n",
       "2     3  DA Warner    S Dhawan  TS Mills              0  ...         0   \n",
       "3     4  DA Warner    S Dhawan  TS Mills              0  ...         0   \n",
       "4     5  DA Warner    S Dhawan  TS Mills              0  ...         0   \n",
       "\n",
       "   legbye_runs  noball_runs  penalty_runs  batsman_runs  extra_runs  \\\n",
       "0            0            0             0             0           0   \n",
       "1            0            0             0             0           0   \n",
       "2            0            0             0             4           0   \n",
       "3            0            0             0             0           0   \n",
       "4            0            0             0             0           2   \n",
       "\n",
       "   total_runs  player_dismissed dismissal_kind fielder  \n",
       "0           0               NaN            NaN     NaN  \n",
       "1           0               NaN            NaN     NaN  \n",
       "2           4               NaN            NaN     NaN  \n",
       "3           0               NaN            NaN     NaN  \n",
       "4           2               NaN            NaN     NaN  \n",
       "\n",
       "[5 rows x 21 columns]"
      ]
     },
     "execution_count": 19,
     "metadata": {},
     "output_type": "execute_result"
    }
   ],
   "source": [
    "#to_csv\n",
    "df=pd.read_csv('deliveries.csv')\n",
    "df.head()\n"
   ]
  },
  {
   "cell_type": "code",
   "execution_count": 7,
   "id": "65758e9c",
   "metadata": {},
   "outputs": [
    {
     "data": {
      "application/vnd.microsoft.datawrangler.viewer.v0+json": {
       "columns": [
        {
         "name": "index",
         "rawType": "int64",
         "type": "integer"
        },
        {
         "name": "batsman",
         "rawType": "object",
         "type": "string"
        },
        {
         "name": "batsman_runs",
         "rawType": "int64",
         "type": "integer"
        }
       ],
       "ref": "7946fd75-b64d-4d83-9a72-9d28127664f3",
       "rows": [
        [
         "0",
         "A Ashish Reddy",
         "280"
        ],
        [
         "1",
         "A Chandila",
         "4"
        ],
        [
         "2",
         "A Chopra",
         "53"
        ],
        [
         "3",
         "A Choudhary",
         "25"
        ],
        [
         "4",
         "A Flintoff",
         "62"
        ]
       ],
       "shape": {
        "columns": 2,
        "rows": 5
       }
      },
      "text/html": [
       "<div>\n",
       "<style scoped>\n",
       "    .dataframe tbody tr th:only-of-type {\n",
       "        vertical-align: middle;\n",
       "    }\n",
       "\n",
       "    .dataframe tbody tr th {\n",
       "        vertical-align: top;\n",
       "    }\n",
       "\n",
       "    .dataframe thead th {\n",
       "        text-align: right;\n",
       "    }\n",
       "</style>\n",
       "<table border=\"1\" class=\"dataframe\">\n",
       "  <thead>\n",
       "    <tr style=\"text-align: right;\">\n",
       "      <th></th>\n",
       "      <th>batsman</th>\n",
       "      <th>batsman_runs</th>\n",
       "    </tr>\n",
       "  </thead>\n",
       "  <tbody>\n",
       "    <tr>\n",
       "      <th>0</th>\n",
       "      <td>A Ashish Reddy</td>\n",
       "      <td>280</td>\n",
       "    </tr>\n",
       "    <tr>\n",
       "      <th>1</th>\n",
       "      <td>A Chandila</td>\n",
       "      <td>4</td>\n",
       "    </tr>\n",
       "    <tr>\n",
       "      <th>2</th>\n",
       "      <td>A Chopra</td>\n",
       "      <td>53</td>\n",
       "    </tr>\n",
       "    <tr>\n",
       "      <th>3</th>\n",
       "      <td>A Choudhary</td>\n",
       "      <td>25</td>\n",
       "    </tr>\n",
       "    <tr>\n",
       "      <th>4</th>\n",
       "      <td>A Flintoff</td>\n",
       "      <td>62</td>\n",
       "    </tr>\n",
       "  </tbody>\n",
       "</table>\n",
       "</div>"
      ],
      "text/plain": [
       "          batsman  batsman_runs\n",
       "0  A Ashish Reddy           280\n",
       "1      A Chandila             4\n",
       "2        A Chopra            53\n",
       "3     A Choudhary            25\n",
       "4      A Flintoff            62"
      ]
     },
     "execution_count": 7,
     "metadata": {},
     "output_type": "execute_result"
    }
   ],
   "source": [
    "temp=df.groupby('batsman')['batsman_runs'].sum().reset_index()\n",
    "temp.head()\n"
   ]
  },
  {
   "cell_type": "code",
   "execution_count": 8,
   "id": "356cf481",
   "metadata": {},
   "outputs": [],
   "source": [
    "temp.to_csv('batsman_runs.csv',index=False)"
   ]
  },
  {
   "cell_type": "code",
   "execution_count": 10,
   "id": "a80d9ab0",
   "metadata": {},
   "outputs": [],
   "source": [
    "df.pivot_table(index='batsman',columns='bowling_team',values='batsman_runs',aggfunc='sum').to_csv('batsman_vs_bowler.csv',index=True)"
   ]
  },
  {
   "cell_type": "code",
   "execution_count": 14,
   "id": "10bce9fc",
   "metadata": {},
   "outputs": [],
   "source": [
    "#to excel\n",
    "temp=df.groupby('batsman')['batsman_runs'].sum().reset_index()\n",
    "temp.to_excel('batsman_runs.xlsx',index=False,sheet_name='runs')"
   ]
  },
  {
   "cell_type": "code",
   "execution_count": 15,
   "id": "9446b85b",
   "metadata": {},
   "outputs": [],
   "source": [
    "temp1=df.pivot_table(index='batsman',columns='bowling_team',values='batsman_runs',aggfunc='sum').to_excel('batsman_vs_bowler.xlsx',index=True)"
   ]
  },
  {
   "cell_type": "code",
   "execution_count": 22,
   "id": "9cd79f5e",
   "metadata": {},
   "outputs": [],
   "source": [
    "#to html\n",
    "df.query('batsman_runs==6').pivot_table(index='over',columns='ball',values='batsman_runs',aggfunc='count').to_html('batsman_runs.html')"
   ]
  },
  {
   "cell_type": "code",
   "execution_count": 24,
   "id": "702ff364",
   "metadata": {},
   "outputs": [],
   "source": [
    "#to json\n",
    "df.head()\n",
    "temp=df.groupby(['batting_team','batsman'])['batsman_runs'].sum().reset_index().unstack()\n",
    "temp.to_json('batsman_runs.json')"
   ]
  },
  {
   "cell_type": "code",
   "execution_count": 36,
   "id": "c6267ed7",
   "metadata": {},
   "outputs": [
    {
     "data": {
      "text/plain": [
       "150460"
      ]
     },
     "execution_count": 36,
     "metadata": {},
     "output_type": "execute_result"
    }
   ],
   "source": [
    "#to sql\n",
    "import pymysql\n",
    "from sqlalchemy import create_engine\n",
    "engine=create_engine('mysql+pymysql://root:@localhost/ipl')\n",
    "df.to_sql('ipl_deliveries',con=engine,if_exists='append',index=False)"
   ]
  },
  {
   "cell_type": "code",
   "execution_count": 37,
   "id": "3e196bdf",
   "metadata": {},
   "outputs": [
    {
     "data": {
      "text/plain": [
       "2370"
      ]
     },
     "execution_count": 37,
     "metadata": {},
     "output_type": "execute_result"
    }
   ],
   "source": [
    "temp.to_sql('batsman_runs',con=engine,if_exists='append',index=False)"
   ]
  },
  {
   "cell_type": "markdown",
   "id": "c73509de",
   "metadata": {},
   "source": [
    "##  API\n",
    "- An API, which stands for Application Programming Interface, is a set of rules and protocols that allows different software applications to communicate and exchange information with each other. "
   ]
  },
  {
   "cell_type": "markdown",
   "id": "03f568d3",
   "metadata": {},
   "source": [
    "## WEB SCRAPING"
   ]
  },
  {
   "cell_type": "code",
   "execution_count": 1,
   "id": "3b8ecee4",
   "metadata": {},
   "outputs": [],
   "source": [
    "import requests\n",
    "from bs4 import BeautifulSoup"
   ]
  },
  {
   "cell_type": "code",
   "execution_count": 2,
   "id": "98792c27",
   "metadata": {},
   "outputs": [
    {
     "data": {
      "text/plain": [
       "'<HTML><HEAD>\\n<TITLE>Access Denied</TITLE>\\n</HEAD><BODY>\\n<H1>Access Denied</H1>\\n \\nYou don\\'t have permission to access \"http&#58;&#47;&#47;www&#46;ambitionbox&#46;com&#47;list&#45;of&#45;companies&#63;\" on this server.<P>\\nReference&#32;&#35;18&#46;8f014017&#46;1755180321&#46;14c5ccc0\\n<P>https&#58;&#47;&#47;errors&#46;edgesuite&#46;net&#47;18&#46;8f014017&#46;1755180321&#46;14c5ccc0</P>\\n</BODY>\\n</HTML>\\n'"
      ]
     },
     "execution_count": 2,
     "metadata": {},
     "output_type": "execute_result"
    }
   ],
   "source": [
    "requests.get('https://www.ambitionbox.com/list-of-companies?page=1').text"
   ]
  }
 ],
 "metadata": {
  "kernelspec": {
   "display_name": "dsenv",
   "language": "python",
   "name": "python3"
  },
  "language_info": {
   "codemirror_mode": {
    "name": "ipython",
    "version": 3
   },
   "file_extension": ".py",
   "mimetype": "text/x-python",
   "name": "python",
   "nbconvert_exporter": "python",
   "pygments_lexer": "ipython3",
   "version": "3.11.13"
  }
 },
 "nbformat": 4,
 "nbformat_minor": 5
}
