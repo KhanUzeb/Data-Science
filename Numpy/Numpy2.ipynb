{
 "cells": [
  {
   "cell_type": "markdown",
   "id": "ce3ac898",
   "metadata": {},
   "source": [
    "Numpy Day 2 "
   ]
  },
  {
   "cell_type": "markdown",
   "id": "54d0b900",
   "metadata": {},
   "source": [
    "Changing Datatype"
   ]
  },
  {
   "cell_type": "code",
   "execution_count": null,
   "id": "71fda8fc",
   "metadata": {},
   "outputs": [
    {
     "name": "stdout",
     "output_type": "stream",
     "text": [
      "int32\n",
      "float64\n"
     ]
    }
   ],
   "source": [
    "#astype\n",
    "import numpy as np\n",
    "a1=np.arange(9).reshape(3,3)\n",
    "print(a1.dtype)\n",
    "a2=a1.astype(np.float64)#convert to float\n",
    "print(a2.dtype)"
   ]
  },
  {
   "cell_type": "markdown",
   "id": "cc9dd7ef",
   "metadata": {},
   "source": [
    "Array Operations"
   ]
  },
  {
   "cell_type": "code",
   "execution_count": 10,
   "id": "dbf6025f",
   "metadata": {},
   "outputs": [],
   "source": [
    "a1=np.arange(12).reshape(3,4)\n",
    "a2=np.arange(12,24).reshape(3,4)"
   ]
  },
  {
   "cell_type": "code",
   "execution_count": null,
   "id": "ac2b7c9e",
   "metadata": {},
   "outputs": [
    {
     "data": {
      "text/plain": [
       "array([[ 0,  2,  4,  6],\n",
       "       [ 8, 10, 12, 14],\n",
       "       [16, 18, 20, 22]])"
      ]
     },
     "execution_count": 12,
     "metadata": {},
     "output_type": "execute_result"
    }
   ],
   "source": [
    "#scalar operations\n",
    "#arithmetic operations all arithmetic operations is possible on array happen element wise\n",
    "a1*2"
   ]
  },
  {
   "cell_type": "code",
   "execution_count": 17,
   "id": "9345c099",
   "metadata": {},
   "outputs": [
    {
     "data": {
      "text/plain": [
       "array([[False, False, False, False],\n",
       "       [False, False,  True,  True],\n",
       "       [ True,  True,  True,  True]])"
      ]
     },
     "execution_count": 17,
     "metadata": {},
     "output_type": "execute_result"
    }
   ],
   "source": [
    "#relational operations all relational operations is possible on array happen element wise\n",
    "a1>5"
   ]
  },
  {
   "cell_type": "code",
   "execution_count": null,
   "id": "c9775cfd",
   "metadata": {},
   "outputs": [
    {
     "data": {
      "text/plain": [
       "array([[12, 14, 16, 18],\n",
       "       [20, 22, 24, 26],\n",
       "       [28, 30, 32, 34]])"
      ]
     },
     "execution_count": 16,
     "metadata": {},
     "output_type": "execute_result"
    }
   ],
   "source": [
    "#vector operations all vector operations happen element wise between two arrays when shape is same or compatible\n",
    "a1+a2"
   ]
  },
  {
   "cell_type": "markdown",
   "id": "2bbc9688",
   "metadata": {},
   "source": [
    "Array Functions"
   ]
  },
  {
   "cell_type": "code",
   "execution_count": 19,
   "id": "5aa4c026",
   "metadata": {},
   "outputs": [
    {
     "data": {
      "text/plain": [
       "array([[87., 21., 28.],\n",
       "       [63., 41., 23.],\n",
       "       [90., 14., 67.]])"
      ]
     },
     "execution_count": 19,
     "metadata": {},
     "output_type": "execute_result"
    }
   ],
   "source": [
    "a1=np.random.rand(3,3)\n",
    "a1=np.round(a1*100)\n",
    "a1"
   ]
  },
  {
   "cell_type": "code",
   "execution_count": 26,
   "id": "04b77405",
   "metadata": {},
   "outputs": [
    {
     "name": "stdout",
     "output_type": "stream",
     "text": [
      "[87. 63. 90.]\n",
      "[90. 41. 67.]\n",
      "14.0\n",
      "434.0\n",
      "256563084793680.0\n"
     ]
    }
   ],
   "source": [
    "#max/min/sum/prod\n",
    "#0->col 1->row\n",
    "print(a1.max(axis=1))#tells the max in each row\n",
    "print(a1.max(axis=0))#tells the max in each col\n",
    "print(a1.min())#tells the min OF ALL ELEMENTS\n",
    "print(a1.sum())#tells the sum OF ALL ELEMENTS\n",
    "print(a1.prod())#tells the product OF ALL ELEMENTS"
   ]
  },
  {
   "cell_type": "code",
   "execution_count": 27,
   "id": "79cc998c",
   "metadata": {},
   "outputs": [
    {
     "name": "stdout",
     "output_type": "stream",
     "text": [
      "48.22222222222222\n",
      "41.0\n",
      "27.547041695485913\n",
      "758.8395061728394\n"
     ]
    }
   ],
   "source": [
    "#mean/median/std/var\n",
    "print(np.mean(a1))#tells the mean OF ALL ELEMENTS\n",
    "print(np.median(a1))#tells the median OF ALL ELEMENTS\n",
    "print(np.std(a1))#tells the standard dev OF ALL ELEMENTS\n",
    "print(np.var(a1))#tells the variance OF ALL ELEMENTS"
   ]
  },
  {
   "cell_type": "code",
   "execution_count": 28,
   "id": "b0f31412",
   "metadata": {},
   "outputs": [
    {
     "name": "stdout",
     "output_type": "stream",
     "text": [
      "[[-0.82181784  0.83665564  0.27090579]\n",
      " [ 0.1673557  -0.15862267 -0.8462204 ]\n",
      " [ 0.89399666  0.99060736 -0.85551998]]\n"
     ]
    }
   ],
   "source": [
    "#trigonometric functions\n",
    "print(np.sin(a1))"
   ]
  },
  {
   "cell_type": "markdown",
   "id": "d0ea3bb5",
   "metadata": {},
   "source": [
    ">IMPORTANT CONCEPT"
   ]
  },
  {
   "cell_type": "code",
   "execution_count": 29,
   "id": "48cd1a76",
   "metadata": {},
   "outputs": [
    {
     "name": "stdout",
     "output_type": "stream",
     "text": [
      "[[114 120 126]\n",
      " [378 400 422]\n",
      " [642 680 718]]\n"
     ]
    }
   ],
   "source": [
    "#dot product we get the dot product of two arrays\n",
    "#if the number of columns in the first matrix equals the number of rows in the second matrix. This is a crucial condition for matrix multiplication\n",
    "\n",
    "a2=np.arange(12).reshape(3,4)\n",
    "a3=np.arange(12,24).reshape(4,3)\n",
    "print(np.dot(a2,a3))"
   ]
  },
  {
   "cell_type": "markdown",
   "id": "32d0a46c",
   "metadata": {},
   "source": [
    "![alt text](download.png)\n",
    ">Happening of matrix multiplication"
   ]
  },
  {
   "cell_type": "code",
   "execution_count": 31,
   "id": "c2bd2841",
   "metadata": {},
   "outputs": [
    {
     "name": "stdout",
     "output_type": "stream",
     "text": [
      "[[4.46590812 3.04452244 3.33220451]\n",
      " [4.14313473 3.71357207 3.13549422]\n",
      " [4.49980967 2.63905733 4.20469262]]\n"
     ]
    }
   ],
   "source": [
    "#log/exp\n",
    "print(np.log(a1))\n",
    "#print(np.exp(a1))"
   ]
  },
  {
   "cell_type": "code",
   "execution_count": 32,
   "id": "6fdca02d",
   "metadata": {},
   "outputs": [
    {
     "name": "stdout",
     "output_type": "stream",
     "text": [
      "[[87. 21. 28.]\n",
      " [63. 41. 23.]\n",
      " [90. 14. 67.]]\n",
      "[[87. 21. 28.]\n",
      " [63. 41. 23.]\n",
      " [90. 14. 67.]]\n",
      "[[87. 21. 28.]\n",
      " [63. 41. 23.]\n",
      " [90. 14. 67.]]\n"
     ]
    }
   ],
   "source": [
    "#rounding\n",
    "print(np.round(a1))#rounds to nearest integer\n",
    "print(np.ceil(a1))#rounds to nearest integer up\n",
    "print(np.floor(a1))#rounds to nearest integer down"
   ]
  },
  {
   "cell_type": "markdown",
   "id": "a37a674e",
   "metadata": {},
   "source": [
    "Indexing And Slicing\n",
    ">Important"
   ]
  },
  {
   "cell_type": "markdown",
   "id": "72261143",
   "metadata": {},
   "source": [
    ">INDEXING"
   ]
  },
  {
   "cell_type": "code",
   "execution_count": 114,
   "id": "f3226c3b",
   "metadata": {},
   "outputs": [],
   "source": [
    "a1=np.arange(10)\n",
    "a2=np.arange(12).reshape(3,4)\n",
    "a3=np.arange(8).reshape(2,2,2)"
   ]
  },
  {
   "cell_type": "code",
   "execution_count": 113,
   "id": "eb8efa02",
   "metadata": {},
   "outputs": [
    {
     "name": "stdout",
     "output_type": "stream",
     "text": [
      "9\n"
     ]
    },
    {
     "data": {
      "text/plain": [
       "6"
      ]
     },
     "execution_count": 113,
     "metadata": {},
     "output_type": "execute_result"
    }
   ],
   "source": [
    "#indexing\n",
    "print(a1[-1])#gives the last element\n",
    "a2[1,2]#gives the element at 1st row 3rd col\n",
    "#[m,n] m->row n->col"
   ]
  },
  {
   "cell_type": "code",
   "execution_count": 112,
   "id": "52a3e394",
   "metadata": {},
   "outputs": [
    {
     "name": "stdout",
     "output_type": "stream",
     "text": [
      "10\n",
      "0\n"
     ]
    },
    {
     "data": {
      "text/plain": [
       "12"
      ]
     },
     "execution_count": 112,
     "metadata": {},
     "output_type": "execute_result"
    }
   ],
   "source": [
    "#indexing\n",
    "a3\n",
    "print(a3[1,0,1])\n",
    "print(a3[0,0,0])\n",
    "a3[1,1,0]\n",
    "#[m,n,k] m->array number n->row k->col"
   ]
  },
  {
   "cell_type": "markdown",
   "id": "ccaf1f9c",
   "metadata": {},
   "source": [
    ">SLICING"
   ]
  },
  {
   "cell_type": "code",
   "execution_count": null,
   "id": "326cbb43",
   "metadata": {},
   "outputs": [
    {
     "data": {
      "text/plain": [
       "array([2, 3, 4])"
      ]
     },
     "execution_count": 56,
     "metadata": {},
     "output_type": "execute_result"
    }
   ],
   "source": [
    "a1\n",
    "a1[2:5]#gives the elements from 2 to 4\n",
    "#[start:stop]#start is inclusive stop is exclusive"
   ]
  },
  {
   "cell_type": "code",
   "execution_count": 87,
   "id": "4c26d2fa",
   "metadata": {},
   "outputs": [
    {
     "data": {
      "text/plain": [
       "array([1, 5, 9])"
      ]
     },
     "execution_count": 87,
     "metadata": {},
     "output_type": "execute_result"
    }
   ],
   "source": [
    "a2\n",
    "a2[0,:]#gives the 1st row colon denotes all col\n",
    "a2[:,1]#gives the 2nd col colon denotes all row"
   ]
  },
  {
   "cell_type": "code",
   "execution_count": null,
   "id": "066d48c3",
   "metadata": {},
   "outputs": [
    {
     "data": {
      "text/plain": [
       "array([[1, 2, 3],\n",
       "       [5, 6, 7]])"
      ]
     },
     "execution_count": 86,
     "metadata": {},
     "output_type": "execute_result"
    }
   ],
   "source": [
    "a2\n",
    "a2[1:,1:3]#gives the 2nd row to end and 2nd col to 3rd col\n",
    "a2[::2,::3]#gives every 2nd row and every 3rd col\n",
    "a2[::2,1::2]#gives every 2nd row and every 2nd col\n",
    "a2[1::2,::3]#gives every 2nd row and 1st col\n",
    "a2[0:2,1:]#gives the 1st and 2nd row and 2nd col to end"
   ]
  },
  {
   "cell_type": "code",
   "execution_count": 115,
   "id": "22803d1c",
   "metadata": {},
   "outputs": [
    {
     "data": {
      "text/plain": [
       "array([[[ 0,  1,  2],\n",
       "        [ 3,  4,  5],\n",
       "        [ 6,  7,  8]],\n",
       "\n",
       "       [[ 9, 10, 11],\n",
       "        [12, 13, 14],\n",
       "        [15, 16, 17]],\n",
       "\n",
       "       [[18, 19, 20],\n",
       "        [21, 22, 23],\n",
       "        [24, 25, 26]]])"
      ]
     },
     "execution_count": 115,
     "metadata": {},
     "output_type": "execute_result"
    }
   ],
   "source": [
    "a3=np.arange(27).reshape(3,3,3)\n",
    "a3"
   ]
  },
  {
   "cell_type": "code",
   "execution_count": 116,
   "id": "7ad7b620",
   "metadata": {},
   "outputs": [
    {
     "data": {
      "text/plain": [
       "array([[ 0,  2],\n",
       "       [18, 20]])"
      ]
     },
     "execution_count": 116,
     "metadata": {},
     "output_type": "execute_result"
    }
   ],
   "source": [
    "a3[0::2]#gives the 1st and 3rd array\n",
    "a3[0::2,0::2]#gives the 1st and 3rd array and 1st and 3rd row\n",
    "a3[0,1]#gives the 1st array and 2nd row\n",
    "a3[1,:,1]#gives the 2nd array and 2nd col\n",
    "a3[2,1:,1:]#gives the 3rd array and 2nd row to end and 2nd col to end\n",
    "a3[0::2,0,0::2]#gives the 1st and 3rd array and 1st row and 1st and 3rd col"
   ]
  },
  {
   "cell_type": "markdown",
   "id": "afae9d3f",
   "metadata": {},
   "source": [
    "ITERATION"
   ]
  },
  {
   "cell_type": "code",
   "execution_count": 117,
   "id": "342efe8e",
   "metadata": {},
   "outputs": [
    {
     "name": "stdout",
     "output_type": "stream",
     "text": [
      "0\n",
      "1\n",
      "2\n",
      "3\n",
      "4\n",
      "5\n",
      "6\n",
      "7\n",
      "8\n",
      "9\n"
     ]
    }
   ],
   "source": [
    "#iterating\n",
    "a1\n",
    "for i in a1:\n",
    "    print(i)"
   ]
  },
  {
   "cell_type": "code",
   "execution_count": 118,
   "id": "9043fa94",
   "metadata": {},
   "outputs": [
    {
     "name": "stdout",
     "output_type": "stream",
     "text": [
      "[0 1 2 3]\n",
      "[4 5 6 7]\n",
      "[ 8  9 10 11]\n"
     ]
    }
   ],
   "source": [
    "a2\n",
    "for i in a2:\n",
    "    print(i)"
   ]
  },
  {
   "cell_type": "code",
   "execution_count": 119,
   "id": "ccaeab60",
   "metadata": {},
   "outputs": [
    {
     "name": "stdout",
     "output_type": "stream",
     "text": [
      "[[0 1 2]\n",
      " [3 4 5]\n",
      " [6 7 8]]\n",
      "[[ 9 10 11]\n",
      " [12 13 14]\n",
      " [15 16 17]]\n",
      "[[18 19 20]\n",
      " [21 22 23]\n",
      " [24 25 26]]\n"
     ]
    }
   ],
   "source": [
    "a3\n",
    "for i in a3:\n",
    "    print(i)"
   ]
  },
  {
   "cell_type": "code",
   "execution_count": null,
   "id": "d00a1bf1",
   "metadata": {},
   "outputs": [
    {
     "name": "stdout",
     "output_type": "stream",
     "text": [
      "0\n",
      "1\n",
      "2\n",
      "3\n",
      "4\n",
      "5\n",
      "6\n",
      "7\n",
      "8\n",
      "9\n",
      "10\n",
      "11\n",
      "12\n",
      "13\n",
      "14\n",
      "15\n",
      "16\n",
      "17\n",
      "18\n",
      "19\n",
      "20\n",
      "21\n",
      "22\n",
      "23\n",
      "24\n",
      "25\n",
      "26\n"
     ]
    }
   ],
   "source": [
    "for i in np.nditer(a3):#.nditer is used to iterate over an array\n",
    "    print(i)"
   ]
  },
  {
   "cell_type": "markdown",
   "id": "6eb2cd30",
   "metadata": {},
   "source": [
    "RESHAPING"
   ]
  },
  {
   "cell_type": "markdown",
   "id": "131052f2",
   "metadata": {},
   "source": [
    ">RESHAPE DONE"
   ]
  },
  {
   "cell_type": "markdown",
   "id": "de2da2cc",
   "metadata": {},
   "source": [
    ">TRANSPOSE"
   ]
  },
  {
   "cell_type": "code",
   "execution_count": 127,
   "id": "b6ef8a54",
   "metadata": {},
   "outputs": [
    {
     "name": "stdout",
     "output_type": "stream",
     "text": [
      "[[ 0  1  2  3]\n",
      " [ 4  5  6  7]\n",
      " [ 8  9 10 11]]\n"
     ]
    },
    {
     "data": {
      "text/plain": [
       "array([[ 0,  4,  8],\n",
       "       [ 1,  5,  9],\n",
       "       [ 2,  6, 10],\n",
       "       [ 3,  7, 11]])"
      ]
     },
     "execution_count": 127,
     "metadata": {},
     "output_type": "execute_result"
    }
   ],
   "source": [
    "print(a2)\n",
    "np.transpose(a2)#transposes the array\n",
    "a2.T#EASY SYNTAX"
   ]
  },
  {
   "cell_type": "markdown",
   "id": "9802b958",
   "metadata": {},
   "source": [
    ">RAVEL"
   ]
  },
  {
   "cell_type": "code",
   "execution_count": 129,
   "id": "881e9f78",
   "metadata": {},
   "outputs": [
    {
     "name": "stdout",
     "output_type": "stream",
     "text": [
      "[ 0  1  2  3  4  5  6  7  8  9 10 11]\n"
     ]
    }
   ],
   "source": [
    "#ravel\n",
    "a2\n",
    "print(a2.ravel())#flattens the array means converts to 1D array"
   ]
  },
  {
   "cell_type": "markdown",
   "id": "0c234587",
   "metadata": {},
   "source": [
    "STACKING"
   ]
  },
  {
   "cell_type": "markdown",
   "id": "69a13464",
   "metadata": {},
   "source": [
    ">HORIZONTAL STACKING\n",
    "![alt text](download-1.png)"
   ]
  },
  {
   "cell_type": "code",
   "execution_count": 130,
   "id": "b8f77dae",
   "metadata": {},
   "outputs": [
    {
     "name": "stdout",
     "output_type": "stream",
     "text": [
      "[[ 0  1  2  3 12 13 14 15]\n",
      " [ 4  5  6  7 16 17 18 19]\n",
      " [ 8  9 10 11 20 21 22 23]]\n"
     ]
    }
   ],
   "source": [
    "a4=np.arange(12).reshape(3,4)\n",
    "a5=np.arange(12,24).reshape(3,4)\n",
    "print(np.hstack((a4,a5)))#stacks the arrays horizontally"
   ]
  },
  {
   "cell_type": "markdown",
   "id": "cf1dd865",
   "metadata": {},
   "source": [
    ">VERTICAL STACKING\n",
    "\n",
    "![alt text](download-2.png)"
   ]
  },
  {
   "cell_type": "code",
   "execution_count": 131,
   "id": "634ae79b",
   "metadata": {},
   "outputs": [
    {
     "name": "stdout",
     "output_type": "stream",
     "text": [
      "[[ 0  1  2  3]\n",
      " [ 4  5  6  7]\n",
      " [ 8  9 10 11]\n",
      " [12 13 14 15]\n",
      " [16 17 18 19]\n",
      " [20 21 22 23]]\n"
     ]
    }
   ],
   "source": [
    "print(np.vstack((a4,a5)))#stacks the arrays vertically"
   ]
  },
  {
   "cell_type": "markdown",
   "id": "7824645a",
   "metadata": {},
   "source": [
    ">SPLITTING "
   ]
  },
  {
   "cell_type": "markdown",
   "id": "9fe5dab3",
   "metadata": {},
   "source": [
    ">HORIZONTAL SPLITTING\n",
    "\n",
    "![alt text](download-3.png)"
   ]
  },
  {
   "cell_type": "code",
   "execution_count": 132,
   "id": "3e2ae562",
   "metadata": {},
   "outputs": [
    {
     "data": {
      "text/plain": [
       "[array([[0, 1],\n",
       "        [4, 5],\n",
       "        [8, 9]]),\n",
       " array([[ 2,  3],\n",
       "        [ 6,  7],\n",
       "        [10, 11]])]"
      ]
     },
     "execution_count": 132,
     "metadata": {},
     "output_type": "execute_result"
    }
   ],
   "source": [
    "a4\n",
    "np.hsplit(a4,2)#splits the array horizontally"
   ]
  },
  {
   "cell_type": "markdown",
   "id": "29c6abf7",
   "metadata": {},
   "source": [
    ">VERTICAL SPLITTING\n",
    "\n",
    "![alt text](download-4.png)"
   ]
  },
  {
   "cell_type": "code",
   "execution_count": 133,
   "id": "4489cd6c",
   "metadata": {},
   "outputs": [
    {
     "data": {
      "text/plain": [
       "[array([[12, 13, 14, 15]]),\n",
       " array([[16, 17, 18, 19]]),\n",
       " array([[20, 21, 22, 23]])]"
      ]
     },
     "execution_count": 133,
     "metadata": {},
     "output_type": "execute_result"
    }
   ],
   "source": [
    "np.vsplit(a5,3)"
   ]
  },
  {
   "cell_type": "markdown",
   "id": "97ef8187",
   "metadata": {},
   "source": [
    ">NUMPY FUNDAMENTALS DONE"
   ]
  }
 ],
 "metadata": {
  "kernelspec": {
   "display_name": "dsenv",
   "language": "python",
   "name": "python3"
  },
  "language_info": {
   "codemirror_mode": {
    "name": "ipython",
    "version": 3
   },
   "file_extension": ".py",
   "mimetype": "text/x-python",
   "name": "python",
   "nbconvert_exporter": "python",
   "pygments_lexer": "ipython3",
   "version": "3.11.13"
  }
 },
 "nbformat": 4,
 "nbformat_minor": 5
}
