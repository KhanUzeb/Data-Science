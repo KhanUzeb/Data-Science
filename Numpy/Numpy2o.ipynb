{
 "cells": [
  {
   "cell_type": "markdown",
   "id": "2aa63a5e",
   "metadata": {},
   "source": [
    "ADVANCED NUMPY"
   ]
  },
  {
   "cell_type": "markdown",
   "id": "4237b4d6",
   "metadata": {},
   "source": [
    ">Numpy Array Vs Python Lists"
   ]
  },
  {
   "cell_type": "code",
   "execution_count": 11,
   "id": "85a8a6db",
   "metadata": {},
   "outputs": [
    {
     "name": "stdout",
     "output_type": "stream",
     "text": [
      "2.4821672439575195\n"
     ]
    }
   ],
   "source": [
    "#speed list\n",
    "a=[i for i in range(10000000)]\n",
    "b=[i for i in range(10000000,20000000)]\n",
    "\n",
    "c=[]\n",
    "import time\n",
    "\n",
    "start=time.time()\n",
    "for i in range(10000000):\n",
    "    c.append(a[i]+b[i])\n",
    "\n",
    "print(time.time()-start)"
   ]
  },
  {
   "cell_type": "code",
   "execution_count": 9,
   "id": "d815984c",
   "metadata": {},
   "outputs": [
    {
     "name": "stdout",
     "output_type": "stream",
     "text": [
      "0.01973104476928711\n"
     ]
    }
   ],
   "source": [
    "# numpy speed\n",
    "import numpy as np\n",
    "\n",
    "a=np.arange(10000000)\n",
    "b=np.arange(10000000,20000000)\n",
    "\n",
    "start=time.time()\n",
    "c=a+b\n",
    "print(time.time()-start)"
   ]
  },
  {
   "cell_type": "code",
   "execution_count": 15,
   "id": "b8fbfb0e",
   "metadata": {},
   "outputs": [
    {
     "name": "stdout",
     "output_type": "stream",
     "text": [
      "89095160\n"
     ]
    }
   ],
   "source": [
    "#memory of list\n",
    "a=[i for i in range(10000000)]\n",
    "import sys\n",
    "print(sys.getsizeof(a))"
   ]
  },
  {
   "cell_type": "code",
   "execution_count": 14,
   "id": "0a44e123",
   "metadata": {},
   "outputs": [
    {
     "name": "stdout",
     "output_type": "stream",
     "text": [
      "40000112\n"
     ]
    }
   ],
   "source": [
    "#memory of numpy\n",
    "a=np.arange(10000000)\n",
    "import sys\n",
    "print(sys.getsizeof(a))"
   ]
  },
  {
   "cell_type": "code",
   "execution_count": null,
   "id": "0e7a00cd",
   "metadata": {},
   "outputs": [],
   "source": [
    "#convenience\n",
    "#convenient to do operations in numpy arrays\n",
    "#faster than list\n",
    "#faster to access elements\n",
    "#memory efficient"
   ]
  }
 ],
 "metadata": {
  "kernelspec": {
   "display_name": "dsenv",
   "language": "python",
   "name": "python3"
  },
  "language_info": {
   "codemirror_mode": {
    "name": "ipython",
    "version": 3
   },
   "file_extension": ".py",
   "mimetype": "text/x-python",
   "name": "python",
   "nbconvert_exporter": "python",
   "pygments_lexer": "ipython3",
   "version": "3.11.13"
  }
 },
 "nbformat": 4,
 "nbformat_minor": 5
}
