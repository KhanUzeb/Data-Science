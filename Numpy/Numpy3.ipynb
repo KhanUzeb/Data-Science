{
 "cells": [
  {
   "cell_type": "markdown",
   "id": "91003061",
   "metadata": {},
   "source": [
    "## NUMPY TRICKS ##"
   ]
  },
  {
   "cell_type": "markdown",
   "id": "a5eaaa1a",
   "metadata": {},
   "source": [
    ">RETURN A SORTED COPY OF AN ARRAY"
   ]
  },
  {
   "cell_type": "code",
   "execution_count": 2,
   "id": "ceab4e71",
   "metadata": {},
   "outputs": [
    {
     "data": {
      "text/plain": [
       "array([14, 17, 19, 19, 28, 30, 37, 49, 56, 67, 69, 71, 78, 93, 93],\n",
       "      dtype=int32)"
      ]
     },
     "execution_count": 2,
     "metadata": {},
     "output_type": "execute_result"
    }
   ],
   "source": [
    "#code\n",
    "import numpy as np\n",
    "a=np.random.randint(1,100,15)\n",
    "a\n",
    "np.sort(a)#sorts the array in ascending order\n",
    "#for descending order\n",
    "#np.sort(a)[::-1]"
   ]
  },
  {
   "cell_type": "code",
   "execution_count": 4,
   "id": "101585b3",
   "metadata": {},
   "outputs": [
    {
     "data": {
      "text/plain": [
       "array([[ 9,  7, 15,  6],\n",
       "       [46, 20, 37, 18],\n",
       "       [48, 23, 54, 37],\n",
       "       [65, 35, 69, 59],\n",
       "       [65, 77, 85, 86],\n",
       "       [97, 99, 85, 99]], dtype=int32)"
      ]
     },
     "execution_count": 4,
     "metadata": {},
     "output_type": "execute_result"
    }
   ],
   "source": [
    "b= np.random.randint(1,100,24).reshape(6,4)\n",
    "b\n",
    "np.sort(b,axis=0)#sorts the array in ascending order columnwise\n",
    "#for descending order\n",
    "#np.sort(b)[::-1]"
   ]
  },
  {
   "cell_type": "markdown",
   "id": "515782ae",
   "metadata": {},
   "source": [
    ">np.append\n",
    "\n",
    ">appends values at end of array\n"
   ]
  },
  {
   "cell_type": "code",
   "execution_count": 23,
   "id": "1eacb9a8",
   "metadata": {},
   "outputs": [
    {
     "data": {
      "text/plain": [
       "array([ 68,  74,  85,  40,  19,  61,  89,  82,  71,  87,  25,  70,  35,\n",
       "        33,  33, 200])"
      ]
     },
     "execution_count": 23,
     "metadata": {},
     "output_type": "execute_result"
    }
   ],
   "source": [
    "np.append(a,200)"
   ]
  },
  {
   "cell_type": "code",
   "execution_count": null,
   "id": "abc608d5",
   "metadata": {},
   "outputs": [
    {
     "data": {
      "text/plain": [
       "array([[40., 33., 72., 51.,  1.],\n",
       "       [80., 12., 18., 86.,  1.],\n",
       "       [68., 93., 48., 31.,  1.],\n",
       "       [50., 93., 39., 76.,  1.],\n",
       "       [19., 97., 20., 96.,  1.],\n",
       "       [18., 77., 93., 39.,  1.]])"
      ]
     },
     "execution_count": 12,
     "metadata": {},
     "output_type": "execute_result"
    }
   ],
   "source": [
    "np.append(b,np.ones((b.shape[0],1)),axis=1)#adding 1 in last column"
   ]
  },
  {
   "cell_type": "markdown",
   "id": "0d193fbb",
   "metadata": {},
   "source": [
    ">np.concatenate\n",
    "\n",
    ">concatenate a sequence of arrays along an existing axis"
   ]
  },
  {
   "cell_type": "code",
   "execution_count": null,
   "id": "dc646e74",
   "metadata": {},
   "outputs": [
    {
     "data": {
      "text/plain": [
       "array([[ 0,  1,  2,  6,  7,  8],\n",
       "       [ 3,  4,  5,  9, 10, 11]])"
      ]
     },
     "execution_count": 15,
     "metadata": {},
     "output_type": "execute_result"
    }
   ],
   "source": [
    "c=np.arange(6).reshape(2,3)\n",
    "d=np.arange(6,12).reshape(2,3)\n",
    "np.concatenate((c,d),axis=0)#concatenates row wise\n",
    "np.concatenate((c,d),axis=1)#concatenates column wise"
   ]
  },
  {
   "cell_type": "markdown",
   "id": "05a5bb82",
   "metadata": {},
   "source": [
    ">np.unique\n",
    "\n",
    "we can get the unique values from an array"
   ]
  },
  {
   "cell_type": "code",
   "execution_count": 16,
   "id": "bf797151",
   "metadata": {},
   "outputs": [
    {
     "data": {
      "text/plain": [
       "array([1, 2, 3, 4, 5])"
      ]
     },
     "execution_count": 16,
     "metadata": {},
     "output_type": "execute_result"
    }
   ],
   "source": [
    "e=np.array([1,1,2,2,3,3,4,4,5,5])\n",
    "np.unique(e)"
   ]
  },
  {
   "cell_type": "markdown",
   "id": "85d9fe90",
   "metadata": {},
   "source": [
    ">np.expand_dims\n",
    "\n",
    "we can expand the dimensions of an array"
   ]
  },
  {
   "cell_type": "code",
   "execution_count": 21,
   "id": "9a86da12",
   "metadata": {},
   "outputs": [
    {
     "data": {
      "text/plain": [
       "array([[68],\n",
       "       [74],\n",
       "       [85],\n",
       "       [40],\n",
       "       [19],\n",
       "       [61],\n",
       "       [89],\n",
       "       [82],\n",
       "       [71],\n",
       "       [87],\n",
       "       [25],\n",
       "       [70],\n",
       "       [35],\n",
       "       [33],\n",
       "       [33]], dtype=int32)"
      ]
     },
     "execution_count": 21,
     "metadata": {},
     "output_type": "execute_result"
    }
   ],
   "source": [
    "np.expand_dims(a, axis=1)"
   ]
  },
  {
   "cell_type": "markdown",
   "id": "75cc6504",
   "metadata": {},
   "source": [
    ">np.where\n",
    "\n",
    "The Function returns the indices of elements in array"
   ]
  },
  {
   "cell_type": "code",
   "execution_count": 25,
   "id": "590a430c",
   "metadata": {},
   "outputs": [
    {
     "data": {
      "text/plain": [
       "(array([ 0,  1,  2,  5,  6,  7,  8,  9, 11]),)"
      ]
     },
     "execution_count": 25,
     "metadata": {},
     "output_type": "execute_result"
    }
   ],
   "source": [
    "a\n",
    "np.where(a>50)"
   ]
  },
  {
   "cell_type": "code",
   "execution_count": 27,
   "id": "33ffafb2",
   "metadata": {},
   "outputs": [
    {
     "data": {
      "text/plain": [
       "array([ 0,  0,  0, 40, 19,  0,  0,  0,  0,  0, 25,  0, 35, 33, 33],\n",
       "      dtype=int32)"
      ]
     },
     "execution_count": 27,
     "metadata": {},
     "output_type": "execute_result"
    }
   ],
   "source": [
    "#replace all values greater than 50 with 0\n",
    "np.where(a>50,0,a)"
   ]
  },
  {
   "cell_type": "markdown",
   "id": "865859de",
   "metadata": {},
   "source": [
    ">np.argmax\n",
    "\n",
    "returns the indices of the max element of the array in a particular axis"
   ]
  },
  {
   "cell_type": "code",
   "execution_count": 28,
   "id": "42ea5224",
   "metadata": {},
   "outputs": [
    {
     "data": {
      "text/plain": [
       "np.int64(6)"
      ]
     },
     "execution_count": 28,
     "metadata": {},
     "output_type": "execute_result"
    }
   ],
   "source": [
    "np.argmax(a)"
   ]
  },
  {
   "cell_type": "code",
   "execution_count": 30,
   "id": "1f34093e",
   "metadata": {},
   "outputs": [
    {
     "data": {
      "text/plain": [
       "array([2, 3, 1, 1, 1, 2])"
      ]
     },
     "execution_count": 30,
     "metadata": {},
     "output_type": "execute_result"
    }
   ],
   "source": [
    "np.argmax(b,axis=1)"
   ]
  },
  {
   "cell_type": "markdown",
   "id": "70877ae1",
   "metadata": {},
   "source": [
    ">np.argmin\n",
    "\n",
    "Does Opposite Work Of Argmax"
   ]
  },
  {
   "cell_type": "code",
   "execution_count": 31,
   "id": "b3f884d9",
   "metadata": {},
   "outputs": [
    {
     "data": {
      "text/plain": [
       "np.int64(4)"
      ]
     },
     "execution_count": 31,
     "metadata": {},
     "output_type": "execute_result"
    }
   ],
   "source": [
    "np.argmin(a)"
   ]
  },
  {
   "cell_type": "code",
   "execution_count": 32,
   "id": "44de0711",
   "metadata": {},
   "outputs": [
    {
     "data": {
      "text/plain": [
       "array([5, 1, 1, 2])"
      ]
     },
     "execution_count": 32,
     "metadata": {},
     "output_type": "execute_result"
    }
   ],
   "source": [
    "np.argmin(b,axis=0)"
   ]
  },
  {
   "cell_type": "markdown",
   "id": "aa5b72e6",
   "metadata": {},
   "source": [
    "Day 2 Of Numpy Tricks"
   ]
  },
  {
   "cell_type": "markdown",
   "id": "ac3d080f",
   "metadata": {},
   "source": [
    ">np.cumsum\n",
    "\n",
    "Gives The Cumulative Sum Of The Array In A Given Axis"
   ]
  },
  {
   "cell_type": "code",
   "execution_count": 3,
   "id": "e74986e7",
   "metadata": {},
   "outputs": [
    {
     "data": {
      "text/plain": [
       "array([ 67, 123, 153, 170, 189, 258, 272, 350, 443, 514, 563, 600, 619,\n",
       "       712, 740])"
      ]
     },
     "execution_count": 3,
     "metadata": {},
     "output_type": "execute_result"
    }
   ],
   "source": [
    "a\n",
    "np.cumsum(a)"
   ]
  },
  {
   "cell_type": "code",
   "execution_count": 6,
   "id": "d34feab9",
   "metadata": {},
   "outputs": [
    {
     "data": {
      "text/plain": [
       "array([[ 65,   7,  69,  18],\n",
       "       [113,  27, 106, 117],\n",
       "       [122,  62, 160, 203],\n",
       "       [219, 161, 175, 240],\n",
       "       [265, 238, 260, 299],\n",
       "       [330, 261, 345, 305]])"
      ]
     },
     "execution_count": 6,
     "metadata": {},
     "output_type": "execute_result"
    }
   ],
   "source": [
    "b\n",
    "np.cumsum(b,axis=0)"
   ]
  },
  {
   "cell_type": "markdown",
   "id": "8221a32a",
   "metadata": {},
   "source": [
    ">np.cumprod"
   ]
  },
  {
   "cell_type": "code",
   "execution_count": 7,
   "id": "53983a25",
   "metadata": {},
   "outputs": [
    {
     "data": {
      "text/plain": [
       "array([                  67,                 3752,               112560,\n",
       "                    1913520,             36356880,           2508624720,\n",
       "                35120746080,        2739418194240,      254765892064320,\n",
       "          18088378336566720,   886330538491769280, -4099258223223639872,\n",
       "       -4098929946410951104,  6181140531682131264,  7051238223713710848])"
      ]
     },
     "execution_count": 7,
     "metadata": {},
     "output_type": "execute_result"
    }
   ],
   "source": [
    "a\n",
    "np.cumprod(a)"
   ]
  },
  {
   "cell_type": "markdown",
   "id": "41c87689",
   "metadata": {},
   "source": [
    ">np.percentile\n",
    "compute the nth percentile of the given data"
   ]
  },
  {
   "cell_type": "code",
   "execution_count": 9,
   "id": "c5d33e8b",
   "metadata": {},
   "outputs": [
    {
     "data": {
      "text/plain": [
       "np.float64(93.0)"
      ]
     },
     "execution_count": 9,
     "metadata": {},
     "output_type": "execute_result"
    }
   ],
   "source": [
    "a\n",
    "np.percentile(a,100)"
   ]
  },
  {
   "cell_type": "markdown",
   "id": "c8cb3bd0",
   "metadata": {},
   "source": [
    ">np.histogram \n",
    "gives the frequency chart of the given data in an array"
   ]
  },
  {
   "cell_type": "code",
   "execution_count": 10,
   "id": "a0bccb42",
   "metadata": {},
   "outputs": [
    {
     "data": {
      "text/plain": [
       "(array([0, 4, 1, 2, 1, 1, 2, 2, 0, 2]),\n",
       " array([  0,  10,  20,  30,  40,  50,  60,  70,  80,  90, 100]))"
      ]
     },
     "execution_count": 10,
     "metadata": {},
     "output_type": "execute_result"
    }
   ],
   "source": [
    "np.histogram(a,bins=[0,10,20,30,40,50,60,70,80,90,100])"
   ]
  },
  {
   "cell_type": "markdown",
   "id": "91f668cb",
   "metadata": {},
   "source": [
    ">np.corrcoef gives returns pearson_moment correlation coefficients"
   ]
  },
  {
   "cell_type": "code",
   "execution_count": 11,
   "id": "63b7b559",
   "metadata": {},
   "outputs": [
    {
     "data": {
      "text/plain": [
       "array([[1., 1.],\n",
       "       [1., 1.]])"
      ]
     },
     "execution_count": 11,
     "metadata": {},
     "output_type": "execute_result"
    }
   ],
   "source": [
    "salary=np.array([10000,20000,30000,40000,50000])\n",
    "experience=np.array([0,1,2,3,4])\n",
    "np.corrcoef(salary,experience)"
   ]
  },
  {
   "cell_type": "markdown",
   "id": "2ed8644f",
   "metadata": {},
   "source": [
    ">np.isin\n",
    "\n",
    "we can search multiple item in an array"
   ]
  },
  {
   "cell_type": "code",
   "execution_count": 17,
   "id": "202c33f0",
   "metadata": {},
   "outputs": [
    {
     "data": {
      "text/plain": [
       "array([30], dtype=int32)"
      ]
     },
     "execution_count": 17,
     "metadata": {},
     "output_type": "execute_result"
    }
   ],
   "source": [
    "items=np.array([10,20,30,40,50,60,70,80,90,100])\n",
    "\n",
    "a[np.isin(a,items)]"
   ]
  },
  {
   "cell_type": "markdown",
   "id": "c9b81ba6",
   "metadata": {},
   "source": [
    ">np.flip\n",
    "\n",
    "reverses the order of array elements preserving the shape of array"
   ]
  },
  {
   "cell_type": "code",
   "execution_count": 19,
   "id": "0a93e4c4",
   "metadata": {},
   "outputs": [
    {
     "data": {
      "text/plain": [
       "array([[65, 23, 85,  6],\n",
       "       [46, 77, 85, 59],\n",
       "       [97, 99, 15, 37],\n",
       "       [ 9, 35, 54, 86],\n",
       "       [48, 20, 37, 99],\n",
       "       [65,  7, 69, 18]], dtype=int32)"
      ]
     },
     "execution_count": 19,
     "metadata": {},
     "output_type": "execute_result"
    }
   ],
   "source": [
    "np.flip(b,axis=0)"
   ]
  },
  {
   "cell_type": "markdown",
   "id": "55d604fb",
   "metadata": {},
   "source": [
    ">np.put"
   ]
  },
  {
   "cell_type": "code",
   "execution_count": 21,
   "id": "0a3b67da",
   "metadata": {},
   "outputs": [
    {
     "name": "stdout",
     "output_type": "stream",
     "text": [
      "[ 1 56  1 17  1 69 14 78 93 71 49 37 19 93 28]\n"
     ]
    }
   ],
   "source": [
    "a\n",
    "np.put(a,[0,2,4],True)\n",
    "print(a)"
   ]
  },
  {
   "cell_type": "markdown",
   "id": "9a60bef1",
   "metadata": {},
   "source": [
    ">np.delete"
   ]
  },
  {
   "cell_type": "code",
   "execution_count": 22,
   "id": "4f6bf964",
   "metadata": {},
   "outputs": [
    {
     "data": {
      "text/plain": [
       "array([56,  1, 17,  1, 69, 14, 78, 93, 71, 49, 37, 19, 93, 28],\n",
       "      dtype=int32)"
      ]
     },
     "execution_count": 22,
     "metadata": {},
     "output_type": "execute_result"
    }
   ],
   "source": [
    "np.delete(a,0)"
   ]
  },
  {
   "cell_type": "markdown",
   "id": "267e6c7e",
   "metadata": {},
   "source": [
    "# SET FUNCTIONS #\n",
    "  .np.union1d\n",
    "\n",
    "  .np.intersect1d\n",
    "\n",
    "  .np.setdiff1d\n",
    "\n",
    "  .np.setexor1d\n",
    "  \n",
    "  .np.in1d"
   ]
  },
  {
   "cell_type": "code",
   "execution_count": 23,
   "id": "20385a63",
   "metadata": {},
   "outputs": [
    {
     "data": {
      "text/plain": [
       "array([], dtype=int64)"
      ]
     },
     "execution_count": 23,
     "metadata": {},
     "output_type": "execute_result"
    }
   ],
   "source": [
    "m=np.array([1,2,3,4,5])\n",
    "n=np.array([6,7,8,9,10])\n",
    "np.intersect1d(m,n)"
   ]
  },
  {
   "cell_type": "code",
   "execution_count": 24,
   "id": "daf8d50d",
   "metadata": {},
   "outputs": [
    {
     "data": {
      "text/plain": [
       "array([ 1,  2,  3,  4,  5,  6,  7,  8,  9, 10])"
      ]
     },
     "execution_count": 24,
     "metadata": {},
     "output_type": "execute_result"
    }
   ],
   "source": [
    "np.union1d(m,n)"
   ]
  },
  {
   "cell_type": "code",
   "execution_count": 25,
   "id": "582662d4",
   "metadata": {},
   "outputs": [
    {
     "data": {
      "text/plain": [
       "array([1, 2, 3, 4, 5])"
      ]
     },
     "execution_count": 25,
     "metadata": {},
     "output_type": "execute_result"
    }
   ],
   "source": [
    "np.setdiff1d(m,n)"
   ]
  },
  {
   "cell_type": "code",
   "execution_count": 26,
   "id": "c9173623",
   "metadata": {},
   "outputs": [
    {
     "data": {
      "text/plain": [
       "array([ 1,  2,  3,  4,  5,  6,  7,  8,  9, 10])"
      ]
     },
     "execution_count": 26,
     "metadata": {},
     "output_type": "execute_result"
    }
   ],
   "source": [
    "np.setxor1d(m,n)"
   ]
  },
  {
   "cell_type": "code",
   "execution_count": 28,
   "id": "f9a14c39",
   "metadata": {},
   "outputs": [
    {
     "name": "stderr",
     "output_type": "stream",
     "text": [
      "C:\\Users\\uzebk\\AppData\\Local\\Temp\\ipykernel_25260\\3930963099.py:1: DeprecationWarning: `in1d` is deprecated. Use `np.isin` instead.\n",
      "  np.in1d(m,1)\n"
     ]
    },
    {
     "data": {
      "text/plain": [
       "array([ True, False, False, False, False])"
      ]
     },
     "execution_count": 28,
     "metadata": {},
     "output_type": "execute_result"
    }
   ],
   "source": [
    "np.in1d(m,1)"
   ]
  },
  {
   "cell_type": "markdown",
   "id": "7d6818d4",
   "metadata": {},
   "source": [
    ">np.clip"
   ]
  },
  {
   "cell_type": "code",
   "execution_count": 29,
   "id": "2485ace8",
   "metadata": {},
   "outputs": [
    {
     "data": {
      "text/plain": [
       "array([30, 56, 30, 30, 30, 69, 30, 70, 70, 70, 49, 37, 30, 70, 30],\n",
       "      dtype=int32)"
      ]
     },
     "execution_count": 29,
     "metadata": {},
     "output_type": "execute_result"
    }
   ],
   "source": [
    "np.clip(a,a_min=30,a_max=70)"
   ]
  },
  {
   "cell_type": "markdown",
   "id": "eb2dc2b0",
   "metadata": {},
   "source": [
    "## NUMPY FINISHED ##"
   ]
  }
 ],
 "metadata": {
  "kernelspec": {
   "display_name": "dsenv",
   "language": "python",
   "name": "python3"
  },
  "language_info": {
   "codemirror_mode": {
    "name": "ipython",
    "version": 3
   },
   "file_extension": ".py",
   "mimetype": "text/x-python",
   "name": "python",
   "nbconvert_exporter": "python",
   "pygments_lexer": "ipython3",
   "version": "3.11.13"
  }
 },
 "nbformat": 4,
 "nbformat_minor": 5
}
