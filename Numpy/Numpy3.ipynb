{
 "cells": [
  {
   "cell_type": "markdown",
   "id": "91003061",
   "metadata": {},
   "source": [
    "## NUMPY TRICKS ##"
   ]
  },
  {
   "cell_type": "markdown",
   "id": "a5eaaa1a",
   "metadata": {},
   "source": [
    ">RETURN A SORTED COPY OF AN ARRAY"
   ]
  },
  {
   "cell_type": "code",
   "execution_count": null,
   "id": "ceab4e71",
   "metadata": {},
   "outputs": [
    {
     "data": {
      "text/plain": [
       "array([19, 25, 33, 33, 35, 40, 61, 68, 70, 71, 74, 82, 85, 87, 89],\n",
       "      dtype=int32)"
      ]
     },
     "execution_count": 4,
     "metadata": {},
     "output_type": "execute_result"
    }
   ],
   "source": [
    "#code\n",
    "import numpy as np\n",
    "a=np.random.randint(1,100,15)\n",
    "a\n",
    "np.sort(a)#sorts the array in ascending order\n",
    "#for descending order\n",
    "#np.sort(a)[::-1]"
   ]
  },
  {
   "cell_type": "code",
   "execution_count": null,
   "id": "101585b3",
   "metadata": {},
   "outputs": [
    {
     "data": {
      "text/plain": [
       "array([[18, 12, 18, 31],\n",
       "       [19, 33, 20, 39],\n",
       "       [40, 77, 39, 51],\n",
       "       [50, 93, 48, 76],\n",
       "       [68, 93, 72, 86],\n",
       "       [80, 97, 93, 96]], dtype=int32)"
      ]
     },
     "execution_count": 10,
     "metadata": {},
     "output_type": "execute_result"
    }
   ],
   "source": [
    "b= np.random.randint(1,100,24).reshape(6,4)\n",
    "b\n",
    "np.sort(b,axis=0)#sorts the array in ascending order columnwise\n",
    "#for descending order\n",
    "#np.sort(b)[::-1]"
   ]
  },
  {
   "cell_type": "markdown",
   "id": "515782ae",
   "metadata": {},
   "source": [
    ">np.append\n",
    "\n",
    ">appends values at end of array\n"
   ]
  },
  {
   "cell_type": "code",
   "execution_count": 23,
   "id": "1eacb9a8",
   "metadata": {},
   "outputs": [
    {
     "data": {
      "text/plain": [
       "array([ 68,  74,  85,  40,  19,  61,  89,  82,  71,  87,  25,  70,  35,\n",
       "        33,  33, 200])"
      ]
     },
     "execution_count": 23,
     "metadata": {},
     "output_type": "execute_result"
    }
   ],
   "source": [
    "np.append(a,200)"
   ]
  },
  {
   "cell_type": "code",
   "execution_count": null,
   "id": "abc608d5",
   "metadata": {},
   "outputs": [
    {
     "data": {
      "text/plain": [
       "array([[40., 33., 72., 51.,  1.],\n",
       "       [80., 12., 18., 86.,  1.],\n",
       "       [68., 93., 48., 31.,  1.],\n",
       "       [50., 93., 39., 76.,  1.],\n",
       "       [19., 97., 20., 96.,  1.],\n",
       "       [18., 77., 93., 39.,  1.]])"
      ]
     },
     "execution_count": 12,
     "metadata": {},
     "output_type": "execute_result"
    }
   ],
   "source": [
    "np.append(b,np.ones((b.shape[0],1)),axis=1)#adding 1 in last column"
   ]
  },
  {
   "cell_type": "markdown",
   "id": "0d193fbb",
   "metadata": {},
   "source": [
    ">np.concatenate\n",
    "\n",
    ">concatenate a sequence of arrays along an existing axis"
   ]
  },
  {
   "cell_type": "code",
   "execution_count": null,
   "id": "dc646e74",
   "metadata": {},
   "outputs": [
    {
     "data": {
      "text/plain": [
       "array([[ 0,  1,  2,  6,  7,  8],\n",
       "       [ 3,  4,  5,  9, 10, 11]])"
      ]
     },
     "execution_count": 15,
     "metadata": {},
     "output_type": "execute_result"
    }
   ],
   "source": [
    "c=np.arange(6).reshape(2,3)\n",
    "d=np.arange(6,12).reshape(2,3)\n",
    "np.concatenate((c,d),axis=0)#concatenates row wise\n",
    "np.concatenate((c,d),axis=1)#concatenates column wise"
   ]
  },
  {
   "cell_type": "markdown",
   "id": "05a5bb82",
   "metadata": {},
   "source": [
    ">np.unique\n",
    "\n",
    "we can get the unique values from an array"
   ]
  },
  {
   "cell_type": "code",
   "execution_count": 16,
   "id": "bf797151",
   "metadata": {},
   "outputs": [
    {
     "data": {
      "text/plain": [
       "array([1, 2, 3, 4, 5])"
      ]
     },
     "execution_count": 16,
     "metadata": {},
     "output_type": "execute_result"
    }
   ],
   "source": [
    "e=np.array([1,1,2,2,3,3,4,4,5,5])\n",
    "np.unique(e)"
   ]
  },
  {
   "cell_type": "markdown",
   "id": "85d9fe90",
   "metadata": {},
   "source": [
    ">np.expand_dims\n",
    "\n",
    "we can expand the dimensions of an array"
   ]
  },
  {
   "cell_type": "code",
   "execution_count": 21,
   "id": "9a86da12",
   "metadata": {},
   "outputs": [
    {
     "data": {
      "text/plain": [
       "array([[68],\n",
       "       [74],\n",
       "       [85],\n",
       "       [40],\n",
       "       [19],\n",
       "       [61],\n",
       "       [89],\n",
       "       [82],\n",
       "       [71],\n",
       "       [87],\n",
       "       [25],\n",
       "       [70],\n",
       "       [35],\n",
       "       [33],\n",
       "       [33]], dtype=int32)"
      ]
     },
     "execution_count": 21,
     "metadata": {},
     "output_type": "execute_result"
    }
   ],
   "source": [
    "np.expand_dims(a, axis=1)"
   ]
  },
  {
   "cell_type": "markdown",
   "id": "75cc6504",
   "metadata": {},
   "source": [
    ">np.where\n",
    "\n",
    "The Function returns the indices of elements in array"
   ]
  },
  {
   "cell_type": "code",
   "execution_count": 25,
   "id": "590a430c",
   "metadata": {},
   "outputs": [
    {
     "data": {
      "text/plain": [
       "(array([ 0,  1,  2,  5,  6,  7,  8,  9, 11]),)"
      ]
     },
     "execution_count": 25,
     "metadata": {},
     "output_type": "execute_result"
    }
   ],
   "source": [
    "a\n",
    "np.where(a>50)"
   ]
  },
  {
   "cell_type": "code",
   "execution_count": 27,
   "id": "33ffafb2",
   "metadata": {},
   "outputs": [
    {
     "data": {
      "text/plain": [
       "array([ 0,  0,  0, 40, 19,  0,  0,  0,  0,  0, 25,  0, 35, 33, 33],\n",
       "      dtype=int32)"
      ]
     },
     "execution_count": 27,
     "metadata": {},
     "output_type": "execute_result"
    }
   ],
   "source": [
    "#replace all values greater than 50 with 0\n",
    "np.where(a>50,0,a)"
   ]
  },
  {
   "cell_type": "markdown",
   "id": "865859de",
   "metadata": {},
   "source": [
    ">np.argmax\n",
    "\n",
    "returns the indices of the max element of the array in a particular axis"
   ]
  },
  {
   "cell_type": "code",
   "execution_count": 28,
   "id": "42ea5224",
   "metadata": {},
   "outputs": [
    {
     "data": {
      "text/plain": [
       "np.int64(6)"
      ]
     },
     "execution_count": 28,
     "metadata": {},
     "output_type": "execute_result"
    }
   ],
   "source": [
    "np.argmax(a)"
   ]
  },
  {
   "cell_type": "code",
   "execution_count": 30,
   "id": "1f34093e",
   "metadata": {},
   "outputs": [
    {
     "data": {
      "text/plain": [
       "array([2, 3, 1, 1, 1, 2])"
      ]
     },
     "execution_count": 30,
     "metadata": {},
     "output_type": "execute_result"
    }
   ],
   "source": [
    "np.argmax(b,axis=1)"
   ]
  },
  {
   "cell_type": "markdown",
   "id": "70877ae1",
   "metadata": {},
   "source": [
    ">np.argmin\n",
    "\n",
    "Does Opposite Work Of Argmax"
   ]
  },
  {
   "cell_type": "code",
   "execution_count": 31,
   "id": "b3f884d9",
   "metadata": {},
   "outputs": [
    {
     "data": {
      "text/plain": [
       "np.int64(4)"
      ]
     },
     "execution_count": 31,
     "metadata": {},
     "output_type": "execute_result"
    }
   ],
   "source": [
    "np.argmin(a)"
   ]
  },
  {
   "cell_type": "code",
   "execution_count": 32,
   "id": "44de0711",
   "metadata": {},
   "outputs": [
    {
     "data": {
      "text/plain": [
       "array([5, 1, 1, 2])"
      ]
     },
     "execution_count": 32,
     "metadata": {},
     "output_type": "execute_result"
    }
   ],
   "source": [
    "np.argmin(b,axis=0)"
   ]
  }
 ],
 "metadata": {
  "kernelspec": {
   "display_name": "dsenv",
   "language": "python",
   "name": "python3"
  },
  "language_info": {
   "codemirror_mode": {
    "name": "ipython",
    "version": 3
   },
   "file_extension": ".py",
   "mimetype": "text/x-python",
   "name": "python",
   "nbconvert_exporter": "python",
   "pygments_lexer": "ipython3",
   "version": "3.11.13"
  }
 },
 "nbformat": 4,
 "nbformat_minor": 5
}
