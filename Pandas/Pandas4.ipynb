{
 "cells": [
  {
   "cell_type": "markdown",
   "id": "f8a88d10",
   "metadata": {},
   "source": [
    "# Merging Joining & Concatenation"
   ]
  },
  {
   "cell_type": "code",
   "execution_count": 2,
   "id": "6948b3ad",
   "metadata": {},
   "outputs": [],
   "source": [
    "import numpy as np\n",
    "import pandas as pd"
   ]
  },
  {
   "cell_type": "code",
   "execution_count": 3,
   "id": "ef12f8b9",
   "metadata": {},
   "outputs": [],
   "source": [
    "courses=pd.read_csv('courses.csv')\n",
    "students=pd.read_csv('students.csv')\n",
    "reg2=pd.read_csv('reg-month2.csv')\n",
    "reg1=pd.read_csv('reg-month1.csv')\n",
    "matches=pd.read_csv('matches.csv')\n",
    "deliveries=pd.read_csv('deliveries.csv')"
   ]
  },
  {
   "cell_type": "code",
   "execution_count": 5,
   "id": "479b9e56",
   "metadata": {},
   "outputs": [
    {
     "data": {
      "application/vnd.microsoft.datawrangler.viewer.v0+json": {
       "columns": [
        {
         "name": "index",
         "rawType": "int64",
         "type": "integer"
        },
        {
         "name": "student_id",
         "rawType": "int64",
         "type": "integer"
        },
        {
         "name": "course_id",
         "rawType": "int64",
         "type": "integer"
        }
       ],
       "ref": "0f950613-6f7b-4407-bb58-55ea284d4d3b",
       "rows": [
        [
         "0",
         "23",
         "1"
        ],
        [
         "1",
         "15",
         "5"
        ],
        [
         "2",
         "18",
         "6"
        ],
        [
         "3",
         "23",
         "4"
        ],
        [
         "4",
         "16",
         "9"
        ]
       ],
       "shape": {
        "columns": 2,
        "rows": 5
       }
      },
      "text/html": [
       "<div>\n",
       "<style scoped>\n",
       "    .dataframe tbody tr th:only-of-type {\n",
       "        vertical-align: middle;\n",
       "    }\n",
       "\n",
       "    .dataframe tbody tr th {\n",
       "        vertical-align: top;\n",
       "    }\n",
       "\n",
       "    .dataframe thead th {\n",
       "        text-align: right;\n",
       "    }\n",
       "</style>\n",
       "<table border=\"1\" class=\"dataframe\">\n",
       "  <thead>\n",
       "    <tr style=\"text-align: right;\">\n",
       "      <th></th>\n",
       "      <th>student_id</th>\n",
       "      <th>course_id</th>\n",
       "    </tr>\n",
       "  </thead>\n",
       "  <tbody>\n",
       "    <tr>\n",
       "      <th>0</th>\n",
       "      <td>23</td>\n",
       "      <td>1</td>\n",
       "    </tr>\n",
       "    <tr>\n",
       "      <th>1</th>\n",
       "      <td>15</td>\n",
       "      <td>5</td>\n",
       "    </tr>\n",
       "    <tr>\n",
       "      <th>2</th>\n",
       "      <td>18</td>\n",
       "      <td>6</td>\n",
       "    </tr>\n",
       "    <tr>\n",
       "      <th>3</th>\n",
       "      <td>23</td>\n",
       "      <td>4</td>\n",
       "    </tr>\n",
       "    <tr>\n",
       "      <th>4</th>\n",
       "      <td>16</td>\n",
       "      <td>9</td>\n",
       "    </tr>\n",
       "  </tbody>\n",
       "</table>\n",
       "</div>"
      ],
      "text/plain": [
       "   student_id  course_id\n",
       "0          23          1\n",
       "1          15          5\n",
       "2          18          6\n",
       "3          23          4\n",
       "4          16          9"
      ]
     },
     "execution_count": 5,
     "metadata": {},
     "output_type": "execute_result"
    }
   ],
   "source": [
    "pd.concat([reg1, reg2], ignore_index=True).head()"
   ]
  },
  {
   "cell_type": "code",
   "execution_count": 13,
   "id": "8a1c3535",
   "metadata": {},
   "outputs": [
    {
     "data": {
      "application/vnd.microsoft.datawrangler.viewer.v0+json": {
       "columns": [
        {
         "name": "index",
         "rawType": "int64",
         "type": "integer"
        },
        {
         "name": "student_id",
         "rawType": "int64",
         "type": "integer"
        },
        {
         "name": "course_id",
         "rawType": "int64",
         "type": "integer"
        }
       ],
       "ref": "a3458521-4b55-4c45-ab90-48141069cf92",
       "rows": [
        [
         "7",
         "7",
         "8"
        ],
        [
         "13",
         "11",
         "7"
        ],
        [
         "3",
         "23",
         "4"
        ]
       ],
       "shape": {
        "columns": 2,
        "rows": 3
       }
      },
      "text/html": [
       "<div>\n",
       "<style scoped>\n",
       "    .dataframe tbody tr th:only-of-type {\n",
       "        vertical-align: middle;\n",
       "    }\n",
       "\n",
       "    .dataframe tbody tr th {\n",
       "        vertical-align: top;\n",
       "    }\n",
       "\n",
       "    .dataframe thead th {\n",
       "        text-align: right;\n",
       "    }\n",
       "</style>\n",
       "<table border=\"1\" class=\"dataframe\">\n",
       "  <thead>\n",
       "    <tr style=\"text-align: right;\">\n",
       "      <th></th>\n",
       "      <th>student_id</th>\n",
       "      <th>course_id</th>\n",
       "    </tr>\n",
       "  </thead>\n",
       "  <tbody>\n",
       "    <tr>\n",
       "      <th>7</th>\n",
       "      <td>7</td>\n",
       "      <td>8</td>\n",
       "    </tr>\n",
       "    <tr>\n",
       "      <th>13</th>\n",
       "      <td>11</td>\n",
       "      <td>7</td>\n",
       "    </tr>\n",
       "    <tr>\n",
       "      <th>3</th>\n",
       "      <td>23</td>\n",
       "      <td>4</td>\n",
       "    </tr>\n",
       "  </tbody>\n",
       "</table>\n",
       "</div>"
      ],
      "text/plain": [
       "    student_id  course_id\n",
       "7            7          8\n",
       "13          11          7\n",
       "3           23          4"
      ]
     },
     "execution_count": 13,
     "metadata": {},
     "output_type": "execute_result"
    }
   ],
   "source": [
    "multi=pd.concat([reg1,reg2],keys=['month1','month2']).sample(5)\n",
    "multi.loc['month1'].head()"
   ]
  },
  {
   "cell_type": "code",
   "execution_count": 14,
   "id": "384c3ac4",
   "metadata": {},
   "outputs": [
    {
     "data": {
      "application/vnd.microsoft.datawrangler.viewer.v0+json": {
       "columns": [
        {
         "name": "index",
         "rawType": "int64",
         "type": "integer"
        },
        {
         "name": "student_id",
         "rawType": "float64",
         "type": "float"
        },
        {
         "name": "course_id",
         "rawType": "float64",
         "type": "float"
        },
        {
         "name": "student_id",
         "rawType": "int64",
         "type": "integer"
        },
        {
         "name": "course_id",
         "rawType": "int64",
         "type": "integer"
        }
       ],
       "ref": "b0efb70d-a317-4380-ac04-8c6d2af52227",
       "rows": [
        [
         "0",
         "23.0",
         "1.0",
         "3",
         "5"
        ],
        [
         "1",
         "15.0",
         "5.0",
         "16",
         "7"
        ],
        [
         "2",
         "18.0",
         "6.0",
         "12",
         "10"
        ],
        [
         "3",
         "23.0",
         "4.0",
         "12",
         "1"
        ],
        [
         "4",
         "16.0",
         "9.0",
         "14",
         "9"
        ]
       ],
       "shape": {
        "columns": 4,
        "rows": 5
       }
      },
      "text/html": [
       "<div>\n",
       "<style scoped>\n",
       "    .dataframe tbody tr th:only-of-type {\n",
       "        vertical-align: middle;\n",
       "    }\n",
       "\n",
       "    .dataframe tbody tr th {\n",
       "        vertical-align: top;\n",
       "    }\n",
       "\n",
       "    .dataframe thead th {\n",
       "        text-align: right;\n",
       "    }\n",
       "</style>\n",
       "<table border=\"1\" class=\"dataframe\">\n",
       "  <thead>\n",
       "    <tr style=\"text-align: right;\">\n",
       "      <th></th>\n",
       "      <th>student_id</th>\n",
       "      <th>course_id</th>\n",
       "      <th>student_id</th>\n",
       "      <th>course_id</th>\n",
       "    </tr>\n",
       "  </thead>\n",
       "  <tbody>\n",
       "    <tr>\n",
       "      <th>0</th>\n",
       "      <td>23.0</td>\n",
       "      <td>1.0</td>\n",
       "      <td>3</td>\n",
       "      <td>5</td>\n",
       "    </tr>\n",
       "    <tr>\n",
       "      <th>1</th>\n",
       "      <td>15.0</td>\n",
       "      <td>5.0</td>\n",
       "      <td>16</td>\n",
       "      <td>7</td>\n",
       "    </tr>\n",
       "    <tr>\n",
       "      <th>2</th>\n",
       "      <td>18.0</td>\n",
       "      <td>6.0</td>\n",
       "      <td>12</td>\n",
       "      <td>10</td>\n",
       "    </tr>\n",
       "    <tr>\n",
       "      <th>3</th>\n",
       "      <td>23.0</td>\n",
       "      <td>4.0</td>\n",
       "      <td>12</td>\n",
       "      <td>1</td>\n",
       "    </tr>\n",
       "    <tr>\n",
       "      <th>4</th>\n",
       "      <td>16.0</td>\n",
       "      <td>9.0</td>\n",
       "      <td>14</td>\n",
       "      <td>9</td>\n",
       "    </tr>\n",
       "  </tbody>\n",
       "</table>\n",
       "</div>"
      ],
      "text/plain": [
       "   student_id  course_id  student_id  course_id\n",
       "0        23.0        1.0           3          5\n",
       "1        15.0        5.0          16          7\n",
       "2        18.0        6.0          12         10\n",
       "3        23.0        4.0          12          1\n",
       "4        16.0        9.0          14          9"
      ]
     },
     "execution_count": 14,
     "metadata": {},
     "output_type": "execute_result"
    }
   ],
   "source": [
    "pd.concat([reg1, reg2],axis=1).head()"
   ]
  },
  {
   "cell_type": "markdown",
   "id": "5cdf8f2c",
   "metadata": {},
   "source": [
    "## JOIN"
   ]
  },
  {
   "cell_type": "code",
   "execution_count": 15,
   "id": "ae35f5f9",
   "metadata": {},
   "outputs": [
    {
     "data": {
      "application/vnd.microsoft.datawrangler.viewer.v0+json": {
       "columns": [
        {
         "name": "index",
         "rawType": "int64",
         "type": "integer"
        },
        {
         "name": "student_id",
         "rawType": "int64",
         "type": "integer"
        },
        {
         "name": "name",
         "rawType": "object",
         "type": "string"
        },
        {
         "name": "partner",
         "rawType": "int64",
         "type": "integer"
        },
        {
         "name": "course_id",
         "rawType": "int64",
         "type": "integer"
        }
       ],
       "ref": "e070371f-1879-474c-88ca-431070995fa2",
       "rows": [
        [
         "0",
         "1",
         "Kailash Harjo",
         "23",
         "1"
        ],
        [
         "1",
         "1",
         "Kailash Harjo",
         "23",
         "6"
        ],
        [
         "2",
         "3",
         "Parveen Bhalla",
         "3",
         "3"
        ],
        [
         "3",
         "7",
         "Tarun Thaker",
         "9",
         "8"
        ],
        [
         "4",
         "7",
         "Tarun Thaker",
         "9",
         "10"
        ]
       ],
       "shape": {
        "columns": 4,
        "rows": 5
       }
      },
      "text/html": [
       "<div>\n",
       "<style scoped>\n",
       "    .dataframe tbody tr th:only-of-type {\n",
       "        vertical-align: middle;\n",
       "    }\n",
       "\n",
       "    .dataframe tbody tr th {\n",
       "        vertical-align: top;\n",
       "    }\n",
       "\n",
       "    .dataframe thead th {\n",
       "        text-align: right;\n",
       "    }\n",
       "</style>\n",
       "<table border=\"1\" class=\"dataframe\">\n",
       "  <thead>\n",
       "    <tr style=\"text-align: right;\">\n",
       "      <th></th>\n",
       "      <th>student_id</th>\n",
       "      <th>name</th>\n",
       "      <th>partner</th>\n",
       "      <th>course_id</th>\n",
       "    </tr>\n",
       "  </thead>\n",
       "  <tbody>\n",
       "    <tr>\n",
       "      <th>0</th>\n",
       "      <td>1</td>\n",
       "      <td>Kailash Harjo</td>\n",
       "      <td>23</td>\n",
       "      <td>1</td>\n",
       "    </tr>\n",
       "    <tr>\n",
       "      <th>1</th>\n",
       "      <td>1</td>\n",
       "      <td>Kailash Harjo</td>\n",
       "      <td>23</td>\n",
       "      <td>6</td>\n",
       "    </tr>\n",
       "    <tr>\n",
       "      <th>2</th>\n",
       "      <td>3</td>\n",
       "      <td>Parveen Bhalla</td>\n",
       "      <td>3</td>\n",
       "      <td>3</td>\n",
       "    </tr>\n",
       "    <tr>\n",
       "      <th>3</th>\n",
       "      <td>7</td>\n",
       "      <td>Tarun Thaker</td>\n",
       "      <td>9</td>\n",
       "      <td>8</td>\n",
       "    </tr>\n",
       "    <tr>\n",
       "      <th>4</th>\n",
       "      <td>7</td>\n",
       "      <td>Tarun Thaker</td>\n",
       "      <td>9</td>\n",
       "      <td>10</td>\n",
       "    </tr>\n",
       "  </tbody>\n",
       "</table>\n",
       "</div>"
      ],
      "text/plain": [
       "   student_id            name  partner  course_id\n",
       "0           1   Kailash Harjo       23          1\n",
       "1           1   Kailash Harjo       23          6\n",
       "2           3  Parveen Bhalla        3          3\n",
       "3           7    Tarun Thaker        9          8\n",
       "4           7    Tarun Thaker        9         10"
      ]
     },
     "execution_count": 15,
     "metadata": {},
     "output_type": "execute_result"
    }
   ],
   "source": [
    "#inner join\n",
    "students.merge(reg1,how='inner',on='student_id').head()"
   ]
  },
  {
   "cell_type": "code",
   "execution_count": 19,
   "id": "241eb2e0",
   "metadata": {},
   "outputs": [
    {
     "data": {
      "application/vnd.microsoft.datawrangler.viewer.v0+json": {
       "columns": [
        {
         "name": "index",
         "rawType": "int64",
         "type": "integer"
        },
        {
         "name": "course_id",
         "rawType": "int64",
         "type": "integer"
        },
        {
         "name": "course_name",
         "rawType": "object",
         "type": "string"
        },
        {
         "name": "price",
         "rawType": "int64",
         "type": "integer"
        },
        {
         "name": "student_id",
         "rawType": "float64",
         "type": "float"
        }
       ],
       "ref": "e2262aa0-d5dd-431f-824f-feef5fa03146",
       "rows": [
        [
         "26",
         "12",
         "C++",
         "1299",
         null
        ],
        [
         "17",
         "6",
         "power bi",
         "1899",
         "1.0"
        ],
        [
         "10",
         "3",
         "data analysis",
         "4999",
         "3.0"
        ],
        [
         "1",
         "1",
         "python",
         "2499",
         "18.0"
        ],
        [
         "18",
         "6",
         "power bi",
         "1899",
         "23.0"
        ]
       ],
       "shape": {
        "columns": 4,
        "rows": 5
       }
      },
      "text/html": [
       "<div>\n",
       "<style scoped>\n",
       "    .dataframe tbody tr th:only-of-type {\n",
       "        vertical-align: middle;\n",
       "    }\n",
       "\n",
       "    .dataframe tbody tr th {\n",
       "        vertical-align: top;\n",
       "    }\n",
       "\n",
       "    .dataframe thead th {\n",
       "        text-align: right;\n",
       "    }\n",
       "</style>\n",
       "<table border=\"1\" class=\"dataframe\">\n",
       "  <thead>\n",
       "    <tr style=\"text-align: right;\">\n",
       "      <th></th>\n",
       "      <th>course_id</th>\n",
       "      <th>course_name</th>\n",
       "      <th>price</th>\n",
       "      <th>student_id</th>\n",
       "    </tr>\n",
       "  </thead>\n",
       "  <tbody>\n",
       "    <tr>\n",
       "      <th>26</th>\n",
       "      <td>12</td>\n",
       "      <td>C++</td>\n",
       "      <td>1299</td>\n",
       "      <td>NaN</td>\n",
       "    </tr>\n",
       "    <tr>\n",
       "      <th>17</th>\n",
       "      <td>6</td>\n",
       "      <td>power bi</td>\n",
       "      <td>1899</td>\n",
       "      <td>1.0</td>\n",
       "    </tr>\n",
       "    <tr>\n",
       "      <th>10</th>\n",
       "      <td>3</td>\n",
       "      <td>data analysis</td>\n",
       "      <td>4999</td>\n",
       "      <td>3.0</td>\n",
       "    </tr>\n",
       "    <tr>\n",
       "      <th>1</th>\n",
       "      <td>1</td>\n",
       "      <td>python</td>\n",
       "      <td>2499</td>\n",
       "      <td>18.0</td>\n",
       "    </tr>\n",
       "    <tr>\n",
       "      <th>18</th>\n",
       "      <td>6</td>\n",
       "      <td>power bi</td>\n",
       "      <td>1899</td>\n",
       "      <td>23.0</td>\n",
       "    </tr>\n",
       "  </tbody>\n",
       "</table>\n",
       "</div>"
      ],
      "text/plain": [
       "    course_id    course_name  price  student_id\n",
       "26         12            C++   1299         NaN\n",
       "17          6       power bi   1899         1.0\n",
       "10          3  data analysis   4999         3.0\n",
       "1           1         python   2499        18.0\n",
       "18          6       power bi   1899        23.0"
      ]
     },
     "execution_count": 19,
     "metadata": {},
     "output_type": "execute_result"
    }
   ],
   "source": [
    "#left join\n",
    "courses.merge(reg1,how='left',on='course_id').sample(5)"
   ]
  },
  {
   "cell_type": "code",
   "execution_count": 20,
   "id": "12edfe74",
   "metadata": {},
   "outputs": [],
   "source": [
    "#right join\n",
    "temp=pd.DataFrame({\n",
    "    'student_id':[26,27,28],\n",
    "    'name':['rahul','sachin','sourav'],\n",
    "    'partner_id':[1,2,3]\n",
    "})\n",
    "students=pd.concat([students,temp],ignore_index=True)"
   ]
  },
  {
   "cell_type": "code",
   "execution_count": null,
   "id": "c5b38b02",
   "metadata": {},
   "outputs": [
    {
     "data": {
      "application/vnd.microsoft.datawrangler.viewer.v0+json": {
       "columns": [
        {
         "name": "index",
         "rawType": "int64",
         "type": "integer"
        },
        {
         "name": "student_id",
         "rawType": "int64",
         "type": "integer"
        },
        {
         "name": "name",
         "rawType": "object",
         "type": "string"
        },
        {
         "name": "partner",
         "rawType": "float64",
         "type": "float"
        },
        {
         "name": "partner_id",
         "rawType": "float64",
         "type": "float"
        },
        {
         "name": "course_id",
         "rawType": "int64",
         "type": "integer"
        }
       ],
       "ref": "d4de076b-828e-4093-8737-a7dbec7c0ed3",
       "rows": [
        [
         "0",
         "23",
         "Chhavi Lachman",
         "18.0",
         null,
         "1"
        ],
        [
         "17",
         "16",
         "Elias Dodiya",
         "25.0",
         null,
         "5"
        ],
        [
         "4",
         "16",
         "Elias Dodiya",
         "25.0",
         null,
         "9"
        ],
        [
         "18",
         "23",
         "Chhavi Lachman",
         "18.0",
         null,
         "3"
        ],
        [
         "11",
         "1",
         "Kailash Harjo",
         "23.0",
         null,
         "6"
        ]
       ],
       "shape": {
        "columns": 5,
        "rows": 5
       }
      },
      "text/html": [
       "<div>\n",
       "<style scoped>\n",
       "    .dataframe tbody tr th:only-of-type {\n",
       "        vertical-align: middle;\n",
       "    }\n",
       "\n",
       "    .dataframe tbody tr th {\n",
       "        vertical-align: top;\n",
       "    }\n",
       "\n",
       "    .dataframe thead th {\n",
       "        text-align: right;\n",
       "    }\n",
       "</style>\n",
       "<table border=\"1\" class=\"dataframe\">\n",
       "  <thead>\n",
       "    <tr style=\"text-align: right;\">\n",
       "      <th></th>\n",
       "      <th>student_id</th>\n",
       "      <th>name</th>\n",
       "      <th>partner</th>\n",
       "      <th>partner_id</th>\n",
       "      <th>course_id</th>\n",
       "    </tr>\n",
       "  </thead>\n",
       "  <tbody>\n",
       "    <tr>\n",
       "      <th>0</th>\n",
       "      <td>23</td>\n",
       "      <td>Chhavi Lachman</td>\n",
       "      <td>18.0</td>\n",
       "      <td>NaN</td>\n",
       "      <td>1</td>\n",
       "    </tr>\n",
       "    <tr>\n",
       "      <th>17</th>\n",
       "      <td>16</td>\n",
       "      <td>Elias Dodiya</td>\n",
       "      <td>25.0</td>\n",
       "      <td>NaN</td>\n",
       "      <td>5</td>\n",
       "    </tr>\n",
       "    <tr>\n",
       "      <th>4</th>\n",
       "      <td>16</td>\n",
       "      <td>Elias Dodiya</td>\n",
       "      <td>25.0</td>\n",
       "      <td>NaN</td>\n",
       "      <td>9</td>\n",
       "    </tr>\n",
       "    <tr>\n",
       "      <th>18</th>\n",
       "      <td>23</td>\n",
       "      <td>Chhavi Lachman</td>\n",
       "      <td>18.0</td>\n",
       "      <td>NaN</td>\n",
       "      <td>3</td>\n",
       "    </tr>\n",
       "    <tr>\n",
       "      <th>11</th>\n",
       "      <td>1</td>\n",
       "      <td>Kailash Harjo</td>\n",
       "      <td>23.0</td>\n",
       "      <td>NaN</td>\n",
       "      <td>6</td>\n",
       "    </tr>\n",
       "  </tbody>\n",
       "</table>\n",
       "</div>"
      ],
      "text/plain": [
       "    student_id            name  partner  partner_id  course_id\n",
       "0           23  Chhavi Lachman     18.0         NaN          1\n",
       "17          16    Elias Dodiya     25.0         NaN          5\n",
       "4           16    Elias Dodiya     25.0         NaN          9\n",
       "18          23  Chhavi Lachman     18.0         NaN          3\n",
       "11           1   Kailash Harjo     23.0         NaN          6"
      ]
     },
     "execution_count": 22,
     "metadata": {},
     "output_type": "execute_result"
    }
   ],
   "source": [
    "students.merge(reg1,how='right',on='student_id').sample(5)"
   ]
  },
  {
   "cell_type": "code",
   "execution_count": 23,
   "id": "ba8669a7",
   "metadata": {},
   "outputs": [
    {
     "data": {
      "application/vnd.microsoft.datawrangler.viewer.v0+json": {
       "columns": [
        {
         "name": "index",
         "rawType": "int64",
         "type": "integer"
        },
        {
         "name": "student_id",
         "rawType": "int64",
         "type": "integer"
        },
        {
         "name": "name",
         "rawType": "object",
         "type": "string"
        },
        {
         "name": "partner",
         "rawType": "float64",
         "type": "float"
        },
        {
         "name": "partner_id",
         "rawType": "float64",
         "type": "float"
        },
        {
         "name": "course_id",
         "rawType": "float64",
         "type": "float"
        }
       ],
       "ref": "78e8a05f-7fb1-42b1-9114-0e3939b351cb",
       "rows": [
        [
         "33",
         "25",
         "Shashank D’Alia",
         "2.0",
         null,
         "1.0"
        ],
        [
         "34",
         "25",
         "Shashank D’Alia",
         "2.0",
         null,
         "10.0"
        ],
        [
         "35",
         "26",
         "rahul",
         null,
         "1.0",
         null
        ],
        [
         "36",
         "27",
         "sachin",
         null,
         "2.0",
         null
        ],
        [
         "37",
         "28",
         "sourav",
         null,
         "3.0",
         null
        ]
       ],
       "shape": {
        "columns": 5,
        "rows": 5
       }
      },
      "text/html": [
       "<div>\n",
       "<style scoped>\n",
       "    .dataframe tbody tr th:only-of-type {\n",
       "        vertical-align: middle;\n",
       "    }\n",
       "\n",
       "    .dataframe tbody tr th {\n",
       "        vertical-align: top;\n",
       "    }\n",
       "\n",
       "    .dataframe thead th {\n",
       "        text-align: right;\n",
       "    }\n",
       "</style>\n",
       "<table border=\"1\" class=\"dataframe\">\n",
       "  <thead>\n",
       "    <tr style=\"text-align: right;\">\n",
       "      <th></th>\n",
       "      <th>student_id</th>\n",
       "      <th>name</th>\n",
       "      <th>partner</th>\n",
       "      <th>partner_id</th>\n",
       "      <th>course_id</th>\n",
       "    </tr>\n",
       "  </thead>\n",
       "  <tbody>\n",
       "    <tr>\n",
       "      <th>33</th>\n",
       "      <td>25</td>\n",
       "      <td>Shashank D’Alia</td>\n",
       "      <td>2.0</td>\n",
       "      <td>NaN</td>\n",
       "      <td>1.0</td>\n",
       "    </tr>\n",
       "    <tr>\n",
       "      <th>34</th>\n",
       "      <td>25</td>\n",
       "      <td>Shashank D’Alia</td>\n",
       "      <td>2.0</td>\n",
       "      <td>NaN</td>\n",
       "      <td>10.0</td>\n",
       "    </tr>\n",
       "    <tr>\n",
       "      <th>35</th>\n",
       "      <td>26</td>\n",
       "      <td>rahul</td>\n",
       "      <td>NaN</td>\n",
       "      <td>1.0</td>\n",
       "      <td>NaN</td>\n",
       "    </tr>\n",
       "    <tr>\n",
       "      <th>36</th>\n",
       "      <td>27</td>\n",
       "      <td>sachin</td>\n",
       "      <td>NaN</td>\n",
       "      <td>2.0</td>\n",
       "      <td>NaN</td>\n",
       "    </tr>\n",
       "    <tr>\n",
       "      <th>37</th>\n",
       "      <td>28</td>\n",
       "      <td>sourav</td>\n",
       "      <td>NaN</td>\n",
       "      <td>3.0</td>\n",
       "      <td>NaN</td>\n",
       "    </tr>\n",
       "  </tbody>\n",
       "</table>\n",
       "</div>"
      ],
      "text/plain": [
       "    student_id             name  partner  partner_id  course_id\n",
       "33          25  Shashank D’Alia      2.0         NaN        1.0\n",
       "34          25  Shashank D’Alia      2.0         NaN       10.0\n",
       "35          26            rahul      NaN         1.0        NaN\n",
       "36          27           sachin      NaN         2.0        NaN\n",
       "37          28           sourav      NaN         3.0        NaN"
      ]
     },
     "execution_count": 23,
     "metadata": {},
     "output_type": "execute_result"
    }
   ],
   "source": [
    "students.merge(reg1,how='outer',on='student_id').tail(5)"
   ]
  },
  {
   "cell_type": "code",
   "execution_count": 25,
   "id": "856ab20d",
   "metadata": {},
   "outputs": [
    {
     "data": {
      "text/plain": [
       "np.int64(154247)"
      ]
     },
     "execution_count": 25,
     "metadata": {},
     "output_type": "execute_result"
    }
   ],
   "source": [
    "#find total revenue generated by the company\n",
    "regs=pd.concat([reg1,reg2],ignore_index=True)\n",
    "regs.merge(courses,how='inner',on='course_id')['price'].sum()"
   ]
  },
  {
   "cell_type": "code",
   "execution_count": 27,
   "id": "be143177",
   "metadata": {},
   "outputs": [
    {
     "data": {
      "application/vnd.microsoft.datawrangler.viewer.v0+json": {
       "columns": [
        {
         "name": "level_0",
         "rawType": "object",
         "type": "string"
        },
        {
         "name": "price",
         "rawType": "int64",
         "type": "integer"
        }
       ],
       "ref": "e6f54e04-9dae-4845-a467-81e1b5c43419",
       "rows": [
        [
         "month1",
         "89175"
        ],
        [
         "month2",
         "65072"
        ]
       ],
       "shape": {
        "columns": 1,
        "rows": 2
       }
      },
      "text/plain": [
       "level_0\n",
       "month1    89175\n",
       "month2    65072\n",
       "Name: price, dtype: int64"
      ]
     },
     "execution_count": 27,
     "metadata": {},
     "output_type": "execute_result"
    }
   ],
   "source": [
    "#find monthly revenue generated by the company\n",
    "temp=pd.concat([reg1, reg2], keys=['month1', 'month2']).reset_index()\n",
    "temp.merge(courses, how='inner', on='course_id').groupby('level_0')['price'].sum()"
   ]
  },
  {
   "cell_type": "code",
   "execution_count": 29,
   "id": "e343799b",
   "metadata": {},
   "outputs": [
    {
     "data": {
      "application/vnd.microsoft.datawrangler.viewer.v0+json": {
       "columns": [
        {
         "name": "index",
         "rawType": "int64",
         "type": "integer"
        },
        {
         "name": "name",
         "rawType": "object",
         "type": "string"
        },
        {
         "name": "course_name",
         "rawType": "object",
         "type": "string"
        },
        {
         "name": "price",
         "rawType": "int64",
         "type": "integer"
        }
       ],
       "ref": "a3bc6b6a-7438-4d81-962d-7736c0b296a7",
       "rows": [
        [
         "0",
         "Chhavi Lachman",
         "python",
         "2499"
        ],
        [
         "1",
         "Preet Sha",
         "tableau",
         "2499"
        ],
        [
         "2",
         "Fardeen Mahabir",
         "power bi",
         "1899"
        ],
        [
         "3",
         "Chhavi Lachman",
         "machine learning",
         "9999"
        ],
        [
         "4",
         "Elias Dodiya",
         "plotly",
         "699"
        ],
        [
         "5",
         "Fardeen Mahabir",
         "python",
         "2499"
        ],
        [
         "6",
         "Kailash Harjo",
         "python",
         "2499"
        ],
        [
         "7",
         "Tarun Thaker",
         "pandas",
         "1099"
        ],
        [
         "8",
         "Yash Sethi",
         "data analysis",
         "4999"
        ],
        [
         "9",
         "Preet Sha",
         "python",
         "2499"
        ],
        [
         "10",
         "Qabeel Raman",
         "machine learning",
         "9999"
        ],
        [
         "11",
         "Kailash Harjo",
         "power bi",
         "1899"
        ],
        [
         "12",
         "Tarun Thaker",
         "pyspark",
         "2499"
        ],
        [
         "13",
         "David Mukhopadhyay",
         "ms sxcel",
         "1599"
        ],
        [
         "14",
         "Munni Varghese",
         "data analysis",
         "4999"
        ],
        [
         "15",
         "Radhika Suri",
         "machine learning",
         "9999"
        ],
        [
         "16",
         "Seema Kota",
         "python",
         "2499"
        ],
        [
         "17",
         "Elias Dodiya",
         "tableau",
         "2499"
        ],
        [
         "18",
         "Chhavi Lachman",
         "data analysis",
         "4999"
        ],
        [
         "19",
         "Yasmin Palan",
         "ms sxcel",
         "1599"
        ],
        [
         "20",
         "Chhavi Lachman",
         "power bi",
         "1899"
        ],
        [
         "21",
         "Shashank D’Alia",
         "python",
         "2499"
        ],
        [
         "22",
         "Qabeel Raman",
         "sql",
         "3499"
        ],
        [
         "23",
         "Shashank D’Alia",
         "pyspark",
         "2499"
        ],
        [
         "24",
         "Parveen Bhalla",
         "data analysis",
         "4999"
        ],
        [
         "25",
         "Parveen Bhalla",
         "tableau",
         "2499"
        ],
        [
         "26",
         "Elias Dodiya",
         "ms sxcel",
         "1599"
        ],
        [
         "27",
         "Radha Dutt",
         "pyspark",
         "2499"
        ],
        [
         "28",
         "Radha Dutt",
         "python",
         "2499"
        ],
        [
         "29",
         "Pranab Natarajan",
         "plotly",
         "699"
        ],
        [
         "30",
         "Tarun Thaker",
         "ms sxcel",
         "1599"
        ],
        [
         "31",
         "Tarun Thaker",
         "sql",
         "3499"
        ],
        [
         "32",
         "Elias Dodiya",
         "data analysis",
         "4999"
        ],
        [
         "33",
         "Yasmin Palan",
         "pyspark",
         "2499"
        ],
        [
         "34",
         "David Mukhopadhyay",
         "pandas",
         "1099"
        ],
        [
         "35",
         "Pranab Natarajan",
         "power bi",
         "1899"
        ],
        [
         "36",
         "Radha Dutt",
         "tableau",
         "2499"
        ],
        [
         "37",
         "Radha Dutt",
         "ms sxcel",
         "1599"
        ],
        [
         "38",
         "Fardeen Mahabir",
         "pandas",
         "1099"
        ],
        [
         "39",
         "Kailash Harjo",
         "pyspark",
         "2499"
        ],
        [
         "40",
         "Kailash Harjo",
         "plotly",
         "699"
        ],
        [
         "41",
         "Esha Butala",
         "tableau",
         "2499"
        ],
        [
         "42",
         "Tarun Thaker",
         "power bi",
         "1899"
        ],
        [
         "43",
         "Yash Sethi",
         "tableau",
         "2499"
        ],
        [
         "44",
         "Yash Sethi",
         "power bi",
         "1899"
        ],
        [
         "45",
         "Chhavi Lachman",
         "plotly",
         "699"
        ],
        [
         "46",
         "Chhavi Lachman",
         "tableau",
         "2499"
        ],
        [
         "47",
         "Pranab Natarajan",
         "machine learning",
         "9999"
        ],
        [
         "48",
         "Pranab Natarajan",
         "python",
         "2499"
        ],
        [
         "49",
         "David Mukhopadhyay",
         "pyspark",
         "2499"
        ]
       ],
       "shape": {
        "columns": 3,
        "rows": 50
       }
      },
      "text/html": [
       "<div>\n",
       "<style scoped>\n",
       "    .dataframe tbody tr th:only-of-type {\n",
       "        vertical-align: middle;\n",
       "    }\n",
       "\n",
       "    .dataframe tbody tr th {\n",
       "        vertical-align: top;\n",
       "    }\n",
       "\n",
       "    .dataframe thead th {\n",
       "        text-align: right;\n",
       "    }\n",
       "</style>\n",
       "<table border=\"1\" class=\"dataframe\">\n",
       "  <thead>\n",
       "    <tr style=\"text-align: right;\">\n",
       "      <th></th>\n",
       "      <th>name</th>\n",
       "      <th>course_name</th>\n",
       "      <th>price</th>\n",
       "    </tr>\n",
       "  </thead>\n",
       "  <tbody>\n",
       "    <tr>\n",
       "      <th>0</th>\n",
       "      <td>Chhavi Lachman</td>\n",
       "      <td>python</td>\n",
       "      <td>2499</td>\n",
       "    </tr>\n",
       "    <tr>\n",
       "      <th>1</th>\n",
       "      <td>Preet Sha</td>\n",
       "      <td>tableau</td>\n",
       "      <td>2499</td>\n",
       "    </tr>\n",
       "    <tr>\n",
       "      <th>2</th>\n",
       "      <td>Fardeen Mahabir</td>\n",
       "      <td>power bi</td>\n",
       "      <td>1899</td>\n",
       "    </tr>\n",
       "    <tr>\n",
       "      <th>3</th>\n",
       "      <td>Chhavi Lachman</td>\n",
       "      <td>machine learning</td>\n",
       "      <td>9999</td>\n",
       "    </tr>\n",
       "    <tr>\n",
       "      <th>4</th>\n",
       "      <td>Elias Dodiya</td>\n",
       "      <td>plotly</td>\n",
       "      <td>699</td>\n",
       "    </tr>\n",
       "    <tr>\n",
       "      <th>5</th>\n",
       "      <td>Fardeen Mahabir</td>\n",
       "      <td>python</td>\n",
       "      <td>2499</td>\n",
       "    </tr>\n",
       "    <tr>\n",
       "      <th>6</th>\n",
       "      <td>Kailash Harjo</td>\n",
       "      <td>python</td>\n",
       "      <td>2499</td>\n",
       "    </tr>\n",
       "    <tr>\n",
       "      <th>7</th>\n",
       "      <td>Tarun Thaker</td>\n",
       "      <td>pandas</td>\n",
       "      <td>1099</td>\n",
       "    </tr>\n",
       "    <tr>\n",
       "      <th>8</th>\n",
       "      <td>Yash Sethi</td>\n",
       "      <td>data analysis</td>\n",
       "      <td>4999</td>\n",
       "    </tr>\n",
       "    <tr>\n",
       "      <th>9</th>\n",
       "      <td>Preet Sha</td>\n",
       "      <td>python</td>\n",
       "      <td>2499</td>\n",
       "    </tr>\n",
       "    <tr>\n",
       "      <th>10</th>\n",
       "      <td>Qabeel Raman</td>\n",
       "      <td>machine learning</td>\n",
       "      <td>9999</td>\n",
       "    </tr>\n",
       "    <tr>\n",
       "      <th>11</th>\n",
       "      <td>Kailash Harjo</td>\n",
       "      <td>power bi</td>\n",
       "      <td>1899</td>\n",
       "    </tr>\n",
       "    <tr>\n",
       "      <th>12</th>\n",
       "      <td>Tarun Thaker</td>\n",
       "      <td>pyspark</td>\n",
       "      <td>2499</td>\n",
       "    </tr>\n",
       "    <tr>\n",
       "      <th>13</th>\n",
       "      <td>David Mukhopadhyay</td>\n",
       "      <td>ms sxcel</td>\n",
       "      <td>1599</td>\n",
       "    </tr>\n",
       "    <tr>\n",
       "      <th>14</th>\n",
       "      <td>Munni Varghese</td>\n",
       "      <td>data analysis</td>\n",
       "      <td>4999</td>\n",
       "    </tr>\n",
       "    <tr>\n",
       "      <th>15</th>\n",
       "      <td>Radhika Suri</td>\n",
       "      <td>machine learning</td>\n",
       "      <td>9999</td>\n",
       "    </tr>\n",
       "    <tr>\n",
       "      <th>16</th>\n",
       "      <td>Seema Kota</td>\n",
       "      <td>python</td>\n",
       "      <td>2499</td>\n",
       "    </tr>\n",
       "    <tr>\n",
       "      <th>17</th>\n",
       "      <td>Elias Dodiya</td>\n",
       "      <td>tableau</td>\n",
       "      <td>2499</td>\n",
       "    </tr>\n",
       "    <tr>\n",
       "      <th>18</th>\n",
       "      <td>Chhavi Lachman</td>\n",
       "      <td>data analysis</td>\n",
       "      <td>4999</td>\n",
       "    </tr>\n",
       "    <tr>\n",
       "      <th>19</th>\n",
       "      <td>Yasmin Palan</td>\n",
       "      <td>ms sxcel</td>\n",
       "      <td>1599</td>\n",
       "    </tr>\n",
       "    <tr>\n",
       "      <th>20</th>\n",
       "      <td>Chhavi Lachman</td>\n",
       "      <td>power bi</td>\n",
       "      <td>1899</td>\n",
       "    </tr>\n",
       "    <tr>\n",
       "      <th>21</th>\n",
       "      <td>Shashank D’Alia</td>\n",
       "      <td>python</td>\n",
       "      <td>2499</td>\n",
       "    </tr>\n",
       "    <tr>\n",
       "      <th>22</th>\n",
       "      <td>Qabeel Raman</td>\n",
       "      <td>sql</td>\n",
       "      <td>3499</td>\n",
       "    </tr>\n",
       "    <tr>\n",
       "      <th>23</th>\n",
       "      <td>Shashank D’Alia</td>\n",
       "      <td>pyspark</td>\n",
       "      <td>2499</td>\n",
       "    </tr>\n",
       "    <tr>\n",
       "      <th>24</th>\n",
       "      <td>Parveen Bhalla</td>\n",
       "      <td>data analysis</td>\n",
       "      <td>4999</td>\n",
       "    </tr>\n",
       "    <tr>\n",
       "      <th>25</th>\n",
       "      <td>Parveen Bhalla</td>\n",
       "      <td>tableau</td>\n",
       "      <td>2499</td>\n",
       "    </tr>\n",
       "    <tr>\n",
       "      <th>26</th>\n",
       "      <td>Elias Dodiya</td>\n",
       "      <td>ms sxcel</td>\n",
       "      <td>1599</td>\n",
       "    </tr>\n",
       "    <tr>\n",
       "      <th>27</th>\n",
       "      <td>Radha Dutt</td>\n",
       "      <td>pyspark</td>\n",
       "      <td>2499</td>\n",
       "    </tr>\n",
       "    <tr>\n",
       "      <th>28</th>\n",
       "      <td>Radha Dutt</td>\n",
       "      <td>python</td>\n",
       "      <td>2499</td>\n",
       "    </tr>\n",
       "    <tr>\n",
       "      <th>29</th>\n",
       "      <td>Pranab Natarajan</td>\n",
       "      <td>plotly</td>\n",
       "      <td>699</td>\n",
       "    </tr>\n",
       "    <tr>\n",
       "      <th>30</th>\n",
       "      <td>Tarun Thaker</td>\n",
       "      <td>ms sxcel</td>\n",
       "      <td>1599</td>\n",
       "    </tr>\n",
       "    <tr>\n",
       "      <th>31</th>\n",
       "      <td>Tarun Thaker</td>\n",
       "      <td>sql</td>\n",
       "      <td>3499</td>\n",
       "    </tr>\n",
       "    <tr>\n",
       "      <th>32</th>\n",
       "      <td>Elias Dodiya</td>\n",
       "      <td>data analysis</td>\n",
       "      <td>4999</td>\n",
       "    </tr>\n",
       "    <tr>\n",
       "      <th>33</th>\n",
       "      <td>Yasmin Palan</td>\n",
       "      <td>pyspark</td>\n",
       "      <td>2499</td>\n",
       "    </tr>\n",
       "    <tr>\n",
       "      <th>34</th>\n",
       "      <td>David Mukhopadhyay</td>\n",
       "      <td>pandas</td>\n",
       "      <td>1099</td>\n",
       "    </tr>\n",
       "    <tr>\n",
       "      <th>35</th>\n",
       "      <td>Pranab Natarajan</td>\n",
       "      <td>power bi</td>\n",
       "      <td>1899</td>\n",
       "    </tr>\n",
       "    <tr>\n",
       "      <th>36</th>\n",
       "      <td>Radha Dutt</td>\n",
       "      <td>tableau</td>\n",
       "      <td>2499</td>\n",
       "    </tr>\n",
       "    <tr>\n",
       "      <th>37</th>\n",
       "      <td>Radha Dutt</td>\n",
       "      <td>ms sxcel</td>\n",
       "      <td>1599</td>\n",
       "    </tr>\n",
       "    <tr>\n",
       "      <th>38</th>\n",
       "      <td>Fardeen Mahabir</td>\n",
       "      <td>pandas</td>\n",
       "      <td>1099</td>\n",
       "    </tr>\n",
       "    <tr>\n",
       "      <th>39</th>\n",
       "      <td>Kailash Harjo</td>\n",
       "      <td>pyspark</td>\n",
       "      <td>2499</td>\n",
       "    </tr>\n",
       "    <tr>\n",
       "      <th>40</th>\n",
       "      <td>Kailash Harjo</td>\n",
       "      <td>plotly</td>\n",
       "      <td>699</td>\n",
       "    </tr>\n",
       "    <tr>\n",
       "      <th>41</th>\n",
       "      <td>Esha Butala</td>\n",
       "      <td>tableau</td>\n",
       "      <td>2499</td>\n",
       "    </tr>\n",
       "    <tr>\n",
       "      <th>42</th>\n",
       "      <td>Tarun Thaker</td>\n",
       "      <td>power bi</td>\n",
       "      <td>1899</td>\n",
       "    </tr>\n",
       "    <tr>\n",
       "      <th>43</th>\n",
       "      <td>Yash Sethi</td>\n",
       "      <td>tableau</td>\n",
       "      <td>2499</td>\n",
       "    </tr>\n",
       "    <tr>\n",
       "      <th>44</th>\n",
       "      <td>Yash Sethi</td>\n",
       "      <td>power bi</td>\n",
       "      <td>1899</td>\n",
       "    </tr>\n",
       "    <tr>\n",
       "      <th>45</th>\n",
       "      <td>Chhavi Lachman</td>\n",
       "      <td>plotly</td>\n",
       "      <td>699</td>\n",
       "    </tr>\n",
       "    <tr>\n",
       "      <th>46</th>\n",
       "      <td>Chhavi Lachman</td>\n",
       "      <td>tableau</td>\n",
       "      <td>2499</td>\n",
       "    </tr>\n",
       "    <tr>\n",
       "      <th>47</th>\n",
       "      <td>Pranab Natarajan</td>\n",
       "      <td>machine learning</td>\n",
       "      <td>9999</td>\n",
       "    </tr>\n",
       "    <tr>\n",
       "      <th>48</th>\n",
       "      <td>Pranab Natarajan</td>\n",
       "      <td>python</td>\n",
       "      <td>2499</td>\n",
       "    </tr>\n",
       "    <tr>\n",
       "      <th>49</th>\n",
       "      <td>David Mukhopadhyay</td>\n",
       "      <td>pyspark</td>\n",
       "      <td>2499</td>\n",
       "    </tr>\n",
       "  </tbody>\n",
       "</table>\n",
       "</div>"
      ],
      "text/plain": [
       "                  name       course_name  price\n",
       "0       Chhavi Lachman            python   2499\n",
       "1            Preet Sha           tableau   2499\n",
       "2      Fardeen Mahabir          power bi   1899\n",
       "3       Chhavi Lachman  machine learning   9999\n",
       "4         Elias Dodiya            plotly    699\n",
       "5      Fardeen Mahabir            python   2499\n",
       "6        Kailash Harjo            python   2499\n",
       "7         Tarun Thaker            pandas   1099\n",
       "8           Yash Sethi     data analysis   4999\n",
       "9            Preet Sha            python   2499\n",
       "10        Qabeel Raman  machine learning   9999\n",
       "11       Kailash Harjo          power bi   1899\n",
       "12        Tarun Thaker           pyspark   2499\n",
       "13  David Mukhopadhyay          ms sxcel   1599\n",
       "14      Munni Varghese     data analysis   4999\n",
       "15        Radhika Suri  machine learning   9999\n",
       "16          Seema Kota            python   2499\n",
       "17        Elias Dodiya           tableau   2499\n",
       "18      Chhavi Lachman     data analysis   4999\n",
       "19        Yasmin Palan          ms sxcel   1599\n",
       "20      Chhavi Lachman          power bi   1899\n",
       "21     Shashank D’Alia            python   2499\n",
       "22        Qabeel Raman               sql   3499\n",
       "23     Shashank D’Alia           pyspark   2499\n",
       "24      Parveen Bhalla     data analysis   4999\n",
       "25      Parveen Bhalla           tableau   2499\n",
       "26        Elias Dodiya          ms sxcel   1599\n",
       "27          Radha Dutt           pyspark   2499\n",
       "28          Radha Dutt            python   2499\n",
       "29    Pranab Natarajan            plotly    699\n",
       "30        Tarun Thaker          ms sxcel   1599\n",
       "31        Tarun Thaker               sql   3499\n",
       "32        Elias Dodiya     data analysis   4999\n",
       "33        Yasmin Palan           pyspark   2499\n",
       "34  David Mukhopadhyay            pandas   1099\n",
       "35    Pranab Natarajan          power bi   1899\n",
       "36          Radha Dutt           tableau   2499\n",
       "37          Radha Dutt          ms sxcel   1599\n",
       "38     Fardeen Mahabir            pandas   1099\n",
       "39       Kailash Harjo           pyspark   2499\n",
       "40       Kailash Harjo            plotly    699\n",
       "41         Esha Butala           tableau   2499\n",
       "42        Tarun Thaker          power bi   1899\n",
       "43          Yash Sethi           tableau   2499\n",
       "44          Yash Sethi          power bi   1899\n",
       "45      Chhavi Lachman            plotly    699\n",
       "46      Chhavi Lachman           tableau   2499\n",
       "47    Pranab Natarajan  machine learning   9999\n",
       "48    Pranab Natarajan            python   2499\n",
       "49  David Mukhopadhyay           pyspark   2499"
      ]
     },
     "execution_count": 29,
     "metadata": {},
     "output_type": "execute_result"
    }
   ],
   "source": [
    "#print the registration table\n",
    "regs.merge(students, how='inner', on='student_id').merge(courses, how='inner', on='course_id')[['name','course_name','price']]"
   ]
  },
  {
   "cell_type": "code",
   "execution_count": 30,
   "id": "75394927",
   "metadata": {},
   "outputs": [
    {
     "data": {
      "text/plain": [
       "<Axes: xlabel='course_name'>"
      ]
     },
     "execution_count": 30,
     "metadata": {},
     "output_type": "execute_result"
    },
    {
     "data": {
      "image/png": "[encoded data removed]",
      "text/plain": [
       "<Figure size 640x480 with 1 Axes>"
      ]
     },
     "metadata": {},
     "output_type": "display_data"
    }
   ],
   "source": [
    "#plot the bar chart for revenue generated by each course\n",
    "regs.merge(courses, how='inner', on='course_id').groupby('course_name')['price'].sum().plot(kind='bar')"
   ]
  },
  {
   "cell_type": "code",
   "execution_count": 32,
   "id": "67e159d8",
   "metadata": {},
   "outputs": [
    {
     "data": {
      "application/vnd.microsoft.datawrangler.viewer.v0+json": {
       "columns": [
        {
         "name": "index",
         "rawType": "int64",
         "type": "integer"
        },
        {
         "name": "student_id",
         "rawType": "int64",
         "type": "integer"
        },
        {
         "name": "name",
         "rawType": "object",
         "type": "string"
        },
        {
         "name": "partner",
         "rawType": "float64",
         "type": "float"
        },
        {
         "name": "partner_id",
         "rawType": "float64",
         "type": "float"
        }
       ],
       "ref": "8566e343-4bff-4a7e-8d8e-d9d374888b88",
       "rows": [
        [
         "0",
         "1",
         "Kailash Harjo",
         "23.0",
         null
        ],
        [
         "2",
         "3",
         "Parveen Bhalla",
         "3.0",
         null
        ],
        [
         "6",
         "7",
         "Tarun Thaker",
         "9.0",
         null
        ],
        [
         "10",
         "11",
         "David Mukhopadhyay",
         "20.0",
         null
        ],
        [
         "15",
         "16",
         "Elias Dodiya",
         "25.0",
         null
        ],
        [
         "16",
         "17",
         "Yasmin Palan",
         "7.0",
         null
        ],
        [
         "17",
         "18",
         "Fardeen Mahabir",
         "13.0",
         null
        ],
        [
         "21",
         "22",
         "Yash Sethi",
         "21.0",
         null
        ],
        [
         "22",
         "23",
         "Chhavi Lachman",
         "18.0",
         null
        ]
       ],
       "shape": {
        "columns": 4,
        "rows": 9
       }
      },
      "text/html": [
       "<div>\n",
       "<style scoped>\n",
       "    .dataframe tbody tr th:only-of-type {\n",
       "        vertical-align: middle;\n",
       "    }\n",
       "\n",
       "    .dataframe tbody tr th {\n",
       "        vertical-align: top;\n",
       "    }\n",
       "\n",
       "    .dataframe thead th {\n",
       "        text-align: right;\n",
       "    }\n",
       "</style>\n",
       "<table border=\"1\" class=\"dataframe\">\n",
       "  <thead>\n",
       "    <tr style=\"text-align: right;\">\n",
       "      <th></th>\n",
       "      <th>student_id</th>\n",
       "      <th>name</th>\n",
       "      <th>partner</th>\n",
       "      <th>partner_id</th>\n",
       "    </tr>\n",
       "  </thead>\n",
       "  <tbody>\n",
       "    <tr>\n",
       "      <th>0</th>\n",
       "      <td>1</td>\n",
       "      <td>Kailash Harjo</td>\n",
       "      <td>23.0</td>\n",
       "      <td>NaN</td>\n",
       "    </tr>\n",
       "    <tr>\n",
       "      <th>2</th>\n",
       "      <td>3</td>\n",
       "      <td>Parveen Bhalla</td>\n",
       "      <td>3.0</td>\n",
       "      <td>NaN</td>\n",
       "    </tr>\n",
       "    <tr>\n",
       "      <th>6</th>\n",
       "      <td>7</td>\n",
       "      <td>Tarun Thaker</td>\n",
       "      <td>9.0</td>\n",
       "      <td>NaN</td>\n",
       "    </tr>\n",
       "    <tr>\n",
       "      <th>10</th>\n",
       "      <td>11</td>\n",
       "      <td>David Mukhopadhyay</td>\n",
       "      <td>20.0</td>\n",
       "      <td>NaN</td>\n",
       "    </tr>\n",
       "    <tr>\n",
       "      <th>15</th>\n",
       "      <td>16</td>\n",
       "      <td>Elias Dodiya</td>\n",
       "      <td>25.0</td>\n",
       "      <td>NaN</td>\n",
       "    </tr>\n",
       "    <tr>\n",
       "      <th>16</th>\n",
       "      <td>17</td>\n",
       "      <td>Yasmin Palan</td>\n",
       "      <td>7.0</td>\n",
       "      <td>NaN</td>\n",
       "    </tr>\n",
       "    <tr>\n",
       "      <th>17</th>\n",
       "      <td>18</td>\n",
       "      <td>Fardeen Mahabir</td>\n",
       "      <td>13.0</td>\n",
       "      <td>NaN</td>\n",
       "    </tr>\n",
       "    <tr>\n",
       "      <th>21</th>\n",
       "      <td>22</td>\n",
       "      <td>Yash Sethi</td>\n",
       "      <td>21.0</td>\n",
       "      <td>NaN</td>\n",
       "    </tr>\n",
       "    <tr>\n",
       "      <th>22</th>\n",
       "      <td>23</td>\n",
       "      <td>Chhavi Lachman</td>\n",
       "      <td>18.0</td>\n",
       "      <td>NaN</td>\n",
       "    </tr>\n",
       "  </tbody>\n",
       "</table>\n",
       "</div>"
      ],
      "text/plain": [
       "    student_id                name  partner  partner_id\n",
       "0            1       Kailash Harjo     23.0         NaN\n",
       "2            3      Parveen Bhalla      3.0         NaN\n",
       "6            7        Tarun Thaker      9.0         NaN\n",
       "10          11  David Mukhopadhyay     20.0         NaN\n",
       "15          16        Elias Dodiya     25.0         NaN\n",
       "16          17        Yasmin Palan      7.0         NaN\n",
       "17          18     Fardeen Mahabir     13.0         NaN\n",
       "21          22          Yash Sethi     21.0         NaN\n",
       "22          23      Chhavi Lachman     18.0         NaN"
      ]
     },
     "execution_count": 32,
     "metadata": {},
     "output_type": "execute_result"
    }
   ],
   "source": [
    "#find students who enrolled in both the months\n",
    "common=np.intersect1d(reg1['student_id'], reg2['student_id'])\n",
    "students[students['student_id'].isin(common)]"
   ]
  },
  {
   "cell_type": "code",
   "execution_count": 33,
   "id": "2c7c035f",
   "metadata": {},
   "outputs": [
    {
     "data": {
      "application/vnd.microsoft.datawrangler.viewer.v0+json": {
       "columns": [
        {
         "name": "index",
         "rawType": "int64",
         "type": "integer"
        },
        {
         "name": "course_id",
         "rawType": "int64",
         "type": "integer"
        },
        {
         "name": "course_name",
         "rawType": "object",
         "type": "string"
        },
        {
         "name": "price",
         "rawType": "int64",
         "type": "integer"
        }
       ],
       "ref": "75bc5d95-fd69-4e14-ac78-24861ea06aaf",
       "rows": [
        [
         "10",
         "11",
         "Numpy",
         "699"
        ],
        [
         "11",
         "12",
         "C++",
         "1299"
        ]
       ],
       "shape": {
        "columns": 3,
        "rows": 2
       }
      },
      "text/html": [
       "<div>\n",
       "<style scoped>\n",
       "    .dataframe tbody tr th:only-of-type {\n",
       "        vertical-align: middle;\n",
       "    }\n",
       "\n",
       "    .dataframe tbody tr th {\n",
       "        vertical-align: top;\n",
       "    }\n",
       "\n",
       "    .dataframe thead th {\n",
       "        text-align: right;\n",
       "    }\n",
       "</style>\n",
       "<table border=\"1\" class=\"dataframe\">\n",
       "  <thead>\n",
       "    <tr style=\"text-align: right;\">\n",
       "      <th></th>\n",
       "      <th>course_id</th>\n",
       "      <th>course_name</th>\n",
       "      <th>price</th>\n",
       "    </tr>\n",
       "  </thead>\n",
       "  <tbody>\n",
       "    <tr>\n",
       "      <th>10</th>\n",
       "      <td>11</td>\n",
       "      <td>Numpy</td>\n",
       "      <td>699</td>\n",
       "    </tr>\n",
       "    <tr>\n",
       "      <th>11</th>\n",
       "      <td>12</td>\n",
       "      <td>C++</td>\n",
       "      <td>1299</td>\n",
       "    </tr>\n",
       "  </tbody>\n",
       "</table>\n",
       "</div>"
      ],
      "text/plain": [
       "    course_id course_name  price\n",
       "10         11       Numpy    699\n",
       "11         12         C++   1299"
      ]
     },
     "execution_count": 33,
     "metadata": {},
     "output_type": "execute_result"
    }
   ],
   "source": [
    "#find courses which were not enrolled by any student\n",
    "courses[~courses['course_id'].isin(regs['course_id'])]"
   ]
  },
  {
   "cell_type": "code",
   "execution_count": 35,
   "id": "351187b7",
   "metadata": {},
   "outputs": [
    {
     "data": {
      "application/vnd.microsoft.datawrangler.viewer.v0+json": {
       "columns": [
        {
         "name": "index",
         "rawType": "int64",
         "type": "integer"
        },
        {
         "name": "student_id",
         "rawType": "int64",
         "type": "integer"
        },
        {
         "name": "name",
         "rawType": "object",
         "type": "string"
        },
        {
         "name": "partner",
         "rawType": "float64",
         "type": "float"
        },
        {
         "name": "partner_id",
         "rawType": "float64",
         "type": "float"
        }
       ],
       "ref": "715c990a-69fd-4dcc-93d9-dd20d8b68cd7",
       "rows": [
        [
         "3",
         "4",
         "Marlo Dugal",
         "14.0",
         null
        ],
        [
         "4",
         "5",
         "Kusum Bahri",
         "6.0",
         null
        ],
        [
         "5",
         "6",
         "Lakshmi Contractor",
         "10.0",
         null
        ],
        [
         "7",
         "8",
         "Radheshyam Dey",
         "5.0",
         null
        ],
        [
         "8",
         "9",
         "Nitika Chatterjee",
         "4.0",
         null
        ],
        [
         "9",
         "10",
         "Aayushman Sant",
         "8.0",
         null
        ],
        [
         "19",
         "20",
         "Hanuman Hegde",
         "11.0",
         null
        ],
        [
         "25",
         "26",
         "rahul",
         null,
         "1.0"
        ],
        [
         "26",
         "27",
         "sachin",
         null,
         "2.0"
        ],
        [
         "27",
         "28",
         "sourav",
         null,
         "3.0"
        ]
       ],
       "shape": {
        "columns": 4,
        "rows": 10
       }
      },
      "text/html": [
       "<div>\n",
       "<style scoped>\n",
       "    .dataframe tbody tr th:only-of-type {\n",
       "        vertical-align: middle;\n",
       "    }\n",
       "\n",
       "    .dataframe tbody tr th {\n",
       "        vertical-align: top;\n",
       "    }\n",
       "\n",
       "    .dataframe thead th {\n",
       "        text-align: right;\n",
       "    }\n",
       "</style>\n",
       "<table border=\"1\" class=\"dataframe\">\n",
       "  <thead>\n",
       "    <tr style=\"text-align: right;\">\n",
       "      <th></th>\n",
       "      <th>student_id</th>\n",
       "      <th>name</th>\n",
       "      <th>partner</th>\n",
       "      <th>partner_id</th>\n",
       "    </tr>\n",
       "  </thead>\n",
       "  <tbody>\n",
       "    <tr>\n",
       "      <th>3</th>\n",
       "      <td>4</td>\n",
       "      <td>Marlo Dugal</td>\n",
       "      <td>14.0</td>\n",
       "      <td>NaN</td>\n",
       "    </tr>\n",
       "    <tr>\n",
       "      <th>4</th>\n",
       "      <td>5</td>\n",
       "      <td>Kusum Bahri</td>\n",
       "      <td>6.0</td>\n",
       "      <td>NaN</td>\n",
       "    </tr>\n",
       "    <tr>\n",
       "      <th>5</th>\n",
       "      <td>6</td>\n",
       "      <td>Lakshmi Contractor</td>\n",
       "      <td>10.0</td>\n",
       "      <td>NaN</td>\n",
       "    </tr>\n",
       "    <tr>\n",
       "      <th>7</th>\n",
       "      <td>8</td>\n",
       "      <td>Radheshyam Dey</td>\n",
       "      <td>5.0</td>\n",
       "      <td>NaN</td>\n",
       "    </tr>\n",
       "    <tr>\n",
       "      <th>8</th>\n",
       "      <td>9</td>\n",
       "      <td>Nitika Chatterjee</td>\n",
       "      <td>4.0</td>\n",
       "      <td>NaN</td>\n",
       "    </tr>\n",
       "    <tr>\n",
       "      <th>9</th>\n",
       "      <td>10</td>\n",
       "      <td>Aayushman Sant</td>\n",
       "      <td>8.0</td>\n",
       "      <td>NaN</td>\n",
       "    </tr>\n",
       "    <tr>\n",
       "      <th>19</th>\n",
       "      <td>20</td>\n",
       "      <td>Hanuman Hegde</td>\n",
       "      <td>11.0</td>\n",
       "      <td>NaN</td>\n",
       "    </tr>\n",
       "    <tr>\n",
       "      <th>25</th>\n",
       "      <td>26</td>\n",
       "      <td>rahul</td>\n",
       "      <td>NaN</td>\n",
       "      <td>1.0</td>\n",
       "    </tr>\n",
       "    <tr>\n",
       "      <th>26</th>\n",
       "      <td>27</td>\n",
       "      <td>sachin</td>\n",
       "      <td>NaN</td>\n",
       "      <td>2.0</td>\n",
       "    </tr>\n",
       "    <tr>\n",
       "      <th>27</th>\n",
       "      <td>28</td>\n",
       "      <td>sourav</td>\n",
       "      <td>NaN</td>\n",
       "      <td>3.0</td>\n",
       "    </tr>\n",
       "  </tbody>\n",
       "</table>\n",
       "</div>"
      ],
      "text/plain": [
       "    student_id                name  partner  partner_id\n",
       "3            4         Marlo Dugal     14.0         NaN\n",
       "4            5         Kusum Bahri      6.0         NaN\n",
       "5            6  Lakshmi Contractor     10.0         NaN\n",
       "7            8      Radheshyam Dey      5.0         NaN\n",
       "8            9   Nitika Chatterjee      4.0         NaN\n",
       "9           10      Aayushman Sant      8.0         NaN\n",
       "19          20       Hanuman Hegde     11.0         NaN\n",
       "25          26               rahul      NaN         1.0\n",
       "26          27              sachin      NaN         2.0\n",
       "27          28              sourav      NaN         3.0"
      ]
     },
     "execution_count": 35,
     "metadata": {},
     "output_type": "execute_result"
    }
   ],
   "source": [
    "#find students who have not registered for any course\n",
    "students[~students['student_id'].isin(regs['student_id'])]"
   ]
  },
  {
   "cell_type": "code",
   "execution_count": 42,
   "id": "ec3710bc",
   "metadata": {},
   "outputs": [
    {
     "data": {
      "application/vnd.microsoft.datawrangler.viewer.v0+json": {
       "columns": [
        {
         "name": "index",
         "rawType": "int64",
         "type": "integer"
        },
        {
         "name": "name_x",
         "rawType": "object",
         "type": "string"
        },
        {
         "name": "name_y",
         "rawType": "object",
         "type": "string"
        }
       ],
       "ref": "c2792178-2e0e-4bbe-8c40-8d31d1f2cbb2",
       "rows": [
        [
         "0",
         "rahul",
         "Kailash Harjo"
        ],
        [
         "1",
         "sachin",
         "Esha Butala"
        ],
        [
         "2",
         "sourav",
         "Parveen Bhalla"
        ]
       ],
       "shape": {
        "columns": 2,
        "rows": 3
       }
      },
      "text/html": [
       "<div>\n",
       "<style scoped>\n",
       "    .dataframe tbody tr th:only-of-type {\n",
       "        vertical-align: middle;\n",
       "    }\n",
       "\n",
       "    .dataframe tbody tr th {\n",
       "        vertical-align: top;\n",
       "    }\n",
       "\n",
       "    .dataframe thead th {\n",
       "        text-align: right;\n",
       "    }\n",
       "</style>\n",
       "<table border=\"1\" class=\"dataframe\">\n",
       "  <thead>\n",
       "    <tr style=\"text-align: right;\">\n",
       "      <th></th>\n",
       "      <th>name_x</th>\n",
       "      <th>name_y</th>\n",
       "    </tr>\n",
       "  </thead>\n",
       "  <tbody>\n",
       "    <tr>\n",
       "      <th>0</th>\n",
       "      <td>rahul</td>\n",
       "      <td>Kailash Harjo</td>\n",
       "    </tr>\n",
       "    <tr>\n",
       "      <th>1</th>\n",
       "      <td>sachin</td>\n",
       "      <td>Esha Butala</td>\n",
       "    </tr>\n",
       "    <tr>\n",
       "      <th>2</th>\n",
       "      <td>sourav</td>\n",
       "      <td>Parveen Bhalla</td>\n",
       "    </tr>\n",
       "  </tbody>\n",
       "</table>\n",
       "</div>"
      ],
      "text/plain": [
       "   name_x          name_y\n",
       "0   rahul   Kailash Harjo\n",
       "1  sachin     Esha Butala\n",
       "2  sourav  Parveen Bhalla"
      ]
     },
     "execution_count": 42,
     "metadata": {},
     "output_type": "execute_result"
    }
   ],
   "source": [
    "#print the student -> partner mapping using self join\n",
    "students.merge(students, how='inner', left_on='partner_id', right_on='student_id')[['name_x', 'name_y']]"
   ]
  },
  {
   "cell_type": "code",
   "execution_count": 44,
   "id": "4c32e070",
   "metadata": {},
   "outputs": [
    {
     "data": {
      "application/vnd.microsoft.datawrangler.viewer.v0+json": {
       "columns": [
        {
         "name": "index",
         "rawType": "int64",
         "type": "integer"
        },
        {
         "name": "name",
         "rawType": "object",
         "type": "string"
        },
        {
         "name": "course_count",
         "rawType": "int64",
         "type": "integer"
        }
       ],
       "ref": "2dfc05e8-ad90-4566-89b6-d1bff21aa446",
       "rows": [
        [
         "0",
         "Chhavi Lachman",
         "6"
        ],
        [
         "1",
         "Tarun Thaker",
         "5"
        ],
        [
         "2",
         "Kailash Harjo",
         "4"
        ]
       ],
       "shape": {
        "columns": 2,
        "rows": 3
       }
      },
      "text/html": [
       "<div>\n",
       "<style scoped>\n",
       "    .dataframe tbody tr th:only-of-type {\n",
       "        vertical-align: middle;\n",
       "    }\n",
       "\n",
       "    .dataframe tbody tr th {\n",
       "        vertical-align: top;\n",
       "    }\n",
       "\n",
       "    .dataframe thead th {\n",
       "        text-align: right;\n",
       "    }\n",
       "</style>\n",
       "<table border=\"1\" class=\"dataframe\">\n",
       "  <thead>\n",
       "    <tr style=\"text-align: right;\">\n",
       "      <th></th>\n",
       "      <th>name</th>\n",
       "      <th>course_count</th>\n",
       "    </tr>\n",
       "  </thead>\n",
       "  <tbody>\n",
       "    <tr>\n",
       "      <th>0</th>\n",
       "      <td>Chhavi Lachman</td>\n",
       "      <td>6</td>\n",
       "    </tr>\n",
       "    <tr>\n",
       "      <th>1</th>\n",
       "      <td>Tarun Thaker</td>\n",
       "      <td>5</td>\n",
       "    </tr>\n",
       "    <tr>\n",
       "      <th>2</th>\n",
       "      <td>Kailash Harjo</td>\n",
       "      <td>4</td>\n",
       "    </tr>\n",
       "  </tbody>\n",
       "</table>\n",
       "</div>"
      ],
      "text/plain": [
       "             name  course_count\n",
       "0  Chhavi Lachman             6\n",
       "1    Tarun Thaker             5\n",
       "2   Kailash Harjo             4"
      ]
     },
     "execution_count": 44,
     "metadata": {},
     "output_type": "execute_result"
    }
   ],
   "source": [
    "#find top 3 students who enrolled in the most number of courses\n",
    "top_students = regs.groupby('student_id').size().reset_index(name='course_count')\n",
    "top_students = top_students.sort_values(by='course_count', ascending=False).head(3)\n",
    "top_students = top_students.merge(students, on='student_id')[['name', 'course_count']]\n",
    "top_students"
   ]
  },
  {
   "cell_type": "code",
   "execution_count": 48,
   "id": "54e490cf",
   "metadata": {},
   "outputs": [
    {
     "data": {
      "application/vnd.microsoft.datawrangler.viewer.v0+json": {
       "columns": [
        {
         "name": "index",
         "rawType": "int64",
         "type": "integer"
        },
        {
         "name": "name",
         "rawType": "object",
         "type": "string"
        },
        {
         "name": "total_spent",
         "rawType": "int64",
         "type": "integer"
        }
       ],
       "ref": "fb47e694-6008-47a3-ad54-f7fa76f22d76",
       "rows": [
        [
         "0",
         "Chhavi Lachman",
         "22594"
        ],
        [
         "1",
         "Pranab Natarajan",
         "15096"
        ],
        [
         "2",
         "Qabeel Raman",
         "13498"
        ]
       ],
       "shape": {
        "columns": 2,
        "rows": 3
       }
      },
      "text/html": [
       "<div>\n",
       "<style scoped>\n",
       "    .dataframe tbody tr th:only-of-type {\n",
       "        vertical-align: middle;\n",
       "    }\n",
       "\n",
       "    .dataframe tbody tr th {\n",
       "        vertical-align: top;\n",
       "    }\n",
       "\n",
       "    .dataframe thead th {\n",
       "        text-align: right;\n",
       "    }\n",
       "</style>\n",
       "<table border=\"1\" class=\"dataframe\">\n",
       "  <thead>\n",
       "    <tr style=\"text-align: right;\">\n",
       "      <th></th>\n",
       "      <th>name</th>\n",
       "      <th>total_spent</th>\n",
       "    </tr>\n",
       "  </thead>\n",
       "  <tbody>\n",
       "    <tr>\n",
       "      <th>0</th>\n",
       "      <td>Chhavi Lachman</td>\n",
       "      <td>22594</td>\n",
       "    </tr>\n",
       "    <tr>\n",
       "      <th>1</th>\n",
       "      <td>Pranab Natarajan</td>\n",
       "      <td>15096</td>\n",
       "    </tr>\n",
       "    <tr>\n",
       "      <th>2</th>\n",
       "      <td>Qabeel Raman</td>\n",
       "      <td>13498</td>\n",
       "    </tr>\n",
       "  </tbody>\n",
       "</table>\n",
       "</div>"
      ],
      "text/plain": [
       "               name  total_spent\n",
       "0    Chhavi Lachman        22594\n",
       "1  Pranab Natarajan        15096\n",
       "2      Qabeel Raman        13498"
      ]
     },
     "execution_count": 48,
     "metadata": {},
     "output_type": "execute_result"
    }
   ],
   "source": [
    "#find top 3 students who spent the most money on courses\n",
    "top_spenders = regs.merge(courses, on='course_id').groupby('student_id')['price'].sum().nlargest(3).reset_index(name='total_spent').merge(students, on='student_id')[['name', 'total_spent']]\n",
    "top_spenders"
   ]
  },
  {
   "cell_type": "code",
   "execution_count": 68,
   "id": "7bfe78d1",
   "metadata": {},
   "outputs": [
    {
     "data": {
      "application/vnd.microsoft.datawrangler.viewer.v0+json": {
       "columns": [
        {
         "name": "venue",
         "rawType": "object",
         "type": "string"
        },
        {
         "name": "0",
         "rawType": "float64",
         "type": "float"
        }
       ],
       "ref": "338d9cf9-a299-453e-a90f-75fff9416288",
       "rows": [
        [
         "Holkar Cricket Stadium",
         "17.6"
        ],
        [
         "M Chinnaswamy Stadium",
         "13.227272727272727"
        ],
        [
         "Sharjah Cricket Stadium",
         "12.666666666666666"
        ]
       ],
       "shape": {
        "columns": 1,
        "rows": 3
       }
      },
      "text/plain": [
       "venue\n",
       "Holkar Cricket Stadium     17.600000\n",
       "M Chinnaswamy Stadium      13.227273\n",
       "Sharjah Cricket Stadium    12.666667\n",
       "dtype: float64"
      ]
     },
     "execution_count": 68,
     "metadata": {},
     "output_type": "execute_result"
    }
   ],
   "source": [
    "temp_df = deliveries.merge(matches,left_on='match_id',right_on='id')\n",
    "six_df = temp_df[temp_df['batsman_runs'] == 6]\n",
    "num_sixes = six_df.groupby('venue')['venue'].count()\n",
    "num_matches = matches['venue'].value_counts()\n",
    "(num_sixes/num_matches).sort_values(ascending=False).head(3)"
   ]
  }
 ],
 "metadata": {
  "kernelspec": {
   "display_name": "dsenv",
   "language": "python",
   "name": "python3"
  },
  "language_info": {
   "codemirror_mode": {
    "name": "ipython",
    "version": 3
   },
   "file_extension": ".py",
   "mimetype": "text/x-python",
   "name": "python",
   "nbconvert_exporter": "python",
   "pygments_lexer": "ipython3",
   "version": "3.11.13"
  }
 },
 "nbformat": 4,
 "nbformat_minor": 5
}
